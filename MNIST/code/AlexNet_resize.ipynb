{
 "cells": [
  {
   "cell_type": "markdown",
   "metadata": {
    "pycharm": {
     "name": "#%% md\n"
    }
   },
   "source": [
    "# AlexNet_resize"
   ]
  },
  {
   "cell_type": "markdown",
   "metadata": {},
   "source": [
    "### AlexNet\n",
    "- 2012년 ILSVRC 우승 모델 / error_rate:17%\n",
    "\n",
    "1. Architecture\n",
    "    - 5 Convolution_Layey + 3 Fully_Connected_Layer\n",
    "    - Local Response Normalization (Batch Normalization와 유사)\n",
    "    - Overlapping Pooling(X)\n",
    "    - Dropout(0.5)\n",
    "    - activation_function = ReLU\n",
    "    - loss_function = Cross_Entropy\n",
    "    - optimizer = Adam\n",
    "2. Dataset\n",
    "    - Data Augmentation(x)\n",
    "    - tf.keras.layers.Resizing (Resizing 레이어 추가)\n",
    "\n",
    "* 약 9894만개의 매개변수"
   ]
  },
  {
   "cell_type": "markdown",
   "metadata": {
    "pycharm": {
     "name": "#%% md\n"
    },
    "tags": []
   },
   "source": [
    "## Mount Google Drive"
   ]
  },
  {
   "cell_type": "code",
   "execution_count": 5,
   "metadata": {
    "pycharm": {
     "name": "#%%\n"
    },
    "tags": []
   },
   "outputs": [],
   "source": [
    "# Colab 사용시\n",
    "# from google.colab import drive\n",
    "# drive.mount('/content/drive')"
   ]
  },
  {
   "cell_type": "markdown",
   "metadata": {
    "pycharm": {
     "name": "#%% md\n"
    }
   },
   "source": [
    "## Import Library"
   ]
  },
  {
   "cell_type": "code",
   "execution_count": 6,
   "metadata": {
    "collapsed": false,
    "jupyter": {
     "outputs_hidden": false
    },
    "pycharm": {
     "name": "#%%\n"
    }
   },
   "outputs": [],
   "source": [
    "# Data\n",
    "import numpy as np\n",
    "import pandas as pd\n",
    "\n",
    "# Preprcessing\n",
    "\n",
    "# Model\n",
    "import tensorflow as tf\n",
    "from tensorflow.keras import Sequential, activations\n",
    "from tensorflow.keras.layers import Conv2D, MaxPool2D, Dense\n",
    "from tensorflow.keras.models import load_model\n",
    "from tensorflow.keras.callbacks import EarlyStopping, ModelCheckpoint\n",
    "\n",
    "# Evaluation\n",
    "from sklearn.metrics import confusion_matrix, accuracy_score, precision_score, recall_score, f1_score\n",
    "\n",
    "# Visualizatoin\n",
    "from PIL import Image\n",
    "import seaborn as sn\n",
    "import matplotlib.pyplot as plt\n",
    "%matplotlib inline\n",
    "\n",
    "# Env\n",
    "import os"
   ]
  },
  {
   "cell_type": "markdown",
   "metadata": {
    "pycharm": {
     "name": "#%% md\n"
    }
   },
   "source": [
    "## GPU Setting"
   ]
  },
  {
   "cell_type": "code",
   "execution_count": 7,
   "metadata": {
    "collapsed": false,
    "jupyter": {
     "outputs_hidden": false
    },
    "pycharm": {
     "name": "#%%\n"
    }
   },
   "outputs": [
    {
     "name": "stdout",
     "output_type": "stream",
     "text": [
      "GPU found\n"
     ]
    }
   ],
   "source": [
    "if tf.test.gpu_device_name():\n",
    "    print('GPU found')\n",
    "else:\n",
    "    print(\"No GPU found\")"
   ]
  },
  {
   "cell_type": "markdown",
   "metadata": {
    "pycharm": {
     "name": "#%% md\n"
    }
   },
   "source": [
    "## Hyper parameters"
   ]
  },
  {
   "cell_type": "code",
   "execution_count": 8,
   "metadata": {
    "collapsed": false,
    "jupyter": {
     "outputs_hidden": false
    },
    "pycharm": {
     "name": "#%%\n"
    }
   },
   "outputs": [],
   "source": [
    "#Colab\n",
    "DATA_DIR='../data/'\n",
    "SAVE_DIR='../model/AlexNet_resize/'\n",
    "LOAD_DIR='../model/AlexNet_resize/'\n",
    "\n",
    "#Server\n",
    "DATA_DIR='../data/'\n",
    "SAVE_DIR='../model/AlexNet_resize/'\n",
    "LOAD_DIR='../model/AlexNet_resize/'\n",
    "\n",
    "#Local\n",
    "# DATA_DIR='C:/Users/is910/Desktop/MNIST/data/'\n",
    "# SAVE_DIR='C:/Users/is910/Desktop/MNIST/model/AlexNet_resize/'\n",
    "# LOAD_DIR='C:/Users/is910/Desktop/MNIST/model/AlexNet_resize/'\n",
    "\n",
    "#Hyper parameter\n",
    "BATCH_SIZE=128\n",
    "SHUFFLE_BUFFER_SIZE=100\n",
    "VERBOSE=1\n",
    "PATIENCE=3\n",
    "VALIDATION_SPLIT=0.2\n",
    "EPOCHS=10"
   ]
  },
  {
   "cell_type": "markdown",
   "metadata": {
    "pycharm": {
     "name": "#%% md\n"
    }
   },
   "source": [
    "## Load data"
   ]
  },
  {
   "cell_type": "code",
   "execution_count": 9,
   "metadata": {
    "collapsed": false,
    "jupyter": {
     "outputs_hidden": false
    },
    "pycharm": {
     "name": "#%%\n"
    }
   },
   "outputs": [],
   "source": [
    "raw_mnist = tf.keras.datasets.mnist"
   ]
  },
  {
   "cell_type": "code",
   "execution_count": 10,
   "metadata": {
    "collapsed": false,
    "jupyter": {
     "outputs_hidden": false
    },
    "pycharm": {
     "name": "#%%\n"
    }
   },
   "outputs": [],
   "source": [
    "(X_train_raw, y_train), (X_test_raw, y_test) = raw_mnist.load_data()"
   ]
  },
  {
   "cell_type": "code",
   "execution_count": 11,
   "metadata": {},
   "outputs": [
    {
     "name": "stdout",
     "output_type": "stream",
     "text": [
      "class:  ndarray\n",
      "shape:  (60000, 28, 28)\n",
      "strides:  (784, 28, 1)\n",
      "itemsize:  1\n",
      "aligned:  True\n",
      "contiguous:  True\n",
      "fortran:  False\n",
      "data pointer: 0x20d80fda040\n",
      "byteorder:  little\n",
      "byteswap:  False\n",
      "type: uint8\n"
     ]
    }
   ],
   "source": [
    "np.info(X_train_raw)"
   ]
  },
  {
   "cell_type": "markdown",
   "metadata": {
    "pycharm": {
     "name": "#%% md\n"
    }
   },
   "source": [
    "test 개수"
   ]
  },
  {
   "cell_type": "code",
   "execution_count": 13,
   "metadata": {
    "collapsed": false,
    "jupyter": {
     "outputs_hidden": false
    },
    "pycharm": {
     "name": "#%%\n"
    }
   },
   "outputs": [
    {
     "name": "stdout",
     "output_type": "stream",
     "text": [
      "(10000, 28, 28)\n"
     ]
    }
   ],
   "source": [
    "print(X_test_raw.shape)"
   ]
  },
  {
   "cell_type": "code",
   "execution_count": 14,
   "metadata": {},
   "outputs": [
    {
     "name": "stdout",
     "output_type": "stream",
     "text": [
      "(60000,)\n"
     ]
    }
   ],
   "source": [
    "print(y_train.shape)"
   ]
  },
  {
   "cell_type": "markdown",
   "metadata": {
    "pycharm": {
     "name": "#%% md\n"
    }
   },
   "source": [
    "### Matplotlib Image"
   ]
  },
  {
   "cell_type": "code",
   "execution_count": 15,
   "metadata": {
    "collapsed": false,
    "jupyter": {
     "outputs_hidden": false
    },
    "pycharm": {
     "name": "#%%\n"
    }
   },
   "outputs": [
    {
     "data": {
      "image/png": "[encoded data removed]",
      "text/plain": [
       "<Figure size 432x288 with 1 Axes>"
      ]
     },
     "metadata": {
      "needs_background": "light"
     },
     "output_type": "display_data"
    }
   ],
   "source": [
    "plt.imshow(X_train_raw[0], cmap='gray_r', interpolation='nearest')\n",
    "plt.show()"
   ]
  },
  {
   "cell_type": "markdown",
   "metadata": {
    "pycharm": {
     "name": "#%% md\n"
    }
   },
   "source": [
    "### PIL Image"
   ]
  },
  {
   "cell_type": "code",
   "execution_count": 16,
   "metadata": {
    "collapsed": false,
    "jupyter": {
     "outputs_hidden": false
    },
    "pycharm": {
     "name": "#%%\n"
    }
   },
   "outputs": [],
   "source": [
    "# pil_image = Image.fromarray(X_train_raw[0])\n",
    "# pil_image.show()"
   ]
  },
  {
   "cell_type": "markdown",
   "metadata": {
    "pycharm": {
     "name": "#%% md\n"
    }
   },
   "source": [
    "## Preprocessing"
   ]
  },
  {
   "cell_type": "markdown",
   "metadata": {},
   "source": [
    "### Numpy to Tensor"
   ]
  },
  {
   "cell_type": "code",
   "execution_count": 17,
   "metadata": {},
   "outputs": [],
   "source": [
    "X_train_tensor = tf.convert_to_tensor(X_train_raw)\n",
    "X_test_tensor = tf.convert_to_tensor(X_test_raw)"
   ]
  },
  {
   "cell_type": "code",
   "execution_count": 18,
   "metadata": {},
   "outputs": [
    {
     "data": {
      "text/plain": [
       "TensorShape([60000, 28, 28])"
      ]
     },
     "execution_count": 18,
     "metadata": {},
     "output_type": "execute_result"
    }
   ],
   "source": [
    "X_train_tensor.shape"
   ]
  },
  {
   "cell_type": "markdown",
   "metadata": {},
   "source": [
    "### Reshape Tensor"
   ]
  },
  {
   "cell_type": "code",
   "execution_count": 19,
   "metadata": {
    "pycharm": {
     "name": "#%%\n"
    },
    "tags": []
   },
   "outputs": [],
   "source": [
    "X_train_reshape_tensor=tf.reshape(X_train_tensor, [60000, 28, 28, -1])\n",
    "X_test_reshape_tensor=tf.reshape(X_test_tensor, [10000, 28, 28, -1])\n",
    "#X_train=X_train_reshape_tensor.reshape((60000, 28, 28, -1))"
   ]
  },
  {
   "cell_type": "code",
   "execution_count": 20,
   "metadata": {},
   "outputs": [
    {
     "data": {
      "text/plain": [
       "TensorShape([60000, 28, 28, 1])"
      ]
     },
     "execution_count": 20,
     "metadata": {},
     "output_type": "execute_result"
    }
   ],
   "source": [
    "X_train_reshape_tensor.shape"
   ]
  },
  {
   "cell_type": "markdown",
   "metadata": {
    "pycharm": {
     "name": "#%% md\n"
    }
   },
   "source": [
    "### Min-Max Scaling"
   ]
  },
  {
   "cell_type": "code",
   "execution_count": 21,
   "metadata": {
    "collapsed": false,
    "jupyter": {
     "outputs_hidden": false
    },
    "pycharm": {
     "name": "#%%\n"
    }
   },
   "outputs": [],
   "source": [
    "X_train_scaled, X_test_scaled = X_train_reshape_tensor/255, X_test_reshape_tensor/255"
   ]
  },
  {
   "cell_type": "code",
   "execution_count": 22,
   "metadata": {
    "collapsed": false,
    "jupyter": {
     "outputs_hidden": false
    },
    "pycharm": {
     "name": "#%%\n"
    }
   },
   "outputs": [
    {
     "data": {
      "text/plain": [
       "TensorShape([60000, 28, 28, 1])"
      ]
     },
     "execution_count": 22,
     "metadata": {},
     "output_type": "execute_result"
    }
   ],
   "source": [
    "X_train_scaled.shape"
   ]
  },
  {
   "cell_type": "code",
   "execution_count": 23,
   "metadata": {},
   "outputs": [],
   "source": [
    "X_train, X_test = X_train_scaled, X_test_scaled"
   ]
  },
  {
   "cell_type": "markdown",
   "metadata": {
    "pycharm": {
     "name": "#%% md\n"
    },
    "tags": []
   },
   "source": [
    "## Model definition\n",
    "### AlexNet_resize"
   ]
  },
  {
   "cell_type": "code",
   "execution_count": 24,
   "metadata": {
    "pycharm": {
     "name": "#%%\n"
    },
    "tags": []
   },
   "outputs": [],
   "source": [
    "def AlexNet():\n",
    "    # inputs = tf.keras.Input(X_train[0].shape)\n",
    "    inputs = tf.keras.Input(shape=(28, 28, 1))\n",
    "    \n",
    "    # Resizing layer\n",
    "    resize = tf.keras.layers.Resizing(height=227, width=227, interpolation='bilinear')(inputs)\n",
    "    \n",
    "    # first convolution layer\n",
    "    conv_1 = tf.keras.layers.Conv2D(filters=96, kernel_size=11, strides=1, padding='valid', activation=activations.relu)(resize)\n",
    "    pool_1 = tf.keras.layers.MaxPooling2D(pool_size=(2, 2), strides=2)(conv_1)\n",
    "    norm_1 = tf.nn.local_response_normalization(pool_1, depth_radius=5, bias=1, alpha=1, beta=0.5)\n",
    "\n",
    "    # second convolution layer\n",
    "    conv_2 = tf.keras.layers.Conv2D(filters=256, kernel_size=3, strides=1, padding='same', activation=activations.relu)(norm_1)\n",
    "    pool_2 = tf.keras.layers.MaxPooling2D(pool_size=(2, 2), strides=2)(conv_2)\n",
    "    norm_2 = tf.nn.local_response_normalization(pool_2, depth_radius=5, bias=1, alpha=1, beta=0.5)\n",
    "\n",
    "    # third convolution layer\n",
    "    conv_3 = tf.keras.layers.Conv2D(filters=384, kernel_size=3, strides=1, padding='same', activation=activations.relu)(norm_2)\n",
    "\n",
    "    # fourth convolution layer\n",
    "    conv_4 = tf.keras.layers.Conv2D(filters=384, kernel_size=3, strides=1, padding='same', activation=activations.relu)(conv_3)\n",
    "\n",
    "    # fifth convolution layer\n",
    "    conv_5 = tf.keras.layers.Conv2D(filters=256, kernel_size=3, strides=1, padding='same', activation=activations.relu)(conv_4)\n",
    "    pool_5 = tf.keras.layers.MaxPooling2D(pool_size=(2, 2), strides=2)(conv_5)\n",
    "    norm_5 = tf.nn.local_response_normalization(pool_5, depth_radius=5, bias=1, alpha=1, beta=0.5)\n",
    "\n",
    "    # fully connected layer\n",
    "    flatten = tf.keras.layers.Flatten()(norm_5) # 2304\n",
    "    dense_1 = tf.keras.layers.Dense(units=512, activation=activations.relu)(flatten)\n",
    "    dropout_1 = tf.keras.layers.Dropout(rate=0.5)(dense_1)\n",
    "    dense_2 = tf.keras.layers.Dense(units=128, activation=activations.relu)(dropout_1)\n",
    "    dropout_2 = tf.keras.layers.Dropout(rate=0.5)(dense_2)\n",
    "    outputs = tf.keras.layers.Dense(units=10, activation=activations.softmax)(dropout_2)\n",
    "    \n",
    "    return tf.keras.Model(inputs=inputs, outputs=outputs)"
   ]
  },
  {
   "cell_type": "markdown",
   "metadata": {
    "tags": []
   },
   "source": [
    "## Model Summary"
   ]
  },
  {
   "cell_type": "code",
   "execution_count": 25,
   "metadata": {},
   "outputs": [
    {
     "name": "stdout",
     "output_type": "stream",
     "text": [
      "Model: \"model\"\n",
      "_________________________________________________________________\n",
      " Layer (type)                Output Shape              Param #   \n",
      "=================================================================\n",
      " input_1 (InputLayer)        [(None, 28, 28, 1)]       0         \n",
      "                                                                 \n",
      " resizing (Resizing)         (None, 227, 227, 1)       0         \n",
      "                                                                 \n",
      " conv2d (Conv2D)             (None, 217, 217, 96)      11712     \n",
      "                                                                 \n",
      " max_pooling2d (MaxPooling2D  (None, 108, 108, 96)     0         \n",
      " )                                                               \n",
      "                                                                 \n",
      " tf.nn.local_response_normal  (None, 108, 108, 96)     0         \n",
      " ization (TFOpLambda)                                            \n",
      "                                                                 \n",
      " conv2d_1 (Conv2D)           (None, 108, 108, 256)     221440    \n",
      "                                                                 \n",
      " max_pooling2d_1 (MaxPooling  (None, 54, 54, 256)      0         \n",
      " 2D)                                                             \n",
      "                                                                 \n",
      " tf.nn.local_response_normal  (None, 54, 54, 256)      0         \n",
      " ization_1 (TFOpLambda)                                          \n",
      "                                                                 \n",
      " conv2d_2 (Conv2D)           (None, 54, 54, 384)       885120    \n",
      "                                                                 \n",
      " conv2d_3 (Conv2D)           (None, 54, 54, 384)       1327488   \n",
      "                                                                 \n",
      " conv2d_4 (Conv2D)           (None, 54, 54, 256)       884992    \n",
      "                                                                 \n",
      " max_pooling2d_2 (MaxPooling  (None, 27, 27, 256)      0         \n",
      " 2D)                                                             \n",
      "                                                                 \n",
      " tf.nn.local_response_normal  (None, 27, 27, 256)      0         \n",
      " ization_2 (TFOpLambda)                                          \n",
      "                                                                 \n",
      " flatten (Flatten)           (None, 186624)            0         \n",
      "                                                                 \n",
      " dense (Dense)               (None, 512)               95552000  \n",
      "                                                                 \n",
      " dropout (Dropout)           (None, 512)               0         \n",
      "                                                                 \n",
      " dense_1 (Dense)             (None, 128)               65664     \n",
      "                                                                 \n",
      " dropout_1 (Dropout)         (None, 128)               0         \n",
      "                                                                 \n",
      " dense_2 (Dense)             (None, 10)                1290      \n",
      "                                                                 \n",
      "=================================================================\n",
      "Total params: 98,949,706\n",
      "Trainable params: 98,949,706\n",
      "Non-trainable params: 0\n",
      "_________________________________________________________________\n"
     ]
    }
   ],
   "source": [
    "model = AlexNet()\n",
    "model.summary()"
   ]
  },
  {
   "cell_type": "markdown",
   "metadata": {
    "pycharm": {
     "name": "#%% md\n"
    }
   },
   "source": [
    "## Model Compile"
   ]
  },
  {
   "cell_type": "code",
   "execution_count": 22,
   "metadata": {
    "collapsed": false,
    "jupyter": {
     "outputs_hidden": false
    },
    "pycharm": {
     "name": "#%%\n"
    }
   },
   "outputs": [],
   "source": [
    "#early stopping\n",
    "es = EarlyStopping(monitor='val_loss', mode='min', verbose=VERBOSE, patience=PATIENCE, restore_best_weights=True)\n",
    "mcp = ModelCheckpoint(SAVE_DIR+'best-model.h5', monitor='val_accuracy', mode='max', verbose=VERBOSE, save_best_only=True)\n",
    "\n",
    "#compile\n",
    "model.compile(loss='sparse_categorical_crossentropy', optimizer='adam', metrics=['accuracy'])"
   ]
  },
  {
   "cell_type": "markdown",
   "metadata": {
    "pycharm": {
     "name": "#%% md\n"
    }
   },
   "source": [
    "## Train Model"
   ]
  },
  {
   "cell_type": "code",
   "execution_count": 23,
   "metadata": {
    "collapsed": false,
    "jupyter": {
     "outputs_hidden": false
    },
    "pycharm": {
     "name": "#%%\n"
    }
   },
   "outputs": [
    {
     "name": "stdout",
     "output_type": "stream",
     "text": [
      "Epoch 1/10\n",
      "750/750 [==============================] - ETA: 0s - loss: 0.3493 - accuracy: 0.8935\n",
      "Epoch 1: val_accuracy improved from -inf to 0.97967, saving model to ../model/AlexNet_resize\\best-model.h5\n",
      "750/750 [==============================] - 573s 749ms/step - loss: 0.3493 - accuracy: 0.8935 - val_loss: 0.0714 - val_accuracy: 0.9797\n",
      "Epoch 2/10\n",
      "750/750 [==============================] - ETA: 0s - loss: 0.1161 - accuracy: 0.9689\n",
      "Epoch 2: val_accuracy improved from 0.97967 to 0.98308, saving model to ../model/AlexNet_resize\\best-model.h5\n",
      "750/750 [==============================] - 560s 747ms/step - loss: 0.1161 - accuracy: 0.9689 - val_loss: 0.0554 - val_accuracy: 0.9831\n",
      "Epoch 3/10\n",
      "750/750 [==============================] - ETA: 0s - loss: 0.0834 - accuracy: 0.9766\n",
      "Epoch 3: val_accuracy did not improve from 0.98308\n",
      "750/750 [==============================] - 559s 745ms/step - loss: 0.0834 - accuracy: 0.9766 - val_loss: 0.0692 - val_accuracy: 0.9808\n",
      "Epoch 4/10\n",
      "750/750 [==============================] - ETA: 0s - loss: 0.0657 - accuracy: 0.9816\n",
      "Epoch 4: val_accuracy improved from 0.98308 to 0.98700, saving model to ../model/AlexNet_resize\\best-model.h5\n",
      "750/750 [==============================] - 559s 746ms/step - loss: 0.0657 - accuracy: 0.9816 - val_loss: 0.0470 - val_accuracy: 0.9870\n",
      "Epoch 5/10\n",
      "750/750 [==============================] - ETA: 0s - loss: 0.0528 - accuracy: 0.9846\n",
      "Epoch 5: val_accuracy did not improve from 0.98700\n",
      "750/750 [==============================] - 559s 745ms/step - loss: 0.0528 - accuracy: 0.9846 - val_loss: 0.0546 - val_accuracy: 0.9861\n",
      "Epoch 6/10\n",
      "750/750 [==============================] - ETA: 0s - loss: 0.0461 - accuracy: 0.9869\n",
      "Epoch 6: val_accuracy did not improve from 0.98700\n",
      "750/750 [==============================] - 558s 744ms/step - loss: 0.0461 - accuracy: 0.9869 - val_loss: 0.0593 - val_accuracy: 0.9868\n",
      "Epoch 7/10\n",
      "750/750 [==============================] - ETA: 0s - loss: 0.0424 - accuracy: 0.9883Restoring model weights from the end of the best epoch: 4.\n",
      "\n",
      "Epoch 7: val_accuracy improved from 0.98700 to 0.98958, saving model to ../model/AlexNet_resize\\best-model.h5\n",
      "750/750 [==============================] - 559s 745ms/step - loss: 0.0424 - accuracy: 0.9883 - val_loss: 0.0498 - val_accuracy: 0.9896\n",
      "Epoch 7: early stopping\n"
     ]
    }
   ],
   "source": [
    "history = model.fit(X_train, y_train, epochs=EPOCHS, callbacks=[es, mcp], batch_size=BATCH_SIZE, validation_split=VALIDATION_SPLIT)"
   ]
  },
  {
   "cell_type": "markdown",
   "metadata": {
    "pycharm": {
     "name": "#%% md\n"
    }
   },
   "source": [
    "## Test Model"
   ]
  },
  {
   "cell_type": "code",
   "execution_count": 24,
   "metadata": {
    "collapsed": false,
    "jupyter": {
     "outputs_hidden": false
    },
    "pycharm": {
     "name": "#%%\n"
    }
   },
   "outputs": [
    {
     "name": "stdout",
     "output_type": "stream",
     "text": [
      "313/313 [==============================] - 37s 118ms/step - loss: 0.0372 - accuracy: 0.9895\n",
      "Test loss: 0.03718752786517143\n",
      "Test accuracy: 0.9894999861717224\n"
     ]
    }
   ],
   "source": [
    "loaded_model = load_model(SAVE_DIR+'best-model.h5')\n",
    "loss, acc = loaded_model.evaluate(X_test, y_test)\n",
    "\n",
    "print('Test loss:', loss)\n",
    "print('Test accuracy:', acc)"
   ]
  },
  {
   "cell_type": "markdown",
   "metadata": {
    "pycharm": {
     "name": "#%% md\n"
    }
   },
   "source": [
    "## Save Model"
   ]
  },
  {
   "cell_type": "code",
   "execution_count": 25,
   "metadata": {
    "collapsed": false,
    "jupyter": {
     "outputs_hidden": false
    },
    "pycharm": {
     "name": "#%%\n"
    }
   },
   "outputs": [
    {
     "name": "stdout",
     "output_type": "stream",
     "text": [
      "Saved trained model at ../model/AlexNet_resize/trained-model.h5 \n"
     ]
    }
   ],
   "source": [
    "model_name = 'trained-model.h5'\n",
    "\n",
    "# Save model and weights\n",
    "model_path = os.path.join(SAVE_DIR, model_name)\n",
    "model.save(model_path)\n",
    "print('Saved trained model at %s ' % model_path)"
   ]
  },
  {
   "cell_type": "markdown",
   "metadata": {
    "pycharm": {
     "name": "#%% md\n"
    }
   },
   "source": [
    "## Evaluation"
   ]
  },
  {
   "cell_type": "markdown",
   "metadata": {
    "pycharm": {
     "name": "#%% md\n"
    }
   },
   "source": [
    "### Loss / Accuracy"
   ]
  },
  {
   "cell_type": "code",
   "execution_count": 26,
   "metadata": {},
   "outputs": [
    {
     "data": {
      "image/png": "[encoded data removed]",
      "text/plain": [
       "<Figure size 432x288 with 1 Axes>"
      ]
     },
     "metadata": {
      "needs_background": "light"
     },
     "output_type": "display_data"
    }
   ],
   "source": [
    "fig, loss_ax = plt.subplots()\n",
    "\n",
    "loss_ax.plot(history.history['loss'], 'y', label='train loss')\n",
    "loss_ax.plot(history.history['val_loss'], 'r', label='val loss')\n",
    "\n",
    "loss_ax.set_xlabel('epoch')\n",
    "loss_ax.set_ylabel('loss')\n",
    "\n",
    "loss_ax.legend(loc='upper left')\n",
    "plt.show()"
   ]
  },
  {
   "cell_type": "code",
   "execution_count": 27,
   "metadata": {},
   "outputs": [
    {
     "data": {
      "image/png": "[encoded data removed]",
      "text/plain": [
       "<Figure size 432x288 with 1 Axes>"
      ]
     },
     "metadata": {
      "needs_background": "light"
     },
     "output_type": "display_data"
    }
   ],
   "source": [
    "fig, acc_ax = plt.subplots()\n",
    "\n",
    "acc_ax.plot(history.history['accuracy'], 'b', label='train acc')\n",
    "acc_ax.plot(history.history['val_accuracy'], 'g', label='val acc')\n",
    "\n",
    "acc_ax.set_xlabel('epoch')\n",
    "acc_ax.set_ylabel('accuracy')\n",
    "\n",
    "acc_ax.legend(loc='lower left')\n",
    "\n",
    "plt.show()"
   ]
  },
  {
   "cell_type": "code",
   "execution_count": 28,
   "metadata": {
    "collapsed": false,
    "jupyter": {
     "outputs_hidden": false
    },
    "pycharm": {
     "name": "#%%\n"
    }
   },
   "outputs": [],
   "source": [
    "# fig, loss_ax = plt.subplots()\n",
    "# acc_ax = loss_ax.twinx()\n",
    "\n",
    "# loss_ax.plot(history.history['loss'], 'y', label='train loss')\n",
    "# loss_ax.plot(history.history['val_loss'], 'r', label='val loss')\n",
    "\n",
    "# acc_ax.plot(history.history['accuracy'], 'b', label='train acc')\n",
    "# acc_ax.plot(history.history['val_accuracy'], 'g', label='val acc')\n",
    "\n",
    "# loss_ax.set_xlabel('epoch')\n",
    "# loss_ax.set_ylabel('loss')\n",
    "# acc_ax.set_ylabel('accuracy')\n",
    "\n",
    "# loss_ax.legend(loc='upper left')\n",
    "# acc_ax.legend(loc='lower left')\n",
    "\n",
    "# plt.show()"
   ]
  },
  {
   "cell_type": "markdown",
   "metadata": {
    "pycharm": {
     "name": "#%% md\n"
    }
   },
   "source": [
    "\n",
    "### Confusion matrix"
   ]
  },
  {
   "cell_type": "code",
   "execution_count": 29,
   "metadata": {
    "collapsed": false,
    "jupyter": {
     "outputs_hidden": false
    },
    "pycharm": {
     "name": "#%%\n"
    }
   },
   "outputs": [
    {
     "name": "stdout",
     "output_type": "stream",
     "text": [
      "313/313 [==============================] - 36s 115ms/step\n",
      "[7 2 1 ... 4 5 6]\n"
     ]
    }
   ],
   "source": [
    "y_pred = loaded_model.predict(X_test)\n",
    "y_pred = y_pred.argmax(axis=-1)\n",
    "print(y_pred)"
   ]
  },
  {
   "cell_type": "code",
   "execution_count": 30,
   "metadata": {
    "collapsed": false,
    "jupyter": {
     "outputs_hidden": false
    },
    "pycharm": {
     "name": "#%%\n"
    }
   },
   "outputs": [
    {
     "name": "stdout",
     "output_type": "stream",
     "text": [
      "[[ 973    1    1    1    0    0    3    0    0    1]\n",
      " [   0 1132    1    0    0    0    0    1    1    0]\n",
      " [   2    1 1016    0    0    0    1    7    5    0]\n",
      " [   0    0    1 1004    0    3    0    1    1    0]\n",
      " [   0    0    2    0  972    0    5    0    1    2]\n",
      " [   1    0    0    9    0  875    4    0    3    0]\n",
      " [   3    4    0    0    1    2  946    0    2    0]\n",
      " [   0    0    4    2    0    0    0 1021    0    1]\n",
      " [   2    0    2    1    0    0    1    1  961    6]\n",
      " [   1    1    0    2    5    2    1    2    0  995]]\n"
     ]
    },
    {
     "data": {
      "image/png": "[encoded data removed]",
      "text/plain": [
       "<Figure size 864x720 with 2 Axes>"
      ]
     },
     "metadata": {
      "needs_background": "light"
     },
     "output_type": "display_data"
    }
   ],
   "source": [
    "# constant for classes\n",
    "classes = ('0', '1', '2', '3', '4', '5', '6', '7', '8', '9')\n",
    "\n",
    "# Build confusion matrix\n",
    "cf_matrix = confusion_matrix(y_test, y_pred)\n",
    "print(cf_matrix)\n",
    "df_cm = pd.DataFrame(cf_matrix/cf_matrix.sum(axis=1).reshape(10, 1), index = [i for i in classes],\n",
    "                     columns = [i for i in classes])\n",
    "plt.figure(figsize = (12,10))\n",
    "sn.heatmap(df_cm, annot=True, cmap='Blues')\n",
    "plt.savefig(SAVE_DIR + 'output.png')"
   ]
  },
  {
   "cell_type": "markdown",
   "metadata": {
    "pycharm": {
     "name": "#%% md\n"
    }
   },
   "source": [
    "### precision, recall, f1 score"
   ]
  },
  {
   "cell_type": "code",
   "execution_count": 31,
   "metadata": {
    "collapsed": false,
    "jupyter": {
     "outputs_hidden": false
    },
    "pycharm": {
     "name": "#%%\n"
    }
   },
   "outputs": [
    {
     "name": "stdout",
     "output_type": "stream",
     "text": [
      "accuracy_score:  0.9895\n",
      "precision_score:  0.9894664026426048\n",
      "recall_score:  0.9892970324642343\n",
      "f1_score:  0.9893740156640314\n"
     ]
    }
   ],
   "source": [
    "acc_score = accuracy_score(y_test, y_pred)\n",
    "prec_score = precision_score(y_test, y_pred, average='macro')\n",
    "re_score = recall_score(y_test, y_pred, average='macro')\n",
    "f1_score_s = f1_score(y_test, y_pred, average='macro')\n",
    "print(\"accuracy_score: \", acc_score)\n",
    "print(\"precision_score: \", prec_score)\n",
    "print(\"recall_score: \", re_score)\n",
    "print(\"f1_score: \", f1_score_s)"
   ]
  },
  {
   "cell_type": "markdown",
   "metadata": {
    "pycharm": {
     "name": "#%% md\n"
    }
   },
   "source": [
    "## Load Model"
   ]
  },
  {
   "cell_type": "code",
   "execution_count": 32,
   "metadata": {
    "collapsed": false,
    "jupyter": {
     "outputs_hidden": false
    },
    "pycharm": {
     "name": "#%%\n"
    }
   },
   "outputs": [],
   "source": [
    "model_name='trained-model.h5'\n",
    "model_path=os.path.join(LOAD_DIR, model_name)\n",
    "model=load_model(model_path)"
   ]
  },
  {
   "cell_type": "markdown",
   "metadata": {
    "pycharm": {
     "name": "#%% md\n"
    }
   },
   "source": [
    "## Predict"
   ]
  },
  {
   "cell_type": "code",
   "execution_count": 33,
   "metadata": {
    "collapsed": false,
    "jupyter": {
     "outputs_hidden": false
    },
    "pycharm": {
     "name": "#%%\n"
    }
   },
   "outputs": [
    {
     "name": "stdout",
     "output_type": "stream",
     "text": [
      "(60000, 28, 28, 1)\n",
      "(28, 28, 1)\n"
     ]
    }
   ],
   "source": [
    "print(X_train.shape, X_train[0].shape, sep='\\n')"
   ]
  },
  {
   "cell_type": "code",
   "execution_count": 34,
   "metadata": {
    "collapsed": false,
    "jupyter": {
     "outputs_hidden": false
    },
    "pycharm": {
     "name": "#%%\n"
    }
   },
   "outputs": [],
   "source": [
    "def predict_mnist(tensor, model):\n",
    "    sample=tf.reshape(tensor, [-1, 28, 28])\n",
    "    result_prob=model.predict(sample, verbose=0)\n",
    "    result=np.argmax(result_prob)\n",
    "    print(result)"
   ]
  },
  {
   "cell_type": "markdown",
   "metadata": {
    "pycharm": {
     "name": "#%% md\n"
    }
   },
   "source": [
    "5 클래스에 대한 예측"
   ]
  },
  {
   "cell_type": "code",
   "execution_count": 35,
   "metadata": {
    "collapsed": false,
    "jupyter": {
     "outputs_hidden": false
    },
    "pycharm": {
     "name": "#%%\n"
    }
   },
   "outputs": [
    {
     "data": {
      "image/png": "[encoded data removed]",
      "text/plain": [
       "<Figure size 432x288 with 1 Axes>"
      ]
     },
     "metadata": {
      "needs_background": "light"
     },
     "output_type": "display_data"
    }
   ],
   "source": [
    "plt.imshow(X_train[0], cmap='gray_r', interpolation='nearest')\n",
    "plt.show()"
   ]
  },
  {
   "cell_type": "code",
   "execution_count": 36,
   "metadata": {
    "collapsed": false,
    "jupyter": {
     "outputs_hidden": false
    },
    "pycharm": {
     "name": "#%%\n"
    }
   },
   "outputs": [
    {
     "name": "stdout",
     "output_type": "stream",
     "text": [
      "5\n"
     ]
    }
   ],
   "source": [
    "predict_mnist(X_train[0], model)"
   ]
  },
  {
   "cell_type": "markdown",
   "metadata": {
    "pycharm": {
     "name": "#%% md\n"
    }
   },
   "source": [
    " 0 클래스에 대한 예측"
   ]
  },
  {
   "cell_type": "code",
   "execution_count": 37,
   "metadata": {
    "collapsed": false,
    "jupyter": {
     "outputs_hidden": false
    },
    "pycharm": {
     "name": "#%%\n"
    }
   },
   "outputs": [
    {
     "data": {
      "image/png": "[encoded data removed]",
      "text/plain": [
       "<Figure size 432x288 with 1 Axes>"
      ]
     },
     "metadata": {
      "needs_background": "light"
     },
     "output_type": "display_data"
    }
   ],
   "source": [
    "plt.imshow(X_train[1], cmap='gray_r', interpolation='nearest')\n",
    "plt.show()"
   ]
  },
  {
   "cell_type": "code",
   "execution_count": 38,
   "metadata": {
    "collapsed": false,
    "jupyter": {
     "outputs_hidden": false
    },
    "pycharm": {
     "name": "#%%\n"
    }
   },
   "outputs": [
    {
     "name": "stdout",
     "output_type": "stream",
     "text": [
      "0\n"
     ]
    }
   ],
   "source": [
    "predict_mnist(X_train[1], model)"
   ]
  }
 ],
 "metadata": {
  "kernelspec": {
   "display_name": "Python 3 (ipykernel)",
   "language": "python",
   "name": "python3"
  },
  "language_info": {
   "codemirror_mode": {
    "name": "ipython",
    "version": 3
   },
   "file_extension": ".py",
   "mimetype": "text/x-python",
   "name": "python",
   "nbconvert_exporter": "python",
   "pygments_lexer": "ipython3",
   "version": "3.9.12"
  }
 },
 "nbformat": 4,
 "nbformat_minor": 4
}
