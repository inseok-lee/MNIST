{
 "cells": [
  {
   "cell_type": "markdown",
   "metadata": {
    "pycharm": {
     "name": "#%% md\n"
    }
   },
   "source": [
    "# 2 Layer Neural Network"
   ]
  },
  {
   "cell_type": "markdown",
   "metadata": {},
   "source": [
    "* One hidden layer\n",
    "* hidden_units = 300\n",
    "* activation = Sigmoid\n",
    "* loss function = MSE\n",
    "* optimizer = SGD\n",
    "* SGD -> rmsprop or adam 으로 변경할 시 학습속도 매우 빨라짐"
   ]
  },
  {
   "cell_type": "markdown",
   "metadata": {
    "pycharm": {
     "name": "#%% md\n"
    }
   },
   "source": [
    "## Mount Google Drive"
   ]
  },
  {
   "cell_type": "code",
   "execution_count": 1,
   "metadata": {
    "pycharm": {
     "name": "#%%\n"
    },
    "tags": []
   },
   "outputs": [],
   "source": [
    "# Colab 사용시\n",
    "# from google.colab import drive\n",
    "# drive.mount('/content/drive')"
   ]
  },
  {
   "cell_type": "markdown",
   "metadata": {
    "pycharm": {
     "name": "#%% md\n"
    }
   },
   "source": [
    "## Import Library"
   ]
  },
  {
   "cell_type": "code",
   "execution_count": 2,
   "metadata": {
    "collapsed": false,
    "jupyter": {
     "outputs_hidden": false
    },
    "pycharm": {
     "name": "#%%\n"
    }
   },
   "outputs": [
    {
     "data": {
      "text/plain": [
       "'C:\\\\Users\\\\doubleseat\\\\Desktop\\\\MNIST\\\\code'"
      ]
     },
     "execution_count": 2,
     "metadata": {},
     "output_type": "execute_result"
    }
   ],
   "source": [
    "# Data\n",
    "import numpy as np\n",
    "import pandas as pd\n",
    "\n",
    "# Preprcessing\n",
    "from keras.utils import to_categorical\n",
    "\n",
    "# Model\n",
    "import tensorflow as tf\n",
    "from tensorflow.keras import Sequential\n",
    "from tensorflow.keras import activations\n",
    "from tensorflow.keras.layers import Flatten, Dense\n",
    "from tensorflow.keras.models import load_model\n",
    "from tensorflow.keras.callbacks import EarlyStopping, ModelCheckpoint\n",
    "\n",
    "# Evaluation\n",
    "from sklearn.metrics import confusion_matrix, accuracy_score, precision_score, recall_score, f1_score\n",
    "\n",
    "# Visualizatoin\n",
    "from PIL import Image\n",
    "import seaborn as sn\n",
    "import matplotlib.pyplot as plt\n",
    "%matplotlib inline\n",
    "\n",
    "# Env\n",
    "import os\n",
    "os.getcwd()"
   ]
  },
  {
   "cell_type": "markdown",
   "metadata": {
    "pycharm": {
     "name": "#%% md\n"
    }
   },
   "source": [
    "## GPU Setting"
   ]
  },
  {
   "cell_type": "code",
   "execution_count": 3,
   "metadata": {
    "collapsed": false,
    "jupyter": {
     "outputs_hidden": false
    },
    "pycharm": {
     "name": "#%%\n"
    }
   },
   "outputs": [
    {
     "name": "stdout",
     "output_type": "stream",
     "text": [
      "GPU found\n"
     ]
    }
   ],
   "source": [
    "if tf.test.gpu_device_name():\n",
    "    print('GPU found')\n",
    "else:\n",
    "    print(\"No GPU found\")"
   ]
  },
  {
   "cell_type": "markdown",
   "metadata": {
    "pycharm": {
     "name": "#%% md\n"
    }
   },
   "source": [
    "## Hyper parameters"
   ]
  },
  {
   "cell_type": "code",
   "execution_count": 69,
   "metadata": {
    "collapsed": false,
    "jupyter": {
     "outputs_hidden": false
    },
    "pycharm": {
     "name": "#%%\n"
    }
   },
   "outputs": [],
   "source": [
    "#Colab\n",
    "\n",
    "#Server\n",
    "DATA_DIR='../data'\n",
    "SAVE_DIR='../model/2-layer-NN/'\n",
    "LOAD_DIR='../model/2-layer-NN/'\n",
    "\n",
    "#Local\n",
    "# DATA_DIR='C:/Users/is910/Desktop/MNIST/data/'\n",
    "# SAVE_DIR='C:/Users/is910/Desktop/MNIST/model/2-layer-NN/'\n",
    "# LOAD_DIR='C:/Users/is910/Desktop/MNIST/model/2-layer-NN/'\n",
    "\n",
    "#Hyper parameter\n",
    "BATCH_SIZE=64\n",
    "SHUFFLE_BUFFER_SIZE=100\n",
    "VERBOSE=1\n",
    "PATIENCE=100\n",
    "VALIDATION_SPLIT=0.2\n",
    "EPOCHS=200"
   ]
  },
  {
   "cell_type": "markdown",
   "metadata": {
    "pycharm": {
     "name": "#%% md\n"
    }
   },
   "source": [
    "## Load data"
   ]
  },
  {
   "cell_type": "code",
   "execution_count": 5,
   "metadata": {
    "collapsed": false,
    "jupyter": {
     "outputs_hidden": false
    },
    "pycharm": {
     "name": "#%%\n"
    }
   },
   "outputs": [],
   "source": [
    "raw_mnist = tf.keras.datasets.mnist"
   ]
  },
  {
   "cell_type": "code",
   "execution_count": 6,
   "metadata": {
    "collapsed": false,
    "jupyter": {
     "outputs_hidden": false
    },
    "pycharm": {
     "name": "#%%\n"
    }
   },
   "outputs": [],
   "source": [
    "(X_train_raw, y_train), (X_test_raw, y_test) = raw_mnist.load_data()"
   ]
  },
  {
   "cell_type": "code",
   "execution_count": 7,
   "metadata": {},
   "outputs": [
    {
     "name": "stdout",
     "output_type": "stream",
     "text": [
      "class:  ndarray\n",
      "shape:  (60000, 28, 28)\n",
      "strides:  (784, 28, 1)\n",
      "itemsize:  1\n",
      "aligned:  True\n",
      "contiguous:  True\n",
      "fortran:  False\n",
      "data pointer: 0x1a0a3dd3040\n",
      "byteorder:  little\n",
      "byteswap:  False\n",
      "type: uint8\n"
     ]
    }
   ],
   "source": [
    "np.info(X_train_raw)"
   ]
  },
  {
   "cell_type": "markdown",
   "metadata": {
    "pycharm": {
     "name": "#%% md\n"
    }
   },
   "source": [
    "train 개수"
   ]
  },
  {
   "cell_type": "code",
   "execution_count": 8,
   "metadata": {
    "collapsed": false,
    "jupyter": {
     "outputs_hidden": false
    },
    "pycharm": {
     "name": "#%%\n"
    }
   },
   "outputs": [
    {
     "name": "stdout",
     "output_type": "stream",
     "text": [
      "(60000, 28, 28)\n"
     ]
    }
   ],
   "source": [
    "print(X_train_raw.shape)"
   ]
  },
  {
   "cell_type": "markdown",
   "metadata": {
    "pycharm": {
     "name": "#%% md\n"
    }
   },
   "source": [
    "test 개수"
   ]
  },
  {
   "cell_type": "code",
   "execution_count": 9,
   "metadata": {
    "collapsed": false,
    "jupyter": {
     "outputs_hidden": false
    },
    "pycharm": {
     "name": "#%%\n"
    }
   },
   "outputs": [
    {
     "name": "stdout",
     "output_type": "stream",
     "text": [
      "(10000, 28, 28)\n"
     ]
    }
   ],
   "source": [
    "print(X_test_raw.shape)"
   ]
  },
  {
   "cell_type": "code",
   "execution_count": 10,
   "metadata": {},
   "outputs": [
    {
     "name": "stdout",
     "output_type": "stream",
     "text": [
      "(60000,)\n"
     ]
    }
   ],
   "source": [
    "print(y_train.shape)"
   ]
  },
  {
   "cell_type": "markdown",
   "metadata": {
    "pycharm": {
     "name": "#%% md\n"
    }
   },
   "source": [
    "### Matplotlib Image"
   ]
  },
  {
   "cell_type": "code",
   "execution_count": 11,
   "metadata": {
    "collapsed": false,
    "jupyter": {
     "outputs_hidden": false
    },
    "pycharm": {
     "name": "#%%\n"
    }
   },
   "outputs": [
    {
     "data": {
      "image/png": "[encoded data removed]",
      "text/plain": [
       "<Figure size 432x288 with 1 Axes>"
      ]
     },
     "metadata": {
      "needs_background": "light"
     },
     "output_type": "display_data"
    }
   ],
   "source": [
    "plt.imshow(X_train_raw[0], cmap='gray_r', interpolation='nearest')\n",
    "plt.show()"
   ]
  },
  {
   "cell_type": "markdown",
   "metadata": {
    "pycharm": {
     "name": "#%% md\n"
    }
   },
   "source": [
    "### PIL Image"
   ]
  },
  {
   "cell_type": "code",
   "execution_count": 12,
   "metadata": {
    "collapsed": false,
    "jupyter": {
     "outputs_hidden": false
    },
    "pycharm": {
     "name": "#%%\n"
    }
   },
   "outputs": [],
   "source": [
    "# pil_image = Image.fromarray(X_train_raw[0])\n",
    "# pil_image.show()"
   ]
  },
  {
   "cell_type": "markdown",
   "metadata": {
    "pycharm": {
     "name": "#%% md\n"
    }
   },
   "source": [
    "## Preprocessing"
   ]
  },
  {
   "cell_type": "markdown",
   "metadata": {
    "pycharm": {
     "name": "#%% md\n"
    }
   },
   "source": [
    "### Numpy to Tensor"
   ]
  },
  {
   "cell_type": "code",
   "execution_count": 13,
   "metadata": {
    "collapsed": false,
    "jupyter": {
     "outputs_hidden": false
    },
    "pycharm": {
     "name": "#%%\n"
    }
   },
   "outputs": [],
   "source": [
    "X_train_tensor = tf.convert_to_tensor(X_train_raw)\n",
    "X_test_tensor = tf.convert_to_tensor(X_test_raw)"
   ]
  },
  {
   "cell_type": "code",
   "execution_count": 14,
   "metadata": {
    "collapsed": false,
    "jupyter": {
     "outputs_hidden": false
    },
    "pycharm": {
     "name": "#%%\n"
    }
   },
   "outputs": [
    {
     "data": {
      "text/plain": [
       "TensorShape([60000, 28, 28])"
      ]
     },
     "execution_count": 14,
     "metadata": {},
     "output_type": "execute_result"
    }
   ],
   "source": [
    "X_train_tensor.shape"
   ]
  },
  {
   "cell_type": "markdown",
   "metadata": {
    "pycharm": {
     "name": "#%% md\n"
    }
   },
   "source": [
    "### Min-Max Scaling"
   ]
  },
  {
   "cell_type": "code",
   "execution_count": 15,
   "metadata": {
    "collapsed": false,
    "jupyter": {
     "outputs_hidden": false
    },
    "pycharm": {
     "name": "#%%\n"
    }
   },
   "outputs": [],
   "source": [
    "X_train_scaled, X_test_scaled = X_train_tensor/255, X_test_tensor/255"
   ]
  },
  {
   "cell_type": "code",
   "execution_count": 16,
   "metadata": {
    "collapsed": false,
    "jupyter": {
     "outputs_hidden": false
    },
    "pycharm": {
     "name": "#%%\n"
    }
   },
   "outputs": [
    {
     "data": {
      "text/plain": [
       "TensorShape([60000, 28, 28])"
      ]
     },
     "execution_count": 16,
     "metadata": {},
     "output_type": "execute_result"
    }
   ],
   "source": [
    "np.shape(X_train_scaled)"
   ]
  },
  {
   "cell_type": "code",
   "execution_count": 17,
   "metadata": {},
   "outputs": [],
   "source": [
    "X_train, X_test = X_train_scaled, X_test_scaled"
   ]
  },
  {
   "cell_type": "markdown",
   "metadata": {},
   "source": [
    "### One-Hot Encoding"
   ]
  },
  {
   "cell_type": "code",
   "execution_count": 26,
   "metadata": {},
   "outputs": [],
   "source": [
    "y_train_onehot = to_categorical(y_train)\n",
    "y_test_onehot = to_categorical(y_test)"
   ]
  },
  {
   "cell_type": "code",
   "execution_count": 27,
   "metadata": {},
   "outputs": [
    {
     "data": {
      "text/plain": [
       "array([0., 0., 0., 0., 0., 1., 0., 0., 0., 0.], dtype=float32)"
      ]
     },
     "execution_count": 27,
     "metadata": {},
     "output_type": "execute_result"
    }
   ],
   "source": [
    "y_train_onehot[0]"
   ]
  },
  {
   "cell_type": "code",
   "execution_count": 28,
   "metadata": {},
   "outputs": [
    {
     "data": {
      "text/plain": [
       "5"
      ]
     },
     "execution_count": 28,
     "metadata": {},
     "output_type": "execute_result"
    }
   ],
   "source": [
    "np.argmax(y_train_onehot[0])"
   ]
  },
  {
   "cell_type": "markdown",
   "metadata": {
    "pycharm": {
     "name": "#%% md\n"
    }
   },
   "source": [
    "## Model definition"
   ]
  },
  {
   "cell_type": "markdown",
   "metadata": {},
   "source": [
    "### 2-layer-NN"
   ]
  },
  {
   "cell_type": "code",
   "execution_count": 70,
   "metadata": {
    "collapsed": false,
    "jupyter": {
     "outputs_hidden": false
    },
    "pycharm": {
     "name": "#%%\n"
    }
   },
   "outputs": [],
   "source": [
    "#model\n",
    "model=tf.keras.Sequential([\n",
    "    tf.keras.layers.Flatten(input_shape=X_train[0].shape),\n",
    "    tf.keras.layers.Dense(units=300, activation=activations.sigmoid),\n",
    "    tf.keras.layers.Dense(units=10, activation=activations.softmax)\n",
    "])"
   ]
  },
  {
   "cell_type": "markdown",
   "metadata": {
    "pycharm": {
     "name": "#%% md\n"
    }
   },
   "source": [
    "## Model Compile"
   ]
  },
  {
   "cell_type": "code",
   "execution_count": 71,
   "metadata": {
    "collapsed": false,
    "jupyter": {
     "outputs_hidden": false
    },
    "pycharm": {
     "name": "#%%\n"
    }
   },
   "outputs": [],
   "source": [
    "#early stopping\n",
    "es = EarlyStopping(monitor='val_loss', mode='min', verbose=VERBOSE, patience=PATIENCE, restore_best_weights=True)\n",
    "mcp = ModelCheckpoint(SAVE_DIR+'best-model.h5', monitor='val_accuracy', mode='max', verbose=VERBOSE, save_best_only=True)\n",
    "\n",
    "#compile\n",
    "model.compile(loss='mean_squared_error', optimizer='SGD', metrics=['accuracy'])"
   ]
  },
  {
   "cell_type": "markdown",
   "metadata": {
    "tags": []
   },
   "source": [
    "## Model Summary"
   ]
  },
  {
   "cell_type": "code",
   "execution_count": 72,
   "metadata": {},
   "outputs": [
    {
     "name": "stdout",
     "output_type": "stream",
     "text": [
      "Model: \"sequential_5\"\n",
      "_________________________________________________________________\n",
      " Layer (type)                Output Shape              Param #   \n",
      "=================================================================\n",
      " flatten_5 (Flatten)         (None, 784)               0         \n",
      "                                                                 \n",
      " dense_10 (Dense)            (None, 300)               235500    \n",
      "                                                                 \n",
      " dense_11 (Dense)            (None, 10)                3010      \n",
      "                                                                 \n",
      "=================================================================\n",
      "Total params: 238,510\n",
      "Trainable params: 238,510\n",
      "Non-trainable params: 0\n",
      "_________________________________________________________________\n"
     ]
    }
   ],
   "source": [
    "model.summary()"
   ]
  },
  {
   "cell_type": "markdown",
   "metadata": {
    "pycharm": {
     "name": "#%% md\n"
    }
   },
   "source": [
    "## Train Model"
   ]
  },
  {
   "cell_type": "code",
   "execution_count": 73,
   "metadata": {
    "collapsed": false,
    "jupyter": {
     "outputs_hidden": false
    },
    "pycharm": {
     "name": "#%%\n"
    }
   },
   "outputs": [
    {
     "name": "stdout",
     "output_type": "stream",
     "text": [
      "Epoch 1/200\n",
      "738/750 [============================>.] - ETA: 0s - loss: 0.0912 - accuracy: 0.1298\n",
      "Epoch 1: val_accuracy improved from -inf to 0.18842, saving model to ../model/2-layer-NN\\best-model.h5\n",
      "750/750 [==============================] - 2s 2ms/step - loss: 0.0912 - accuracy: 0.1308 - val_loss: 0.0905 - val_accuracy: 0.1884\n",
      "Epoch 2/200\n",
      "722/750 [===========================>..] - ETA: 0s - loss: 0.0900 - accuracy: 0.1953\n",
      "Epoch 2: val_accuracy did not improve from 0.18842\n",
      "750/750 [==============================] - 1s 1ms/step - loss: 0.0900 - accuracy: 0.1946 - val_loss: 0.0897 - val_accuracy: 0.1835\n",
      "Epoch 3/200\n",
      "735/750 [============================>.] - ETA: 0s - loss: 0.0893 - accuracy: 0.1899\n",
      "Epoch 3: val_accuracy improved from 0.18842 to 0.19050, saving model to ../model/2-layer-NN\\best-model.h5\n",
      "750/750 [==============================] - 1s 1ms/step - loss: 0.0893 - accuracy: 0.1897 - val_loss: 0.0891 - val_accuracy: 0.1905\n",
      "Epoch 4/200\n",
      "704/750 [===========================>..] - ETA: 0s - loss: 0.0888 - accuracy: 0.1945\n",
      "Epoch 4: val_accuracy improved from 0.19050 to 0.19767, saving model to ../model/2-layer-NN\\best-model.h5\n",
      "750/750 [==============================] - 1s 1ms/step - loss: 0.0887 - accuracy: 0.1945 - val_loss: 0.0886 - val_accuracy: 0.1977\n",
      "Epoch 5/200\n",
      "725/750 [============================>.] - ETA: 0s - loss: 0.0882 - accuracy: 0.1998\n",
      "Epoch 5: val_accuracy improved from 0.19767 to 0.20900, saving model to ../model/2-layer-NN\\best-model.h5\n",
      "750/750 [==============================] - 1s 1ms/step - loss: 0.0882 - accuracy: 0.2003 - val_loss: 0.0880 - val_accuracy: 0.2090\n",
      "Epoch 6/200\n",
      "736/750 [============================>.] - ETA: 0s - loss: 0.0877 - accuracy: 0.2157\n",
      "Epoch 6: val_accuracy improved from 0.20900 to 0.22833, saving model to ../model/2-layer-NN\\best-model.h5\n",
      "750/750 [==============================] - 1s 1ms/step - loss: 0.0877 - accuracy: 0.2158 - val_loss: 0.0875 - val_accuracy: 0.2283\n",
      "Epoch 7/200\n",
      "739/750 [============================>.] - ETA: 0s - loss: 0.0871 - accuracy: 0.2479\n",
      "Epoch 7: val_accuracy improved from 0.22833 to 0.24867, saving model to ../model/2-layer-NN\\best-model.h5\n",
      "750/750 [==============================] - 1s 1ms/step - loss: 0.0871 - accuracy: 0.2481 - val_loss: 0.0869 - val_accuracy: 0.2487\n",
      "Epoch 8/200\n",
      "721/750 [===========================>..] - ETA: 0s - loss: 0.0865 - accuracy: 0.2733\n",
      "Epoch 8: val_accuracy improved from 0.24867 to 0.29775, saving model to ../model/2-layer-NN\\best-model.h5\n",
      "750/750 [==============================] - 1s 1ms/step - loss: 0.0865 - accuracy: 0.2740 - val_loss: 0.0863 - val_accuracy: 0.2977\n",
      "Epoch 9/200\n",
      "718/750 [===========================>..] - ETA: 0s - loss: 0.0859 - accuracy: 0.3031\n",
      "Epoch 9: val_accuracy improved from 0.29775 to 0.34142, saving model to ../model/2-layer-NN\\best-model.h5\n",
      "750/750 [==============================] - 1s 1ms/step - loss: 0.0859 - accuracy: 0.3041 - val_loss: 0.0856 - val_accuracy: 0.3414\n",
      "Epoch 10/200\n",
      "737/750 [============================>.] - ETA: 0s - loss: 0.0852 - accuracy: 0.3421\n",
      "Epoch 10: val_accuracy improved from 0.34142 to 0.35833, saving model to ../model/2-layer-NN\\best-model.h5\n",
      "750/750 [==============================] - 1s 1ms/step - loss: 0.0852 - accuracy: 0.3419 - val_loss: 0.0849 - val_accuracy: 0.3583\n",
      "Epoch 11/200\n",
      "750/750 [==============================] - ETA: 0s - loss: 0.0845 - accuracy: 0.3626\n",
      "Epoch 11: val_accuracy improved from 0.35833 to 0.38067, saving model to ../model/2-layer-NN\\best-model.h5\n",
      "750/750 [==============================] - 1s 1ms/step - loss: 0.0845 - accuracy: 0.3626 - val_loss: 0.0842 - val_accuracy: 0.3807\n",
      "Epoch 12/200\n",
      "723/750 [===========================>..] - ETA: 0s - loss: 0.0838 - accuracy: 0.3830\n",
      "Epoch 12: val_accuracy improved from 0.38067 to 0.40800, saving model to ../model/2-layer-NN\\best-model.h5\n",
      "750/750 [==============================] - 1s 1ms/step - loss: 0.0838 - accuracy: 0.3827 - val_loss: 0.0834 - val_accuracy: 0.4080\n",
      "Epoch 13/200\n",
      "742/750 [============================>.] - ETA: 0s - loss: 0.0830 - accuracy: 0.4080\n",
      "Epoch 13: val_accuracy improved from 0.40800 to 0.42433, saving model to ../model/2-layer-NN\\best-model.h5\n",
      "750/750 [==============================] - 1s 1ms/step - loss: 0.0830 - accuracy: 0.4079 - val_loss: 0.0826 - val_accuracy: 0.4243\n",
      "Epoch 14/200\n",
      "747/750 [============================>.] - ETA: 0s - loss: 0.0822 - accuracy: 0.4253\n",
      "Epoch 14: val_accuracy improved from 0.42433 to 0.45133, saving model to ../model/2-layer-NN\\best-model.h5\n",
      "750/750 [==============================] - 1s 1ms/step - loss: 0.0822 - accuracy: 0.4255 - val_loss: 0.0818 - val_accuracy: 0.4513\n",
      "Epoch 15/200\n",
      "718/750 [===========================>..] - ETA: 0s - loss: 0.0813 - accuracy: 0.4453\n",
      "Epoch 15: val_accuracy improved from 0.45133 to 0.47083, saving model to ../model/2-layer-NN\\best-model.h5\n",
      "750/750 [==============================] - 1s 1ms/step - loss: 0.0813 - accuracy: 0.4457 - val_loss: 0.0809 - val_accuracy: 0.4708\n",
      "Epoch 16/200\n",
      "749/750 [============================>.] - ETA: 0s - loss: 0.0805 - accuracy: 0.4658\n",
      "Epoch 16: val_accuracy improved from 0.47083 to 0.48942, saving model to ../model/2-layer-NN\\best-model.h5\n",
      "750/750 [==============================] - 1s 1ms/step - loss: 0.0805 - accuracy: 0.4658 - val_loss: 0.0800 - val_accuracy: 0.4894\n",
      "Epoch 17/200\n",
      "703/750 [===========================>..] - ETA: 0s - loss: 0.0796 - accuracy: 0.4858\n",
      "Epoch 17: val_accuracy improved from 0.48942 to 0.49683, saving model to ../model/2-layer-NN\\best-model.h5\n",
      "750/750 [==============================] - 1s 1ms/step - loss: 0.0796 - accuracy: 0.4860 - val_loss: 0.0791 - val_accuracy: 0.4968\n",
      "Epoch 18/200\n",
      "721/750 [===========================>..] - ETA: 0s - loss: 0.0787 - accuracy: 0.4969\n",
      "Epoch 18: val_accuracy improved from 0.49683 to 0.52208, saving model to ../model/2-layer-NN\\best-model.h5\n",
      "750/750 [==============================] - 1s 1ms/step - loss: 0.0786 - accuracy: 0.4975 - val_loss: 0.0781 - val_accuracy: 0.5221\n",
      "Epoch 19/200\n",
      "750/750 [==============================] - ETA: 0s - loss: 0.0777 - accuracy: 0.5172\n",
      "Epoch 19: val_accuracy improved from 0.52208 to 0.54075, saving model to ../model/2-layer-NN\\best-model.h5\n",
      "750/750 [==============================] - 1s 1ms/step - loss: 0.0777 - accuracy: 0.5172 - val_loss: 0.0771 - val_accuracy: 0.5408\n",
      "Epoch 20/200\n",
      "741/750 [============================>.] - ETA: 0s - loss: 0.0767 - accuracy: 0.5330\n",
      "Epoch 20: val_accuracy improved from 0.54075 to 0.55292, saving model to ../model/2-layer-NN\\best-model.h5\n",
      "750/750 [==============================] - 1s 1ms/step - loss: 0.0767 - accuracy: 0.5332 - val_loss: 0.0761 - val_accuracy: 0.5529\n",
      "Epoch 21/200\n",
      "734/750 [============================>.] - ETA: 0s - loss: 0.0757 - accuracy: 0.5492\n",
      "Epoch 21: val_accuracy improved from 0.55292 to 0.56142, saving model to ../model/2-layer-NN\\best-model.h5\n",
      "750/750 [==============================] - 1s 1ms/step - loss: 0.0757 - accuracy: 0.5488 - val_loss: 0.0751 - val_accuracy: 0.5614\n",
      "Epoch 22/200\n",
      "713/750 [===========================>..] - ETA: 0s - loss: 0.0747 - accuracy: 0.5595\n",
      "Epoch 22: val_accuracy improved from 0.56142 to 0.57142, saving model to ../model/2-layer-NN\\best-model.h5\n",
      "750/750 [==============================] - 1s 1ms/step - loss: 0.0747 - accuracy: 0.5600 - val_loss: 0.0741 - val_accuracy: 0.5714\n",
      "Epoch 23/200\n",
      "718/750 [===========================>..] - ETA: 0s - loss: 0.0738 - accuracy: 0.5681\n",
      "Epoch 23: val_accuracy improved from 0.57142 to 0.57983, saving model to ../model/2-layer-NN\\best-model.h5\n",
      "750/750 [==============================] - 1s 1ms/step - loss: 0.0737 - accuracy: 0.5685 - val_loss: 0.0731 - val_accuracy: 0.5798\n",
      "Epoch 24/200\n",
      "738/750 [============================>.] - ETA: 0s - loss: 0.0727 - accuracy: 0.5762\n",
      "Epoch 24: val_accuracy improved from 0.57983 to 0.59908, saving model to ../model/2-layer-NN\\best-model.h5\n",
      "750/750 [==============================] - 1s 1ms/step - loss: 0.0727 - accuracy: 0.5762 - val_loss: 0.0720 - val_accuracy: 0.5991\n",
      "Epoch 25/200\n",
      "732/750 [============================>.] - ETA: 0s - loss: 0.0717 - accuracy: 0.5915\n",
      "Epoch 25: val_accuracy improved from 0.59908 to 0.60158, saving model to ../model/2-layer-NN\\best-model.h5\n",
      "750/750 [==============================] - 1s 1ms/step - loss: 0.0717 - accuracy: 0.5909 - val_loss: 0.0710 - val_accuracy: 0.6016\n",
      "Epoch 26/200\n",
      "731/750 [============================>.] - ETA: 0s - loss: 0.0707 - accuracy: 0.5964\n",
      "Epoch 26: val_accuracy improved from 0.60158 to 0.60758, saving model to ../model/2-layer-NN\\best-model.h5\n",
      "750/750 [==============================] - 1s 1ms/step - loss: 0.0707 - accuracy: 0.5966 - val_loss: 0.0699 - val_accuracy: 0.6076\n",
      "Epoch 27/200\n",
      "714/750 [===========================>..] - ETA: 0s - loss: 0.0697 - accuracy: 0.6036\n",
      "Epoch 27: val_accuracy improved from 0.60758 to 0.61500, saving model to ../model/2-layer-NN\\best-model.h5\n",
      "750/750 [==============================] - 1s 1ms/step - loss: 0.0697 - accuracy: 0.6025 - val_loss: 0.0688 - val_accuracy: 0.6150\n",
      "Epoch 28/200\n",
      "724/750 [===========================>..] - ETA: 0s - loss: 0.0687 - accuracy: 0.6100\n",
      "Epoch 28: val_accuracy improved from 0.61500 to 0.62200, saving model to ../model/2-layer-NN\\best-model.h5\n",
      "750/750 [==============================] - 1s 1ms/step - loss: 0.0687 - accuracy: 0.6097 - val_loss: 0.0678 - val_accuracy: 0.6220\n",
      "Epoch 29/200\n",
      "731/750 [============================>.] - ETA: 0s - loss: 0.0677 - accuracy: 0.6145\n",
      "Epoch 29: val_accuracy improved from 0.62200 to 0.62792, saving model to ../model/2-layer-NN\\best-model.h5\n",
      "750/750 [==============================] - 1s 1ms/step - loss: 0.0676 - accuracy: 0.6146 - val_loss: 0.0667 - val_accuracy: 0.6279\n",
      "Epoch 30/200\n",
      "741/750 [============================>.] - ETA: 0s - loss: 0.0667 - accuracy: 0.6221\n",
      "Epoch 30: val_accuracy improved from 0.62792 to 0.63267, saving model to ../model/2-layer-NN\\best-model.h5\n",
      "750/750 [==============================] - 1s 1ms/step - loss: 0.0666 - accuracy: 0.6225 - val_loss: 0.0657 - val_accuracy: 0.6327\n",
      "Epoch 31/200\n",
      "743/750 [============================>.] - ETA: 0s - loss: 0.0656 - accuracy: 0.6282\n",
      "Epoch 31: val_accuracy improved from 0.63267 to 0.63658, saving model to ../model/2-layer-NN\\best-model.h5\n",
      "750/750 [==============================] - 1s 1ms/step - loss: 0.0656 - accuracy: 0.6281 - val_loss: 0.0646 - val_accuracy: 0.6366\n",
      "Epoch 32/200\n",
      "721/750 [===========================>..] - ETA: 0s - loss: 0.0647 - accuracy: 0.6322\n",
      "Epoch 32: val_accuracy improved from 0.63658 to 0.64083, saving model to ../model/2-layer-NN\\best-model.h5\n",
      "750/750 [==============================] - 1s 1ms/step - loss: 0.0646 - accuracy: 0.6327 - val_loss: 0.0636 - val_accuracy: 0.6408\n",
      "Epoch 33/200\n",
      "710/750 [===========================>..] - ETA: 0s - loss: 0.0636 - accuracy: 0.6372\n",
      "Epoch 33: val_accuracy improved from 0.64083 to 0.64550, saving model to ../model/2-layer-NN\\best-model.h5\n",
      "750/750 [==============================] - 1s 1ms/step - loss: 0.0636 - accuracy: 0.6370 - val_loss: 0.0626 - val_accuracy: 0.6455\n",
      "Epoch 34/200\n",
      "730/750 [============================>.] - ETA: 0s - loss: 0.0627 - accuracy: 0.6407\n",
      "Epoch 34: val_accuracy improved from 0.64550 to 0.64983, saving model to ../model/2-layer-NN\\best-model.h5\n",
      "750/750 [==============================] - 1s 1ms/step - loss: 0.0626 - accuracy: 0.6409 - val_loss: 0.0615 - val_accuracy: 0.6498\n",
      "Epoch 35/200\n",
      "719/750 [===========================>..] - ETA: 0s - loss: 0.0617 - accuracy: 0.6463\n",
      "Epoch 35: val_accuracy improved from 0.64983 to 0.65508, saving model to ../model/2-layer-NN\\best-model.h5\n",
      "750/750 [==============================] - 1s 1ms/step - loss: 0.0617 - accuracy: 0.6462 - val_loss: 0.0605 - val_accuracy: 0.6551\n",
      "Epoch 36/200\n",
      "724/750 [===========================>..] - ETA: 0s - loss: 0.0607 - accuracy: 0.6527\n",
      "Epoch 36: val_accuracy improved from 0.65508 to 0.66083, saving model to ../model/2-layer-NN\\best-model.h5\n",
      "750/750 [==============================] - 1s 1ms/step - loss: 0.0607 - accuracy: 0.6528 - val_loss: 0.0595 - val_accuracy: 0.6608\n",
      "Epoch 37/200\n",
      "711/750 [===========================>..] - ETA: 0s - loss: 0.0598 - accuracy: 0.6569\n",
      "Epoch 37: val_accuracy improved from 0.66083 to 0.66592, saving model to ../model/2-layer-NN\\best-model.h5\n",
      "750/750 [==============================] - 1s 1ms/step - loss: 0.0598 - accuracy: 0.6568 - val_loss: 0.0586 - val_accuracy: 0.6659\n",
      "Epoch 38/200\n",
      "720/750 [===========================>..] - ETA: 0s - loss: 0.0589 - accuracy: 0.6631\n",
      "Epoch 38: val_accuracy improved from 0.66592 to 0.67433, saving model to ../model/2-layer-NN\\best-model.h5\n",
      "750/750 [==============================] - 1s 1ms/step - loss: 0.0588 - accuracy: 0.6634 - val_loss: 0.0576 - val_accuracy: 0.6743\n",
      "Epoch 39/200\n",
      "745/750 [============================>.] - ETA: 0s - loss: 0.0579 - accuracy: 0.6674\n",
      "Epoch 39: val_accuracy improved from 0.67433 to 0.68183, saving model to ../model/2-layer-NN\\best-model.h5\n",
      "750/750 [==============================] - 1s 1ms/step - loss: 0.0579 - accuracy: 0.6674 - val_loss: 0.0567 - val_accuracy: 0.6818\n",
      "Epoch 40/200\n",
      "739/750 [============================>.] - ETA: 0s - loss: 0.0570 - accuracy: 0.6740\n",
      "Epoch 40: val_accuracy improved from 0.68183 to 0.68900, saving model to ../model/2-layer-NN\\best-model.h5\n",
      "750/750 [==============================] - 1s 1ms/step - loss: 0.0570 - accuracy: 0.6742 - val_loss: 0.0557 - val_accuracy: 0.6890\n",
      "Epoch 41/200\n",
      "712/750 [===========================>..] - ETA: 0s - loss: 0.0562 - accuracy: 0.6809\n",
      "Epoch 41: val_accuracy improved from 0.68900 to 0.69433, saving model to ../model/2-layer-NN\\best-model.h5\n",
      "750/750 [==============================] - 1s 1ms/step - loss: 0.0561 - accuracy: 0.6811 - val_loss: 0.0548 - val_accuracy: 0.6943\n",
      "Epoch 42/200\n",
      "728/750 [============================>.] - ETA: 0s - loss: 0.0553 - accuracy: 0.6881\n",
      "Epoch 42: val_accuracy improved from 0.69433 to 0.70067, saving model to ../model/2-layer-NN\\best-model.h5\n",
      "750/750 [==============================] - 1s 1ms/step - loss: 0.0553 - accuracy: 0.6877 - val_loss: 0.0540 - val_accuracy: 0.7007\n",
      "Epoch 43/200\n",
      "706/750 [===========================>..] - ETA: 0s - loss: 0.0545 - accuracy: 0.6927\n",
      "Epoch 43: val_accuracy improved from 0.70067 to 0.70892, saving model to ../model/2-layer-NN\\best-model.h5\n",
      "750/750 [==============================] - 1s 1ms/step - loss: 0.0544 - accuracy: 0.6929 - val_loss: 0.0531 - val_accuracy: 0.7089\n",
      "Epoch 44/200\n",
      "722/750 [===========================>..] - ETA: 0s - loss: 0.0537 - accuracy: 0.6991\n",
      "Epoch 44: val_accuracy improved from 0.70892 to 0.71517, saving model to ../model/2-layer-NN\\best-model.h5\n",
      "750/750 [==============================] - 1s 1ms/step - loss: 0.0536 - accuracy: 0.6996 - val_loss: 0.0522 - val_accuracy: 0.7152\n",
      "Epoch 45/200\n",
      "723/750 [===========================>..] - ETA: 0s - loss: 0.0528 - accuracy: 0.7054\n",
      "Epoch 45: val_accuracy improved from 0.71517 to 0.72183, saving model to ../model/2-layer-NN\\best-model.h5\n",
      "750/750 [==============================] - 1s 1ms/step - loss: 0.0528 - accuracy: 0.7053 - val_loss: 0.0514 - val_accuracy: 0.7218\n",
      "Epoch 46/200\n",
      "730/750 [============================>.] - ETA: 0s - loss: 0.0521 - accuracy: 0.7124\n",
      "Epoch 46: val_accuracy improved from 0.72183 to 0.72542, saving model to ../model/2-layer-NN\\best-model.h5\n",
      "750/750 [==============================] - 1s 1ms/step - loss: 0.0520 - accuracy: 0.7132 - val_loss: 0.0506 - val_accuracy: 0.7254\n",
      "Epoch 47/200\n",
      "707/750 [===========================>..] - ETA: 0s - loss: 0.0513 - accuracy: 0.7161\n",
      "Epoch 47: val_accuracy improved from 0.72542 to 0.73292, saving model to ../model/2-layer-NN\\best-model.h5\n",
      "750/750 [==============================] - 1s 1ms/step - loss: 0.0513 - accuracy: 0.7168 - val_loss: 0.0498 - val_accuracy: 0.7329\n",
      "Epoch 48/200\n",
      "718/750 [===========================>..] - ETA: 0s - loss: 0.0506 - accuracy: 0.7231\n",
      "Epoch 48: val_accuracy improved from 0.73292 to 0.73683, saving model to ../model/2-layer-NN\\best-model.h5\n",
      "750/750 [==============================] - 1s 1ms/step - loss: 0.0505 - accuracy: 0.7239 - val_loss: 0.0490 - val_accuracy: 0.7368\n",
      "Epoch 49/200\n",
      "741/750 [============================>.] - ETA: 0s - loss: 0.0498 - accuracy: 0.7279\n",
      "Epoch 49: val_accuracy improved from 0.73683 to 0.74300, saving model to ../model/2-layer-NN\\best-model.h5\n",
      "750/750 [==============================] - 1s 1ms/step - loss: 0.0498 - accuracy: 0.7279 - val_loss: 0.0483 - val_accuracy: 0.7430\n",
      "Epoch 50/200\n",
      "738/750 [============================>.] - ETA: 0s - loss: 0.0491 - accuracy: 0.7319\n",
      "Epoch 50: val_accuracy improved from 0.74300 to 0.74858, saving model to ../model/2-layer-NN\\best-model.h5\n",
      "750/750 [==============================] - 1s 1ms/step - loss: 0.0491 - accuracy: 0.7322 - val_loss: 0.0476 - val_accuracy: 0.7486\n",
      "Epoch 51/200\n",
      "746/750 [============================>.] - ETA: 0s - loss: 0.0483 - accuracy: 0.7385\n",
      "Epoch 51: val_accuracy improved from 0.74858 to 0.75350, saving model to ../model/2-layer-NN\\best-model.h5\n",
      "750/750 [==============================] - 1s 1ms/step - loss: 0.0484 - accuracy: 0.7382 - val_loss: 0.0468 - val_accuracy: 0.7535\n",
      "Epoch 52/200\n",
      "721/750 [===========================>..] - ETA: 0s - loss: 0.0477 - accuracy: 0.7425\n",
      "Epoch 52: val_accuracy improved from 0.75350 to 0.75800, saving model to ../model/2-layer-NN\\best-model.h5\n",
      "750/750 [==============================] - 1s 1ms/step - loss: 0.0477 - accuracy: 0.7423 - val_loss: 0.0461 - val_accuracy: 0.7580\n",
      "Epoch 53/200\n",
      "748/750 [============================>.] - ETA: 0s - loss: 0.0470 - accuracy: 0.7472\n",
      "Epoch 53: val_accuracy improved from 0.75800 to 0.76250, saving model to ../model/2-layer-NN\\best-model.h5\n",
      "750/750 [==============================] - 1s 1ms/step - loss: 0.0470 - accuracy: 0.7473 - val_loss: 0.0454 - val_accuracy: 0.7625\n",
      "Epoch 54/200\n",
      "710/750 [===========================>..] - ETA: 0s - loss: 0.0463 - accuracy: 0.7518\n",
      "Epoch 54: val_accuracy improved from 0.76250 to 0.76708, saving model to ../model/2-layer-NN\\best-model.h5\n",
      "750/750 [==============================] - 1s 1ms/step - loss: 0.0464 - accuracy: 0.7512 - val_loss: 0.0448 - val_accuracy: 0.7671\n",
      "Epoch 55/200\n",
      "716/750 [===========================>..] - ETA: 0s - loss: 0.0458 - accuracy: 0.7567\n",
      "Epoch 55: val_accuracy improved from 0.76708 to 0.77192, saving model to ../model/2-layer-NN\\best-model.h5\n",
      "750/750 [==============================] - 1s 1ms/step - loss: 0.0457 - accuracy: 0.7567 - val_loss: 0.0441 - val_accuracy: 0.7719\n",
      "Epoch 56/200\n",
      "708/750 [===========================>..] - ETA: 0s - loss: 0.0451 - accuracy: 0.7609\n",
      "Epoch 56: val_accuracy improved from 0.77192 to 0.77592, saving model to ../model/2-layer-NN\\best-model.h5\n",
      "750/750 [==============================] - 1s 1ms/step - loss: 0.0451 - accuracy: 0.7611 - val_loss: 0.0435 - val_accuracy: 0.7759\n",
      "Epoch 57/200\n",
      "737/750 [============================>.] - ETA: 0s - loss: 0.0445 - accuracy: 0.7653\n",
      "Epoch 57: val_accuracy improved from 0.77592 to 0.78017, saving model to ../model/2-layer-NN\\best-model.h5\n",
      "750/750 [==============================] - 1s 1ms/step - loss: 0.0445 - accuracy: 0.7653 - val_loss: 0.0428 - val_accuracy: 0.7802\n",
      "Epoch 58/200\n",
      "747/750 [============================>.] - ETA: 0s - loss: 0.0439 - accuracy: 0.7694\n",
      "Epoch 58: val_accuracy improved from 0.78017 to 0.78358, saving model to ../model/2-layer-NN\\best-model.h5\n",
      "750/750 [==============================] - 1s 1ms/step - loss: 0.0439 - accuracy: 0.7695 - val_loss: 0.0422 - val_accuracy: 0.7836\n",
      "Epoch 59/200\n",
      "724/750 [===========================>..] - ETA: 0s - loss: 0.0433 - accuracy: 0.7739\n",
      "Epoch 59: val_accuracy improved from 0.78358 to 0.78850, saving model to ../model/2-layer-NN\\best-model.h5\n",
      "750/750 [==============================] - 1s 1ms/step - loss: 0.0433 - accuracy: 0.7738 - val_loss: 0.0416 - val_accuracy: 0.7885\n",
      "Epoch 60/200\n",
      "714/750 [===========================>..] - ETA: 0s - loss: 0.0427 - accuracy: 0.7773\n",
      "Epoch 60: val_accuracy improved from 0.78850 to 0.79333, saving model to ../model/2-layer-NN\\best-model.h5\n",
      "750/750 [==============================] - 1s 1ms/step - loss: 0.0427 - accuracy: 0.7775 - val_loss: 0.0410 - val_accuracy: 0.7933\n",
      "Epoch 61/200\n",
      "705/750 [===========================>..] - ETA: 0s - loss: 0.0422 - accuracy: 0.7821\n",
      "Epoch 61: val_accuracy improved from 0.79333 to 0.79875, saving model to ../model/2-layer-NN\\best-model.h5\n",
      "750/750 [==============================] - 1s 1ms/step - loss: 0.0422 - accuracy: 0.7820 - val_loss: 0.0405 - val_accuracy: 0.7987\n",
      "Epoch 62/200\n",
      "716/750 [===========================>..] - ETA: 0s - loss: 0.0416 - accuracy: 0.7875\n",
      "Epoch 62: val_accuracy improved from 0.79875 to 0.80258, saving model to ../model/2-layer-NN\\best-model.h5\n",
      "750/750 [==============================] - 1s 1ms/step - loss: 0.0416 - accuracy: 0.7874 - val_loss: 0.0399 - val_accuracy: 0.8026\n",
      "Epoch 63/200\n",
      "748/750 [============================>.] - ETA: 0s - loss: 0.0411 - accuracy: 0.7908\n",
      "Epoch 63: val_accuracy improved from 0.80258 to 0.80675, saving model to ../model/2-layer-NN\\best-model.h5\n",
      "750/750 [==============================] - 1s 1ms/step - loss: 0.0411 - accuracy: 0.7908 - val_loss: 0.0393 - val_accuracy: 0.8067\n",
      "Epoch 64/200\n",
      "735/750 [============================>.] - ETA: 0s - loss: 0.0406 - accuracy: 0.7946\n",
      "Epoch 64: val_accuracy improved from 0.80675 to 0.81175, saving model to ../model/2-layer-NN\\best-model.h5\n",
      "750/750 [==============================] - 1s 1ms/step - loss: 0.0406 - accuracy: 0.7948 - val_loss: 0.0388 - val_accuracy: 0.8117\n",
      "Epoch 65/200\n",
      "726/750 [============================>.] - ETA: 0s - loss: 0.0401 - accuracy: 0.8000\n",
      "Epoch 65: val_accuracy improved from 0.81175 to 0.81400, saving model to ../model/2-layer-NN\\best-model.h5\n",
      "750/750 [==============================] - 1s 1ms/step - loss: 0.0401 - accuracy: 0.7998 - val_loss: 0.0383 - val_accuracy: 0.8140\n",
      "Epoch 66/200\n",
      "731/750 [============================>.] - ETA: 0s - loss: 0.0395 - accuracy: 0.8025\n",
      "Epoch 66: val_accuracy improved from 0.81400 to 0.81833, saving model to ../model/2-layer-NN\\best-model.h5\n",
      "750/750 [==============================] - 1s 1ms/step - loss: 0.0396 - accuracy: 0.8024 - val_loss: 0.0378 - val_accuracy: 0.8183\n",
      "Epoch 67/200\n",
      "715/750 [===========================>..] - ETA: 0s - loss: 0.0391 - accuracy: 0.8069\n",
      "Epoch 67: val_accuracy improved from 0.81833 to 0.82167, saving model to ../model/2-layer-NN\\best-model.h5\n",
      "750/750 [==============================] - 1s 1ms/step - loss: 0.0391 - accuracy: 0.8068 - val_loss: 0.0373 - val_accuracy: 0.8217\n",
      "Epoch 68/200\n",
      "714/750 [===========================>..] - ETA: 0s - loss: 0.0386 - accuracy: 0.8093\n",
      "Epoch 68: val_accuracy improved from 0.82167 to 0.82475, saving model to ../model/2-layer-NN\\best-model.h5\n",
      "750/750 [==============================] - 1s 1ms/step - loss: 0.0386 - accuracy: 0.8093 - val_loss: 0.0368 - val_accuracy: 0.8248\n",
      "Epoch 69/200\n",
      "734/750 [============================>.] - ETA: 0s - loss: 0.0382 - accuracy: 0.8118\n",
      "Epoch 69: val_accuracy improved from 0.82475 to 0.82917, saving model to ../model/2-layer-NN\\best-model.h5\n",
      "750/750 [==============================] - 1s 1ms/step - loss: 0.0381 - accuracy: 0.8123 - val_loss: 0.0363 - val_accuracy: 0.8292\n",
      "Epoch 70/200\n",
      "739/750 [============================>.] - ETA: 0s - loss: 0.0377 - accuracy: 0.8160\n",
      "Epoch 70: val_accuracy improved from 0.82917 to 0.83158, saving model to ../model/2-layer-NN\\best-model.h5\n",
      "750/750 [==============================] - 1s 1ms/step - loss: 0.0377 - accuracy: 0.8158 - val_loss: 0.0358 - val_accuracy: 0.8316\n",
      "Epoch 71/200\n",
      "746/750 [============================>.] - ETA: 0s - loss: 0.0372 - accuracy: 0.8187\n",
      "Epoch 71: val_accuracy improved from 0.83158 to 0.83417, saving model to ../model/2-layer-NN\\best-model.h5\n",
      "750/750 [==============================] - 1s 1ms/step - loss: 0.0372 - accuracy: 0.8186 - val_loss: 0.0354 - val_accuracy: 0.8342\n",
      "Epoch 72/200\n",
      "726/750 [============================>.] - ETA: 0s - loss: 0.0368 - accuracy: 0.8213\n",
      "Epoch 72: val_accuracy improved from 0.83417 to 0.83800, saving model to ../model/2-layer-NN\\best-model.h5\n",
      "750/750 [==============================] - 1s 1ms/step - loss: 0.0368 - accuracy: 0.8214 - val_loss: 0.0349 - val_accuracy: 0.8380\n",
      "Epoch 73/200\n",
      "719/750 [===========================>..] - ETA: 0s - loss: 0.0364 - accuracy: 0.8241\n",
      "Epoch 73: val_accuracy improved from 0.83800 to 0.84017, saving model to ../model/2-layer-NN\\best-model.h5\n",
      "750/750 [==============================] - 1s 1ms/step - loss: 0.0364 - accuracy: 0.8242 - val_loss: 0.0345 - val_accuracy: 0.8402\n",
      "Epoch 74/200\n",
      "725/750 [============================>.] - ETA: 0s - loss: 0.0360 - accuracy: 0.8269\n",
      "Epoch 74: val_accuracy improved from 0.84017 to 0.84192, saving model to ../model/2-layer-NN\\best-model.h5\n",
      "750/750 [==============================] - 1s 1ms/step - loss: 0.0360 - accuracy: 0.8270 - val_loss: 0.0341 - val_accuracy: 0.8419\n",
      "Epoch 75/200\n",
      "707/750 [===========================>..] - ETA: 0s - loss: 0.0355 - accuracy: 0.8285\n",
      "Epoch 75: val_accuracy improved from 0.84192 to 0.84492, saving model to ../model/2-layer-NN\\best-model.h5\n",
      "750/750 [==============================] - 1s 1ms/step - loss: 0.0356 - accuracy: 0.8288 - val_loss: 0.0337 - val_accuracy: 0.8449\n",
      "Epoch 76/200\n",
      "730/750 [============================>.] - ETA: 0s - loss: 0.0352 - accuracy: 0.8317\n",
      "Epoch 76: val_accuracy improved from 0.84492 to 0.84708, saving model to ../model/2-layer-NN\\best-model.h5\n",
      "750/750 [==============================] - 1s 1ms/step - loss: 0.0352 - accuracy: 0.8317 - val_loss: 0.0333 - val_accuracy: 0.8471\n",
      "Epoch 77/200\n",
      "748/750 [============================>.] - ETA: 0s - loss: 0.0348 - accuracy: 0.8330\n",
      "Epoch 77: val_accuracy improved from 0.84708 to 0.84925, saving model to ../model/2-layer-NN\\best-model.h5\n",
      "750/750 [==============================] - 1s 1ms/step - loss: 0.0348 - accuracy: 0.8331 - val_loss: 0.0329 - val_accuracy: 0.8493\n",
      "Epoch 78/200\n",
      "724/750 [===========================>..] - ETA: 0s - loss: 0.0344 - accuracy: 0.8353\n",
      "Epoch 78: val_accuracy improved from 0.84925 to 0.85042, saving model to ../model/2-layer-NN\\best-model.h5\n",
      "750/750 [==============================] - 1s 1ms/step - loss: 0.0344 - accuracy: 0.8355 - val_loss: 0.0325 - val_accuracy: 0.8504\n",
      "Epoch 79/200\n",
      "713/750 [===========================>..] - ETA: 0s - loss: 0.0340 - accuracy: 0.8369\n",
      "Epoch 79: val_accuracy improved from 0.85042 to 0.85250, saving model to ../model/2-layer-NN\\best-model.h5\n",
      "750/750 [==============================] - 1s 1ms/step - loss: 0.0340 - accuracy: 0.8367 - val_loss: 0.0321 - val_accuracy: 0.8525\n",
      "Epoch 80/200\n",
      "732/750 [============================>.] - ETA: 0s - loss: 0.0337 - accuracy: 0.8384\n",
      "Epoch 80: val_accuracy improved from 0.85250 to 0.85425, saving model to ../model/2-layer-NN\\best-model.h5\n",
      "750/750 [==============================] - 1s 1ms/step - loss: 0.0337 - accuracy: 0.8386 - val_loss: 0.0318 - val_accuracy: 0.8543\n",
      "Epoch 81/200\n",
      "719/750 [===========================>..] - ETA: 0s - loss: 0.0333 - accuracy: 0.8401\n",
      "Epoch 81: val_accuracy improved from 0.85425 to 0.85508, saving model to ../model/2-layer-NN\\best-model.h5\n",
      "750/750 [==============================] - 1s 1ms/step - loss: 0.0333 - accuracy: 0.8402 - val_loss: 0.0314 - val_accuracy: 0.8551\n",
      "Epoch 82/200\n",
      "732/750 [============================>.] - ETA: 0s - loss: 0.0330 - accuracy: 0.8421\n",
      "Epoch 82: val_accuracy improved from 0.85508 to 0.85608, saving model to ../model/2-layer-NN\\best-model.h5\n",
      "750/750 [==============================] - 1s 1ms/step - loss: 0.0330 - accuracy: 0.8418 - val_loss: 0.0311 - val_accuracy: 0.8561\n",
      "Epoch 83/200\n",
      "747/750 [============================>.] - ETA: 0s - loss: 0.0327 - accuracy: 0.8425\n",
      "Epoch 83: val_accuracy improved from 0.85608 to 0.85817, saving model to ../model/2-layer-NN\\best-model.h5\n",
      "750/750 [==============================] - 1s 1ms/step - loss: 0.0327 - accuracy: 0.8426 - val_loss: 0.0307 - val_accuracy: 0.8582\n",
      "Epoch 84/200\n",
      "743/750 [============================>.] - ETA: 0s - loss: 0.0323 - accuracy: 0.8437\n",
      "Epoch 84: val_accuracy improved from 0.85817 to 0.85933, saving model to ../model/2-layer-NN\\best-model.h5\n",
      "750/750 [==============================] - 1s 1ms/step - loss: 0.0323 - accuracy: 0.8438 - val_loss: 0.0304 - val_accuracy: 0.8593\n",
      "Epoch 85/200\n",
      "721/750 [===========================>..] - ETA: 0s - loss: 0.0320 - accuracy: 0.8458\n",
      "Epoch 85: val_accuracy improved from 0.85933 to 0.86083, saving model to ../model/2-layer-NN\\best-model.h5\n",
      "750/750 [==============================] - 1s 1ms/step - loss: 0.0320 - accuracy: 0.8458 - val_loss: 0.0301 - val_accuracy: 0.8608\n",
      "Epoch 86/200\n",
      "717/750 [===========================>..] - ETA: 0s - loss: 0.0317 - accuracy: 0.8475\n",
      "Epoch 86: val_accuracy improved from 0.86083 to 0.86175, saving model to ../model/2-layer-NN\\best-model.h5\n",
      "750/750 [==============================] - 1s 1ms/step - loss: 0.0317 - accuracy: 0.8471 - val_loss: 0.0298 - val_accuracy: 0.8618\n",
      "Epoch 87/200\n",
      "711/750 [===========================>..] - ETA: 0s - loss: 0.0315 - accuracy: 0.8473\n",
      "Epoch 87: val_accuracy improved from 0.86175 to 0.86258, saving model to ../model/2-layer-NN\\best-model.h5\n",
      "750/750 [==============================] - 1s 1ms/step - loss: 0.0314 - accuracy: 0.8479 - val_loss: 0.0295 - val_accuracy: 0.8626\n",
      "Epoch 88/200\n",
      "730/750 [============================>.] - ETA: 0s - loss: 0.0311 - accuracy: 0.8492\n",
      "Epoch 88: val_accuracy improved from 0.86258 to 0.86317, saving model to ../model/2-layer-NN\\best-model.h5\n",
      "750/750 [==============================] - 1s 1ms/step - loss: 0.0311 - accuracy: 0.8491 - val_loss: 0.0292 - val_accuracy: 0.8632\n",
      "Epoch 89/200\n",
      "737/750 [============================>.] - ETA: 0s - loss: 0.0309 - accuracy: 0.8499\n",
      "Epoch 89: val_accuracy improved from 0.86317 to 0.86442, saving model to ../model/2-layer-NN\\best-model.h5\n",
      "750/750 [==============================] - 1s 1ms/step - loss: 0.0308 - accuracy: 0.8504 - val_loss: 0.0289 - val_accuracy: 0.8644\n",
      "Epoch 90/200\n",
      "744/750 [============================>.] - ETA: 0s - loss: 0.0306 - accuracy: 0.8508\n",
      "Epoch 90: val_accuracy improved from 0.86442 to 0.86517, saving model to ../model/2-layer-NN\\best-model.h5\n",
      "750/750 [==============================] - 1s 1ms/step - loss: 0.0306 - accuracy: 0.8509 - val_loss: 0.0286 - val_accuracy: 0.8652\n",
      "Epoch 91/200\n",
      "726/750 [============================>.] - ETA: 0s - loss: 0.0303 - accuracy: 0.8515\n",
      "Epoch 91: val_accuracy improved from 0.86517 to 0.86633, saving model to ../model/2-layer-NN\\best-model.h5\n",
      "750/750 [==============================] - 1s 1ms/step - loss: 0.0303 - accuracy: 0.8518 - val_loss: 0.0284 - val_accuracy: 0.8663\n",
      "Epoch 92/200\n",
      "746/750 [============================>.] - ETA: 0s - loss: 0.0300 - accuracy: 0.8527\n",
      "Epoch 92: val_accuracy improved from 0.86633 to 0.86717, saving model to ../model/2-layer-NN\\best-model.h5\n",
      "750/750 [==============================] - 1s 1ms/step - loss: 0.0300 - accuracy: 0.8525 - val_loss: 0.0281 - val_accuracy: 0.8672\n",
      "Epoch 93/200\n",
      "744/750 [============================>.] - ETA: 0s - loss: 0.0298 - accuracy: 0.8533\n",
      "Epoch 93: val_accuracy improved from 0.86717 to 0.86817, saving model to ../model/2-layer-NN\\best-model.h5\n",
      "750/750 [==============================] - 1s 1ms/step - loss: 0.0298 - accuracy: 0.8535 - val_loss: 0.0278 - val_accuracy: 0.8682\n",
      "Epoch 94/200\n",
      "731/750 [============================>.] - ETA: 0s - loss: 0.0295 - accuracy: 0.8539\n",
      "Epoch 94: val_accuracy improved from 0.86817 to 0.86858, saving model to ../model/2-layer-NN\\best-model.h5\n",
      "750/750 [==============================] - 1s 1ms/step - loss: 0.0295 - accuracy: 0.8542 - val_loss: 0.0276 - val_accuracy: 0.8686\n",
      "Epoch 95/200\n",
      "715/750 [===========================>..] - ETA: 0s - loss: 0.0293 - accuracy: 0.8543\n",
      "Epoch 95: val_accuracy improved from 0.86858 to 0.86875, saving model to ../model/2-layer-NN\\best-model.h5\n",
      "750/750 [==============================] - 1s 1ms/step - loss: 0.0293 - accuracy: 0.8547 - val_loss: 0.0273 - val_accuracy: 0.8687\n",
      "Epoch 96/200\n",
      "715/750 [===========================>..] - ETA: 0s - loss: 0.0291 - accuracy: 0.8554\n",
      "Epoch 96: val_accuracy improved from 0.86875 to 0.86933, saving model to ../model/2-layer-NN\\best-model.h5\n",
      "750/750 [==============================] - 1s 1ms/step - loss: 0.0290 - accuracy: 0.8556 - val_loss: 0.0271 - val_accuracy: 0.8693\n",
      "Epoch 97/200\n",
      "739/750 [============================>.] - ETA: 0s - loss: 0.0288 - accuracy: 0.8566\n",
      "Epoch 97: val_accuracy improved from 0.86933 to 0.86942, saving model to ../model/2-layer-NN\\best-model.h5\n",
      "750/750 [==============================] - 1s 1ms/step - loss: 0.0288 - accuracy: 0.8564 - val_loss: 0.0269 - val_accuracy: 0.8694\n",
      "Epoch 98/200\n",
      "721/750 [===========================>..] - ETA: 0s - loss: 0.0286 - accuracy: 0.8576\n",
      "Epoch 98: val_accuracy improved from 0.86942 to 0.87067, saving model to ../model/2-layer-NN\\best-model.h5\n",
      "750/750 [==============================] - 1s 1ms/step - loss: 0.0286 - accuracy: 0.8573 - val_loss: 0.0266 - val_accuracy: 0.8707\n",
      "Epoch 99/200\n",
      "743/750 [============================>.] - ETA: 0s - loss: 0.0284 - accuracy: 0.8583\n",
      "Epoch 99: val_accuracy improved from 0.87067 to 0.87158, saving model to ../model/2-layer-NN\\best-model.h5\n",
      "750/750 [==============================] - 1s 1ms/step - loss: 0.0284 - accuracy: 0.8584 - val_loss: 0.0264 - val_accuracy: 0.8716\n",
      "Epoch 100/200\n",
      "711/750 [===========================>..] - ETA: 0s - loss: 0.0281 - accuracy: 0.8594\n",
      "Epoch 100: val_accuracy improved from 0.87158 to 0.87192, saving model to ../model/2-layer-NN\\best-model.h5\n",
      "750/750 [==============================] - 1s 1ms/step - loss: 0.0281 - accuracy: 0.8590 - val_loss: 0.0262 - val_accuracy: 0.8719\n",
      "Epoch 101/200\n",
      "723/750 [===========================>..] - ETA: 0s - loss: 0.0279 - accuracy: 0.8597\n",
      "Epoch 101: val_accuracy improved from 0.87192 to 0.87208, saving model to ../model/2-layer-NN\\best-model.h5\n",
      "750/750 [==============================] - 1s 1ms/step - loss: 0.0279 - accuracy: 0.8595 - val_loss: 0.0260 - val_accuracy: 0.8721\n",
      "Epoch 102/200\n",
      "736/750 [============================>.] - ETA: 0s - loss: 0.0278 - accuracy: 0.8601\n",
      "Epoch 102: val_accuracy improved from 0.87208 to 0.87283, saving model to ../model/2-layer-NN\\best-model.h5\n",
      "750/750 [==============================] - 1s 1ms/step - loss: 0.0277 - accuracy: 0.8602 - val_loss: 0.0258 - val_accuracy: 0.8728\n",
      "Epoch 103/200\n",
      "710/750 [===========================>..] - ETA: 0s - loss: 0.0275 - accuracy: 0.8606\n",
      "Epoch 103: val_accuracy improved from 0.87283 to 0.87300, saving model to ../model/2-layer-NN\\best-model.h5\n",
      "750/750 [==============================] - 1s 1ms/step - loss: 0.0275 - accuracy: 0.8607 - val_loss: 0.0256 - val_accuracy: 0.8730\n",
      "Epoch 104/200\n",
      "703/750 [===========================>..] - ETA: 0s - loss: 0.0274 - accuracy: 0.8608\n",
      "Epoch 104: val_accuracy improved from 0.87300 to 0.87325, saving model to ../model/2-layer-NN\\best-model.h5\n",
      "750/750 [==============================] - 1s 1ms/step - loss: 0.0273 - accuracy: 0.8614 - val_loss: 0.0254 - val_accuracy: 0.8733\n",
      "Epoch 105/200\n",
      "735/750 [============================>.] - ETA: 0s - loss: 0.0271 - accuracy: 0.8618\n",
      "Epoch 105: val_accuracy improved from 0.87325 to 0.87483, saving model to ../model/2-layer-NN\\best-model.h5\n",
      "750/750 [==============================] - 1s 1ms/step - loss: 0.0271 - accuracy: 0.8617 - val_loss: 0.0252 - val_accuracy: 0.8748\n",
      "Epoch 106/200\n",
      "718/750 [===========================>..] - ETA: 0s - loss: 0.0270 - accuracy: 0.8627\n",
      "Epoch 106: val_accuracy did not improve from 0.87483\n",
      "750/750 [==============================] - 1s 1ms/step - loss: 0.0270 - accuracy: 0.8630 - val_loss: 0.0250 - val_accuracy: 0.8742\n",
      "Epoch 107/200\n",
      "727/750 [============================>.] - ETA: 0s - loss: 0.0268 - accuracy: 0.8632\n",
      "Epoch 107: val_accuracy improved from 0.87483 to 0.87558, saving model to ../model/2-layer-NN\\best-model.h5\n",
      "750/750 [==============================] - 1s 1ms/step - loss: 0.0268 - accuracy: 0.8630 - val_loss: 0.0249 - val_accuracy: 0.8756\n",
      "Epoch 108/200\n",
      "716/750 [===========================>..] - ETA: 0s - loss: 0.0266 - accuracy: 0.8638\n",
      "Epoch 108: val_accuracy improved from 0.87558 to 0.87583, saving model to ../model/2-layer-NN\\best-model.h5\n",
      "750/750 [==============================] - 1s 1ms/step - loss: 0.0266 - accuracy: 0.8635 - val_loss: 0.0247 - val_accuracy: 0.8758\n",
      "Epoch 109/200\n",
      "739/750 [============================>.] - ETA: 0s - loss: 0.0264 - accuracy: 0.8646\n",
      "Epoch 109: val_accuracy did not improve from 0.87583\n",
      "750/750 [==============================] - 1s 1ms/step - loss: 0.0264 - accuracy: 0.8643 - val_loss: 0.0245 - val_accuracy: 0.8757\n",
      "Epoch 110/200\n",
      "748/750 [============================>.] - ETA: 0s - loss: 0.0263 - accuracy: 0.8647\n",
      "Epoch 110: val_accuracy improved from 0.87583 to 0.87617, saving model to ../model/2-layer-NN\\best-model.h5\n",
      "750/750 [==============================] - 1s 1ms/step - loss: 0.0263 - accuracy: 0.8646 - val_loss: 0.0244 - val_accuracy: 0.8762\n",
      "Epoch 111/200\n",
      "724/750 [===========================>..] - ETA: 0s - loss: 0.0261 - accuracy: 0.8653\n",
      "Epoch 111: val_accuracy improved from 0.87617 to 0.87658, saving model to ../model/2-layer-NN\\best-model.h5\n",
      "750/750 [==============================] - 1s 1ms/step - loss: 0.0261 - accuracy: 0.8653 - val_loss: 0.0242 - val_accuracy: 0.8766\n",
      "Epoch 112/200\n",
      "742/750 [============================>.] - ETA: 0s - loss: 0.0259 - accuracy: 0.8659\n",
      "Epoch 112: val_accuracy improved from 0.87658 to 0.87708, saving model to ../model/2-layer-NN\\best-model.h5\n",
      "750/750 [==============================] - 1s 1ms/step - loss: 0.0259 - accuracy: 0.8660 - val_loss: 0.0240 - val_accuracy: 0.8771\n",
      "Epoch 113/200\n",
      "747/750 [============================>.] - ETA: 0s - loss: 0.0258 - accuracy: 0.8664\n",
      "Epoch 113: val_accuracy improved from 0.87708 to 0.87783, saving model to ../model/2-layer-NN\\best-model.h5\n",
      "750/750 [==============================] - 1s 1ms/step - loss: 0.0258 - accuracy: 0.8663 - val_loss: 0.0239 - val_accuracy: 0.8778\n",
      "Epoch 114/200\n",
      "724/750 [===========================>..] - ETA: 0s - loss: 0.0256 - accuracy: 0.8665\n",
      "Epoch 114: val_accuracy improved from 0.87783 to 0.87825, saving model to ../model/2-layer-NN\\best-model.h5\n",
      "750/750 [==============================] - 1s 1ms/step - loss: 0.0256 - accuracy: 0.8669 - val_loss: 0.0237 - val_accuracy: 0.8783\n",
      "Epoch 115/200\n",
      "740/750 [============================>.] - ETA: 0s - loss: 0.0254 - accuracy: 0.8680\n",
      "Epoch 115: val_accuracy improved from 0.87825 to 0.87850, saving model to ../model/2-layer-NN\\best-model.h5\n",
      "750/750 [==============================] - 1s 1ms/step - loss: 0.0255 - accuracy: 0.8674 - val_loss: 0.0236 - val_accuracy: 0.8785\n",
      "Epoch 116/200\n",
      "702/750 [===========================>..] - ETA: 0s - loss: 0.0253 - accuracy: 0.8681\n",
      "Epoch 116: val_accuracy improved from 0.87850 to 0.87942, saving model to ../model/2-layer-NN\\best-model.h5\n",
      "750/750 [==============================] - 1s 1ms/step - loss: 0.0253 - accuracy: 0.8678 - val_loss: 0.0234 - val_accuracy: 0.8794\n",
      "Epoch 117/200\n",
      "725/750 [============================>.] - ETA: 0s - loss: 0.0252 - accuracy: 0.8681\n",
      "Epoch 117: val_accuracy improved from 0.87942 to 0.87975, saving model to ../model/2-layer-NN\\best-model.h5\n",
      "750/750 [==============================] - 1s 1ms/step - loss: 0.0252 - accuracy: 0.8684 - val_loss: 0.0233 - val_accuracy: 0.8798\n",
      "Epoch 118/200\n",
      "709/750 [===========================>..] - ETA: 0s - loss: 0.0250 - accuracy: 0.8691\n",
      "Epoch 118: val_accuracy did not improve from 0.87975\n",
      "750/750 [==============================] - 1s 1ms/step - loss: 0.0250 - accuracy: 0.8688 - val_loss: 0.0232 - val_accuracy: 0.8798\n",
      "Epoch 119/200\n",
      "732/750 [============================>.] - ETA: 0s - loss: 0.0249 - accuracy: 0.8694\n",
      "Epoch 119: val_accuracy improved from 0.87975 to 0.88017, saving model to ../model/2-layer-NN\\best-model.h5\n",
      "750/750 [==============================] - 1s 1ms/step - loss: 0.0249 - accuracy: 0.8694 - val_loss: 0.0230 - val_accuracy: 0.8802\n",
      "Epoch 120/200\n",
      "749/750 [============================>.] - ETA: 0s - loss: 0.0248 - accuracy: 0.8693\n",
      "Epoch 120: val_accuracy improved from 0.88017 to 0.88050, saving model to ../model/2-layer-NN\\best-model.h5\n",
      "750/750 [==============================] - 1s 1ms/step - loss: 0.0248 - accuracy: 0.8693 - val_loss: 0.0229 - val_accuracy: 0.8805\n",
      "Epoch 121/200\n",
      "733/750 [============================>.] - ETA: 0s - loss: 0.0246 - accuracy: 0.8701\n",
      "Epoch 121: val_accuracy did not improve from 0.88050\n",
      "750/750 [==============================] - 1s 1ms/step - loss: 0.0246 - accuracy: 0.8702 - val_loss: 0.0228 - val_accuracy: 0.8802\n",
      "Epoch 122/200\n",
      "724/750 [===========================>..] - ETA: 0s - loss: 0.0245 - accuracy: 0.8699\n",
      "Epoch 122: val_accuracy improved from 0.88050 to 0.88117, saving model to ../model/2-layer-NN\\best-model.h5\n",
      "750/750 [==============================] - 1s 1ms/step - loss: 0.0245 - accuracy: 0.8702 - val_loss: 0.0226 - val_accuracy: 0.8812\n",
      "Epoch 123/200\n",
      "714/750 [===========================>..] - ETA: 0s - loss: 0.0243 - accuracy: 0.8709\n",
      "Epoch 123: val_accuracy improved from 0.88117 to 0.88142, saving model to ../model/2-layer-NN\\best-model.h5\n",
      "750/750 [==============================] - 1s 1ms/step - loss: 0.0244 - accuracy: 0.8707 - val_loss: 0.0225 - val_accuracy: 0.8814\n",
      "Epoch 124/200\n",
      "741/750 [============================>.] - ETA: 0s - loss: 0.0242 - accuracy: 0.8712\n",
      "Epoch 124: val_accuracy improved from 0.88142 to 0.88150, saving model to ../model/2-layer-NN\\best-model.h5\n",
      "750/750 [==============================] - 1s 1ms/step - loss: 0.0242 - accuracy: 0.8713 - val_loss: 0.0224 - val_accuracy: 0.8815\n",
      "Epoch 125/200\n",
      "729/750 [============================>.] - ETA: 0s - loss: 0.0241 - accuracy: 0.8716\n",
      "Epoch 125: val_accuracy did not improve from 0.88150\n",
      "750/750 [==============================] - 1s 1ms/step - loss: 0.0241 - accuracy: 0.8715 - val_loss: 0.0223 - val_accuracy: 0.8814\n",
      "Epoch 126/200\n",
      "716/750 [===========================>..] - ETA: 0s - loss: 0.0241 - accuracy: 0.8714\n",
      "Epoch 126: val_accuracy improved from 0.88150 to 0.88217, saving model to ../model/2-layer-NN\\best-model.h5\n",
      "750/750 [==============================] - 1s 1ms/step - loss: 0.0240 - accuracy: 0.8721 - val_loss: 0.0222 - val_accuracy: 0.8822\n",
      "Epoch 127/200\n",
      "728/750 [============================>.] - ETA: 0s - loss: 0.0239 - accuracy: 0.8726\n",
      "Epoch 127: val_accuracy improved from 0.88217 to 0.88233, saving model to ../model/2-layer-NN\\best-model.h5\n",
      "750/750 [==============================] - 1s 1ms/step - loss: 0.0239 - accuracy: 0.8726 - val_loss: 0.0220 - val_accuracy: 0.8823\n",
      "Epoch 128/200\n",
      "718/750 [===========================>..] - ETA: 0s - loss: 0.0238 - accuracy: 0.8723\n",
      "Epoch 128: val_accuracy improved from 0.88233 to 0.88308, saving model to ../model/2-layer-NN\\best-model.h5\n",
      "750/750 [==============================] - 1s 1ms/step - loss: 0.0238 - accuracy: 0.8727 - val_loss: 0.0219 - val_accuracy: 0.8831\n",
      "Epoch 129/200\n",
      "723/750 [===========================>..] - ETA: 0s - loss: 0.0237 - accuracy: 0.8731\n",
      "Epoch 129: val_accuracy did not improve from 0.88308\n",
      "750/750 [==============================] - 1s 1ms/step - loss: 0.0236 - accuracy: 0.8732 - val_loss: 0.0218 - val_accuracy: 0.8830\n",
      "Epoch 130/200\n",
      "717/750 [===========================>..] - ETA: 0s - loss: 0.0236 - accuracy: 0.8734\n",
      "Epoch 130: val_accuracy improved from 0.88308 to 0.88367, saving model to ../model/2-layer-NN\\best-model.h5\n",
      "750/750 [==============================] - 1s 1ms/step - loss: 0.0235 - accuracy: 0.8735 - val_loss: 0.0217 - val_accuracy: 0.8837\n",
      "Epoch 131/200\n",
      "724/750 [===========================>..] - ETA: 0s - loss: 0.0234 - accuracy: 0.8742\n",
      "Epoch 131: val_accuracy improved from 0.88367 to 0.88458, saving model to ../model/2-layer-NN\\best-model.h5\n",
      "750/750 [==============================] - 1s 1ms/step - loss: 0.0234 - accuracy: 0.8742 - val_loss: 0.0216 - val_accuracy: 0.8846\n",
      "Epoch 132/200\n",
      "723/750 [===========================>..] - ETA: 0s - loss: 0.0233 - accuracy: 0.8744\n",
      "Epoch 132: val_accuracy improved from 0.88458 to 0.88508, saving model to ../model/2-layer-NN\\best-model.h5\n",
      "750/750 [==============================] - 1s 1ms/step - loss: 0.0233 - accuracy: 0.8743 - val_loss: 0.0215 - val_accuracy: 0.8851\n",
      "Epoch 133/200\n",
      "735/750 [============================>.] - ETA: 0s - loss: 0.0232 - accuracy: 0.8746\n",
      "Epoch 133: val_accuracy improved from 0.88508 to 0.88525, saving model to ../model/2-layer-NN\\best-model.h5\n",
      "750/750 [==============================] - 1s 1ms/step - loss: 0.0232 - accuracy: 0.8748 - val_loss: 0.0214 - val_accuracy: 0.8852\n",
      "Epoch 134/200\n",
      "726/750 [============================>.] - ETA: 0s - loss: 0.0231 - accuracy: 0.8753\n",
      "Epoch 134: val_accuracy improved from 0.88525 to 0.88558, saving model to ../model/2-layer-NN\\best-model.h5\n",
      "750/750 [==============================] - 1s 1ms/step - loss: 0.0231 - accuracy: 0.8752 - val_loss: 0.0213 - val_accuracy: 0.8856\n",
      "Epoch 135/200\n",
      "718/750 [===========================>..] - ETA: 0s - loss: 0.0230 - accuracy: 0.8752\n",
      "Epoch 135: val_accuracy did not improve from 0.88558\n",
      "750/750 [==============================] - 1s 1ms/step - loss: 0.0230 - accuracy: 0.8756 - val_loss: 0.0212 - val_accuracy: 0.8856\n",
      "Epoch 136/200\n",
      "725/750 [============================>.] - ETA: 0s - loss: 0.0229 - accuracy: 0.8758\n",
      "Epoch 136: val_accuracy improved from 0.88558 to 0.88642, saving model to ../model/2-layer-NN\\best-model.h5\n",
      "750/750 [==============================] - 1s 1ms/step - loss: 0.0229 - accuracy: 0.8759 - val_loss: 0.0211 - val_accuracy: 0.8864\n",
      "Epoch 137/200\n",
      "726/750 [============================>.] - ETA: 0s - loss: 0.0228 - accuracy: 0.8765\n",
      "Epoch 137: val_accuracy improved from 0.88642 to 0.88650, saving model to ../model/2-layer-NN\\best-model.h5\n",
      "750/750 [==============================] - 1s 1ms/step - loss: 0.0228 - accuracy: 0.8762 - val_loss: 0.0210 - val_accuracy: 0.8865\n",
      "Epoch 138/200\n",
      "722/750 [===========================>..] - ETA: 0s - loss: 0.0227 - accuracy: 0.8766\n",
      "Epoch 138: val_accuracy did not improve from 0.88650\n",
      "750/750 [==============================] - 1s 1ms/step - loss: 0.0227 - accuracy: 0.8761 - val_loss: 0.0210 - val_accuracy: 0.8865\n",
      "Epoch 139/200\n",
      "721/750 [===========================>..] - ETA: 0s - loss: 0.0226 - accuracy: 0.8769\n",
      "Epoch 139: val_accuracy improved from 0.88650 to 0.88667, saving model to ../model/2-layer-NN\\best-model.h5\n",
      "750/750 [==============================] - 1s 1ms/step - loss: 0.0226 - accuracy: 0.8766 - val_loss: 0.0209 - val_accuracy: 0.8867\n",
      "Epoch 140/200\n",
      "729/750 [============================>.] - ETA: 0s - loss: 0.0225 - accuracy: 0.8766\n",
      "Epoch 140: val_accuracy improved from 0.88667 to 0.88708, saving model to ../model/2-layer-NN\\best-model.h5\n",
      "750/750 [==============================] - 1s 1ms/step - loss: 0.0225 - accuracy: 0.8768 - val_loss: 0.0208 - val_accuracy: 0.8871\n",
      "Epoch 141/200\n",
      "736/750 [============================>.] - ETA: 0s - loss: 0.0224 - accuracy: 0.8771\n",
      "Epoch 141: val_accuracy did not improve from 0.88708\n",
      "750/750 [==============================] - 1s 1ms/step - loss: 0.0224 - accuracy: 0.8770 - val_loss: 0.0207 - val_accuracy: 0.8869\n",
      "Epoch 142/200\n",
      "744/750 [============================>.] - ETA: 0s - loss: 0.0224 - accuracy: 0.8774\n",
      "Epoch 142: val_accuracy improved from 0.88708 to 0.88750, saving model to ../model/2-layer-NN\\best-model.h5\n",
      "750/750 [==============================] - 1s 1ms/step - loss: 0.0224 - accuracy: 0.8774 - val_loss: 0.0206 - val_accuracy: 0.8875\n",
      "Epoch 143/200\n",
      "732/750 [============================>.] - ETA: 0s - loss: 0.0223 - accuracy: 0.8779\n",
      "Epoch 143: val_accuracy improved from 0.88750 to 0.88775, saving model to ../model/2-layer-NN\\best-model.h5\n",
      "750/750 [==============================] - 1s 1ms/step - loss: 0.0223 - accuracy: 0.8778 - val_loss: 0.0205 - val_accuracy: 0.8878\n",
      "Epoch 144/200\n",
      "721/750 [===========================>..] - ETA: 0s - loss: 0.0222 - accuracy: 0.8780\n",
      "Epoch 144: val_accuracy improved from 0.88775 to 0.88817, saving model to ../model/2-layer-NN\\best-model.h5\n",
      "750/750 [==============================] - 1s 1ms/step - loss: 0.0222 - accuracy: 0.8779 - val_loss: 0.0204 - val_accuracy: 0.8882\n",
      "Epoch 145/200\n",
      "725/750 [============================>.] - ETA: 0s - loss: 0.0221 - accuracy: 0.8779\n",
      "Epoch 145: val_accuracy improved from 0.88817 to 0.88825, saving model to ../model/2-layer-NN\\best-model.h5\n",
      "750/750 [==============================] - 1s 1ms/step - loss: 0.0221 - accuracy: 0.8783 - val_loss: 0.0204 - val_accuracy: 0.8882\n",
      "Epoch 146/200\n",
      "726/750 [============================>.] - ETA: 0s - loss: 0.0221 - accuracy: 0.8784\n",
      "Epoch 146: val_accuracy improved from 0.88825 to 0.88900, saving model to ../model/2-layer-NN\\best-model.h5\n",
      "750/750 [==============================] - 1s 1ms/step - loss: 0.0220 - accuracy: 0.8786 - val_loss: 0.0203 - val_accuracy: 0.8890\n",
      "Epoch 147/200\n",
      "725/750 [============================>.] - ETA: 0s - loss: 0.0219 - accuracy: 0.8789\n",
      "Epoch 147: val_accuracy improved from 0.88900 to 0.88925, saving model to ../model/2-layer-NN\\best-model.h5\n",
      "750/750 [==============================] - 1s 1ms/step - loss: 0.0219 - accuracy: 0.8786 - val_loss: 0.0202 - val_accuracy: 0.8892\n",
      "Epoch 148/200\n",
      "729/750 [============================>.] - ETA: 0s - loss: 0.0218 - accuracy: 0.8793\n",
      "Epoch 148: val_accuracy improved from 0.88925 to 0.88933, saving model to ../model/2-layer-NN\\best-model.h5\n",
      "750/750 [==============================] - 1s 1ms/step - loss: 0.0219 - accuracy: 0.8791 - val_loss: 0.0201 - val_accuracy: 0.8893\n",
      "Epoch 149/200\n",
      "714/750 [===========================>..] - ETA: 0s - loss: 0.0218 - accuracy: 0.8788\n",
      "Epoch 149: val_accuracy did not improve from 0.88933\n",
      "750/750 [==============================] - 1s 1ms/step - loss: 0.0218 - accuracy: 0.8793 - val_loss: 0.0201 - val_accuracy: 0.8892\n",
      "Epoch 150/200\n",
      "721/750 [===========================>..] - ETA: 0s - loss: 0.0217 - accuracy: 0.8793\n",
      "Epoch 150: val_accuracy improved from 0.88933 to 0.88975, saving model to ../model/2-layer-NN\\best-model.h5\n",
      "750/750 [==============================] - 1s 1ms/step - loss: 0.0217 - accuracy: 0.8794 - val_loss: 0.0200 - val_accuracy: 0.8898\n",
      "Epoch 151/200\n",
      "723/750 [===========================>..] - ETA: 0s - loss: 0.0216 - accuracy: 0.8802\n",
      "Epoch 151: val_accuracy improved from 0.88975 to 0.89000, saving model to ../model/2-layer-NN\\best-model.h5\n",
      "750/750 [==============================] - 1s 1ms/step - loss: 0.0216 - accuracy: 0.8799 - val_loss: 0.0199 - val_accuracy: 0.8900\n",
      "Epoch 152/200\n",
      "714/750 [===========================>..] - ETA: 0s - loss: 0.0215 - accuracy: 0.8807\n",
      "Epoch 152: val_accuracy did not improve from 0.89000\n",
      "750/750 [==============================] - 1s 1ms/step - loss: 0.0216 - accuracy: 0.8802 - val_loss: 0.0199 - val_accuracy: 0.8899\n",
      "Epoch 153/200\n",
      "725/750 [============================>.] - ETA: 0s - loss: 0.0214 - accuracy: 0.8809\n",
      "Epoch 153: val_accuracy improved from 0.89000 to 0.89050, saving model to ../model/2-layer-NN\\best-model.h5\n",
      "750/750 [==============================] - 1s 1ms/step - loss: 0.0215 - accuracy: 0.8805 - val_loss: 0.0198 - val_accuracy: 0.8905\n",
      "Epoch 154/200\n",
      "715/750 [===========================>..] - ETA: 0s - loss: 0.0214 - accuracy: 0.8807\n",
      "Epoch 154: val_accuracy did not improve from 0.89050\n",
      "750/750 [==============================] - 1s 1ms/step - loss: 0.0214 - accuracy: 0.8805 - val_loss: 0.0197 - val_accuracy: 0.8899\n",
      "Epoch 155/200\n",
      "723/750 [===========================>..] - ETA: 0s - loss: 0.0213 - accuracy: 0.8809\n",
      "Epoch 155: val_accuracy did not improve from 0.89050\n",
      "750/750 [==============================] - 1s 1ms/step - loss: 0.0213 - accuracy: 0.8808 - val_loss: 0.0196 - val_accuracy: 0.8904\n",
      "Epoch 156/200\n",
      "735/750 [============================>.] - ETA: 0s - loss: 0.0213 - accuracy: 0.8807\n",
      "Epoch 156: val_accuracy improved from 0.89050 to 0.89058, saving model to ../model/2-layer-NN\\best-model.h5\n",
      "750/750 [==============================] - 1s 1ms/step - loss: 0.0213 - accuracy: 0.8809 - val_loss: 0.0196 - val_accuracy: 0.8906\n",
      "Epoch 157/200\n",
      "748/750 [============================>.] - ETA: 0s - loss: 0.0212 - accuracy: 0.8816\n",
      "Epoch 157: val_accuracy improved from 0.89058 to 0.89067, saving model to ../model/2-layer-NN\\best-model.h5\n",
      "750/750 [==============================] - 1s 1ms/step - loss: 0.0212 - accuracy: 0.8816 - val_loss: 0.0195 - val_accuracy: 0.8907\n",
      "Epoch 158/200\n",
      "720/750 [===========================>..] - ETA: 0s - loss: 0.0211 - accuracy: 0.8819\n",
      "Epoch 158: val_accuracy improved from 0.89067 to 0.89083, saving model to ../model/2-layer-NN\\best-model.h5\n",
      "750/750 [==============================] - 1s 1ms/step - loss: 0.0211 - accuracy: 0.8817 - val_loss: 0.0195 - val_accuracy: 0.8908\n",
      "Epoch 159/200\n",
      "705/750 [===========================>..] - ETA: 0s - loss: 0.0211 - accuracy: 0.8820\n",
      "Epoch 159: val_accuracy did not improve from 0.89083\n",
      "750/750 [==============================] - 1s 1ms/step - loss: 0.0211 - accuracy: 0.8818 - val_loss: 0.0194 - val_accuracy: 0.8907\n",
      "Epoch 160/200\n",
      "727/750 [============================>.] - ETA: 0s - loss: 0.0210 - accuracy: 0.8825\n",
      "Epoch 160: val_accuracy improved from 0.89083 to 0.89125, saving model to ../model/2-layer-NN\\best-model.h5\n",
      "750/750 [==============================] - 1s 1ms/step - loss: 0.0210 - accuracy: 0.8822 - val_loss: 0.0193 - val_accuracy: 0.8913\n",
      "Epoch 161/200\n",
      "710/750 [===========================>..] - ETA: 0s - loss: 0.0210 - accuracy: 0.8823\n",
      "Epoch 161: val_accuracy improved from 0.89125 to 0.89150, saving model to ../model/2-layer-NN\\best-model.h5\n",
      "750/750 [==============================] - 1s 1ms/step - loss: 0.0209 - accuracy: 0.8824 - val_loss: 0.0193 - val_accuracy: 0.8915\n",
      "Epoch 162/200\n",
      "708/750 [===========================>..] - ETA: 0s - loss: 0.0208 - accuracy: 0.8833\n",
      "Epoch 162: val_accuracy improved from 0.89150 to 0.89158, saving model to ../model/2-layer-NN\\best-model.h5\n",
      "750/750 [==============================] - 1s 1ms/step - loss: 0.0209 - accuracy: 0.8827 - val_loss: 0.0192 - val_accuracy: 0.8916\n",
      "Epoch 163/200\n",
      "714/750 [===========================>..] - ETA: 0s - loss: 0.0208 - accuracy: 0.8834\n",
      "Epoch 163: val_accuracy did not improve from 0.89158\n",
      "750/750 [==============================] - 1s 1ms/step - loss: 0.0208 - accuracy: 0.8828 - val_loss: 0.0191 - val_accuracy: 0.8914\n",
      "Epoch 164/200\n",
      "745/750 [============================>.] - ETA: 0s - loss: 0.0207 - accuracy: 0.8827\n",
      "Epoch 164: val_accuracy did not improve from 0.89158\n",
      "750/750 [==============================] - 1s 1ms/step - loss: 0.0207 - accuracy: 0.8829 - val_loss: 0.0191 - val_accuracy: 0.8914\n",
      "Epoch 165/200\n",
      "749/750 [============================>.] - ETA: 0s - loss: 0.0207 - accuracy: 0.8833\n",
      "Epoch 165: val_accuracy did not improve from 0.89158\n",
      "750/750 [==============================] - 1s 1ms/step - loss: 0.0207 - accuracy: 0.8833 - val_loss: 0.0190 - val_accuracy: 0.8916\n",
      "Epoch 166/200\n",
      "725/750 [============================>.] - ETA: 0s - loss: 0.0206 - accuracy: 0.8842\n",
      "Epoch 166: val_accuracy improved from 0.89158 to 0.89200, saving model to ../model/2-layer-NN\\best-model.h5\n",
      "750/750 [==============================] - 1s 1ms/step - loss: 0.0206 - accuracy: 0.8838 - val_loss: 0.0190 - val_accuracy: 0.8920\n",
      "Epoch 167/200\n",
      "738/750 [============================>.] - ETA: 0s - loss: 0.0205 - accuracy: 0.8838\n",
      "Epoch 167: val_accuracy improved from 0.89200 to 0.89225, saving model to ../model/2-layer-NN\\best-model.h5\n",
      "750/750 [==============================] - 1s 1ms/step - loss: 0.0206 - accuracy: 0.8836 - val_loss: 0.0189 - val_accuracy: 0.8923\n",
      "Epoch 168/200\n",
      "712/750 [===========================>..] - ETA: 0s - loss: 0.0205 - accuracy: 0.8835\n",
      "Epoch 168: val_accuracy improved from 0.89225 to 0.89233, saving model to ../model/2-layer-NN\\best-model.h5\n",
      "750/750 [==============================] - 1s 1ms/step - loss: 0.0205 - accuracy: 0.8839 - val_loss: 0.0189 - val_accuracy: 0.8923\n",
      "Epoch 169/200\n",
      "716/750 [===========================>..] - ETA: 0s - loss: 0.0204 - accuracy: 0.8844\n",
      "Epoch 169: val_accuracy did not improve from 0.89233\n",
      "750/750 [==============================] - 1s 1ms/step - loss: 0.0204 - accuracy: 0.8842 - val_loss: 0.0188 - val_accuracy: 0.8917\n",
      "Epoch 170/200\n",
      "725/750 [============================>.] - ETA: 0s - loss: 0.0204 - accuracy: 0.8841\n",
      "Epoch 170: val_accuracy improved from 0.89233 to 0.89250, saving model to ../model/2-layer-NN\\best-model.h5\n",
      "750/750 [==============================] - 1s 1ms/step - loss: 0.0204 - accuracy: 0.8841 - val_loss: 0.0188 - val_accuracy: 0.8925\n",
      "Epoch 171/200\n",
      "749/750 [============================>.] - ETA: 0s - loss: 0.0203 - accuracy: 0.8844\n",
      "Epoch 171: val_accuracy improved from 0.89250 to 0.89308, saving model to ../model/2-layer-NN\\best-model.h5\n",
      "750/750 [==============================] - 1s 1ms/step - loss: 0.0203 - accuracy: 0.8844 - val_loss: 0.0187 - val_accuracy: 0.8931\n",
      "Epoch 172/200\n",
      "719/750 [===========================>..] - ETA: 0s - loss: 0.0202 - accuracy: 0.8852\n",
      "Epoch 172: val_accuracy did not improve from 0.89308\n",
      "750/750 [==============================] - 1s 1ms/step - loss: 0.0203 - accuracy: 0.8848 - val_loss: 0.0187 - val_accuracy: 0.8927\n",
      "Epoch 173/200\n",
      "737/750 [============================>.] - ETA: 0s - loss: 0.0202 - accuracy: 0.8852\n",
      "Epoch 173: val_accuracy did not improve from 0.89308\n",
      "750/750 [==============================] - 1s 1ms/step - loss: 0.0202 - accuracy: 0.8850 - val_loss: 0.0186 - val_accuracy: 0.8928\n",
      "Epoch 174/200\n",
      "733/750 [============================>.] - ETA: 0s - loss: 0.0202 - accuracy: 0.8854\n",
      "Epoch 174: val_accuracy did not improve from 0.89308\n",
      "750/750 [==============================] - 1s 1ms/step - loss: 0.0202 - accuracy: 0.8852 - val_loss: 0.0186 - val_accuracy: 0.8929\n",
      "Epoch 175/200\n",
      "738/750 [============================>.] - ETA: 0s - loss: 0.0202 - accuracy: 0.8849\n",
      "Epoch 175: val_accuracy improved from 0.89308 to 0.89317, saving model to ../model/2-layer-NN\\best-model.h5\n",
      "750/750 [==============================] - 1s 1ms/step - loss: 0.0201 - accuracy: 0.8853 - val_loss: 0.0185 - val_accuracy: 0.8932\n",
      "Epoch 176/200\n",
      "717/750 [===========================>..] - ETA: 0s - loss: 0.0201 - accuracy: 0.8856\n",
      "Epoch 176: val_accuracy improved from 0.89317 to 0.89333, saving model to ../model/2-layer-NN\\best-model.h5\n",
      "750/750 [==============================] - 1s 1ms/step - loss: 0.0201 - accuracy: 0.8855 - val_loss: 0.0185 - val_accuracy: 0.8933\n",
      "Epoch 177/200\n",
      "743/750 [============================>.] - ETA: 0s - loss: 0.0200 - accuracy: 0.8856\n",
      "Epoch 177: val_accuracy improved from 0.89333 to 0.89383, saving model to ../model/2-layer-NN\\best-model.h5\n",
      "750/750 [==============================] - 1s 1ms/step - loss: 0.0200 - accuracy: 0.8856 - val_loss: 0.0184 - val_accuracy: 0.8938\n",
      "Epoch 178/200\n",
      "734/750 [============================>.] - ETA: 0s - loss: 0.0199 - accuracy: 0.8860\n",
      "Epoch 178: val_accuracy improved from 0.89383 to 0.89392, saving model to ../model/2-layer-NN\\best-model.h5\n",
      "750/750 [==============================] - 1s 1ms/step - loss: 0.0200 - accuracy: 0.8859 - val_loss: 0.0184 - val_accuracy: 0.8939\n",
      "Epoch 179/200\n",
      "721/750 [===========================>..] - ETA: 0s - loss: 0.0199 - accuracy: 0.8861\n",
      "Epoch 179: val_accuracy improved from 0.89392 to 0.89408, saving model to ../model/2-layer-NN\\best-model.h5\n",
      "750/750 [==============================] - 1s 1ms/step - loss: 0.0199 - accuracy: 0.8861 - val_loss: 0.0183 - val_accuracy: 0.8941\n",
      "Epoch 180/200\n",
      "717/750 [===========================>..] - ETA: 0s - loss: 0.0198 - accuracy: 0.8862\n",
      "Epoch 180: val_accuracy did not improve from 0.89408\n",
      "750/750 [==============================] - 1s 1ms/step - loss: 0.0198 - accuracy: 0.8861 - val_loss: 0.0183 - val_accuracy: 0.8940\n",
      "Epoch 181/200\n",
      "747/750 [============================>.] - ETA: 0s - loss: 0.0198 - accuracy: 0.8864\n",
      "Epoch 181: val_accuracy improved from 0.89408 to 0.89433, saving model to ../model/2-layer-NN\\best-model.h5\n",
      "750/750 [==============================] - 1s 1ms/step - loss: 0.0198 - accuracy: 0.8863 - val_loss: 0.0182 - val_accuracy: 0.8943\n",
      "Epoch 182/200\n",
      "720/750 [===========================>..] - ETA: 0s - loss: 0.0197 - accuracy: 0.8875\n",
      "Epoch 182: val_accuracy did not improve from 0.89433\n",
      "750/750 [==============================] - 1s 1ms/step - loss: 0.0198 - accuracy: 0.8865 - val_loss: 0.0182 - val_accuracy: 0.8942\n",
      "Epoch 183/200\n",
      "744/750 [============================>.] - ETA: 0s - loss: 0.0197 - accuracy: 0.8867\n",
      "Epoch 183: val_accuracy did not improve from 0.89433\n",
      "750/750 [==============================] - 1s 1ms/step - loss: 0.0197 - accuracy: 0.8867 - val_loss: 0.0181 - val_accuracy: 0.8943\n",
      "Epoch 184/200\n",
      "729/750 [============================>.] - ETA: 0s - loss: 0.0197 - accuracy: 0.8870\n",
      "Epoch 184: val_accuracy improved from 0.89433 to 0.89483, saving model to ../model/2-layer-NN\\best-model.h5\n",
      "750/750 [==============================] - 1s 1ms/step - loss: 0.0197 - accuracy: 0.8869 - val_loss: 0.0181 - val_accuracy: 0.8948\n",
      "Epoch 185/200\n",
      "717/750 [===========================>..] - ETA: 0s - loss: 0.0196 - accuracy: 0.8869\n",
      "Epoch 185: val_accuracy did not improve from 0.89483\n",
      "750/750 [==============================] - 1s 1ms/step - loss: 0.0196 - accuracy: 0.8867 - val_loss: 0.0181 - val_accuracy: 0.8947\n",
      "Epoch 186/200\n",
      "714/750 [===========================>..] - ETA: 0s - loss: 0.0196 - accuracy: 0.8872\n",
      "Epoch 186: val_accuracy improved from 0.89483 to 0.89500, saving model to ../model/2-layer-NN\\best-model.h5\n",
      "750/750 [==============================] - 1s 1ms/step - loss: 0.0196 - accuracy: 0.8872 - val_loss: 0.0180 - val_accuracy: 0.8950\n",
      "Epoch 187/200\n",
      "715/750 [===========================>..] - ETA: 0s - loss: 0.0195 - accuracy: 0.8874\n",
      "Epoch 187: val_accuracy improved from 0.89500 to 0.89508, saving model to ../model/2-layer-NN\\best-model.h5\n",
      "750/750 [==============================] - 1s 1ms/step - loss: 0.0195 - accuracy: 0.8871 - val_loss: 0.0180 - val_accuracy: 0.8951\n",
      "Epoch 188/200\n",
      "717/750 [===========================>..] - ETA: 0s - loss: 0.0195 - accuracy: 0.8875\n",
      "Epoch 188: val_accuracy improved from 0.89508 to 0.89550, saving model to ../model/2-layer-NN\\best-model.h5\n",
      "750/750 [==============================] - 1s 1ms/step - loss: 0.0195 - accuracy: 0.8871 - val_loss: 0.0179 - val_accuracy: 0.8955\n",
      "Epoch 189/200\n",
      "734/750 [============================>.] - ETA: 0s - loss: 0.0194 - accuracy: 0.8876\n",
      "Epoch 189: val_accuracy improved from 0.89550 to 0.89558, saving model to ../model/2-layer-NN\\best-model.h5\n",
      "750/750 [==============================] - 1s 1ms/step - loss: 0.0194 - accuracy: 0.8876 - val_loss: 0.0179 - val_accuracy: 0.8956\n",
      "Epoch 190/200\n",
      "726/750 [============================>.] - ETA: 0s - loss: 0.0194 - accuracy: 0.8873\n",
      "Epoch 190: val_accuracy did not improve from 0.89558\n",
      "750/750 [==============================] - 1s 1ms/step - loss: 0.0194 - accuracy: 0.8876 - val_loss: 0.0179 - val_accuracy: 0.8955\n",
      "Epoch 191/200\n",
      "732/750 [============================>.] - ETA: 0s - loss: 0.0193 - accuracy: 0.8878\n",
      "Epoch 191: val_accuracy improved from 0.89558 to 0.89575, saving model to ../model/2-layer-NN\\best-model.h5\n",
      "750/750 [==============================] - 1s 1ms/step - loss: 0.0193 - accuracy: 0.8877 - val_loss: 0.0178 - val_accuracy: 0.8957\n",
      "Epoch 192/200\n",
      "735/750 [============================>.] - ETA: 0s - loss: 0.0193 - accuracy: 0.8876\n",
      "Epoch 192: val_accuracy did not improve from 0.89575\n",
      "750/750 [==============================] - 1s 1ms/step - loss: 0.0193 - accuracy: 0.8878 - val_loss: 0.0178 - val_accuracy: 0.8957\n",
      "Epoch 193/200\n",
      "716/750 [===========================>..] - ETA: 0s - loss: 0.0192 - accuracy: 0.8882\n",
      "Epoch 193: val_accuracy improved from 0.89575 to 0.89617, saving model to ../model/2-layer-NN\\best-model.h5\n",
      "750/750 [==============================] - 1s 1ms/step - loss: 0.0193 - accuracy: 0.8881 - val_loss: 0.0177 - val_accuracy: 0.8962\n",
      "Epoch 194/200\n",
      "721/750 [===========================>..] - ETA: 0s - loss: 0.0192 - accuracy: 0.8881\n",
      "Epoch 194: val_accuracy did not improve from 0.89617\n",
      "750/750 [==============================] - 1s 1ms/step - loss: 0.0192 - accuracy: 0.8880 - val_loss: 0.0177 - val_accuracy: 0.8958\n",
      "Epoch 195/200\n",
      "728/750 [============================>.] - ETA: 0s - loss: 0.0192 - accuracy: 0.8880\n",
      "Epoch 195: val_accuracy improved from 0.89617 to 0.89625, saving model to ../model/2-layer-NN\\best-model.h5\n",
      "750/750 [==============================] - 1s 1ms/step - loss: 0.0192 - accuracy: 0.8882 - val_loss: 0.0177 - val_accuracy: 0.8963\n",
      "Epoch 196/200\n",
      "725/750 [============================>.] - ETA: 0s - loss: 0.0191 - accuracy: 0.8886\n",
      "Epoch 196: val_accuracy improved from 0.89625 to 0.89667, saving model to ../model/2-layer-NN\\best-model.h5\n",
      "750/750 [==============================] - 1s 1ms/step - loss: 0.0191 - accuracy: 0.8884 - val_loss: 0.0176 - val_accuracy: 0.8967\n",
      "Epoch 197/200\n",
      "727/750 [============================>.] - ETA: 0s - loss: 0.0191 - accuracy: 0.8887\n",
      "Epoch 197: val_accuracy did not improve from 0.89667\n",
      "750/750 [==============================] - 1s 1ms/step - loss: 0.0191 - accuracy: 0.8886 - val_loss: 0.0176 - val_accuracy: 0.8966\n",
      "Epoch 198/200\n",
      "720/750 [===========================>..] - ETA: 0s - loss: 0.0190 - accuracy: 0.8887\n",
      "Epoch 198: val_accuracy did not improve from 0.89667\n",
      "750/750 [==============================] - 1s 1ms/step - loss: 0.0190 - accuracy: 0.8886 - val_loss: 0.0176 - val_accuracy: 0.8965\n",
      "Epoch 199/200\n",
      "726/750 [============================>.] - ETA: 0s - loss: 0.0191 - accuracy: 0.8885\n",
      "Epoch 199: val_accuracy did not improve from 0.89667\n",
      "750/750 [==============================] - 1s 1ms/step - loss: 0.0190 - accuracy: 0.8888 - val_loss: 0.0175 - val_accuracy: 0.8966\n",
      "Epoch 200/200\n",
      "717/750 [===========================>..] - ETA: 0s - loss: 0.0191 - accuracy: 0.8883\n",
      "Epoch 200: val_accuracy improved from 0.89667 to 0.89675, saving model to ../model/2-layer-NN\\best-model.h5\n",
      "750/750 [==============================] - 1s 1ms/step - loss: 0.0190 - accuracy: 0.8890 - val_loss: 0.0175 - val_accuracy: 0.8967\n"
     ]
    }
   ],
   "source": [
    "history = model.fit(X_train, y_train_onehot, epochs=EPOCHS, callbacks=[es, mcp], batch_size=BATCH_SIZE, validation_split=VALIDATION_SPLIT)"
   ]
  },
  {
   "cell_type": "markdown",
   "metadata": {
    "pycharm": {
     "name": "#%% md\n"
    }
   },
   "source": [
    "## Test Model"
   ]
  },
  {
   "cell_type": "code",
   "execution_count": 75,
   "metadata": {
    "collapsed": false,
    "jupyter": {
     "outputs_hidden": false
    },
    "pycharm": {
     "name": "#%%\n"
    }
   },
   "outputs": [
    {
     "name": "stdout",
     "output_type": "stream",
     "text": [
      "313/313 [==============================] - 1s 2ms/step - loss: 0.0177 - accuracy: 0.8979\n",
      "Test loss: 0.017692483961582184\n",
      "Test accuracy: 0.8978999853134155\n"
     ]
    }
   ],
   "source": [
    "loaded_model = load_model(SAVE_DIR+'best-model.h5')\n",
    "loss, acc = loaded_model.evaluate(X_test, y_test_onehot)\n",
    "\n",
    "print('Test loss:', loss)\n",
    "print('Test accuracy:', acc)"
   ]
  },
  {
   "cell_type": "markdown",
   "metadata": {
    "pycharm": {
     "name": "#%% md\n"
    }
   },
   "source": [
    "## Save Model"
   ]
  },
  {
   "cell_type": "code",
   "execution_count": 76,
   "metadata": {
    "collapsed": false,
    "jupyter": {
     "outputs_hidden": false
    },
    "pycharm": {
     "name": "#%%\n"
    }
   },
   "outputs": [
    {
     "name": "stdout",
     "output_type": "stream",
     "text": [
      "Saved trained model at ../model/2-layer-NN/trained-model.h5 \n"
     ]
    }
   ],
   "source": [
    "model_name = 'trained-model.h5'\n",
    "\n",
    "# Save model and weights\n",
    "model_path = os.path.join(SAVE_DIR, model_name)\n",
    "model.save(model_path)\n",
    "print('Saved trained model at %s ' % model_path)"
   ]
  },
  {
   "cell_type": "markdown",
   "metadata": {
    "pycharm": {
     "name": "#%% md\n"
    }
   },
   "source": [
    "## Evaluation"
   ]
  },
  {
   "cell_type": "markdown",
   "metadata": {
    "pycharm": {
     "name": "#%% md\n"
    }
   },
   "source": [
    "### Loss / Accuracy"
   ]
  },
  {
   "cell_type": "code",
   "execution_count": 77,
   "metadata": {},
   "outputs": [
    {
     "data": {
      "image/png": "[encoded data removed]",
      "text/plain": [
       "<Figure size 432x288 with 1 Axes>"
      ]
     },
     "metadata": {
      "needs_background": "light"
     },
     "output_type": "display_data"
    }
   ],
   "source": [
    "fig, loss_ax = plt.subplots()\n",
    "\n",
    "loss_ax.plot(history.history['loss'], 'y', label='train loss')\n",
    "loss_ax.plot(history.history['val_loss'], 'r', label='val loss')\n",
    "\n",
    "loss_ax.set_xlabel('epoch')\n",
    "loss_ax.set_ylabel('loss')\n",
    "\n",
    "loss_ax.legend(loc='upper left')\n",
    "plt.show()"
   ]
  },
  {
   "cell_type": "code",
   "execution_count": 78,
   "metadata": {},
   "outputs": [
    {
     "data": {
      "image/png": "[encoded data removed]",
      "text/plain": [
       "<Figure size 432x288 with 1 Axes>"
      ]
     },
     "metadata": {
      "needs_background": "light"
     },
     "output_type": "display_data"
    }
   ],
   "source": [
    "fig, acc_ax = plt.subplots()\n",
    "\n",
    "acc_ax.plot(history.history['accuracy'], 'b', label='train acc')\n",
    "acc_ax.plot(history.history['val_accuracy'], 'g', label='val acc')\n",
    "\n",
    "acc_ax.set_xlabel('epoch')\n",
    "acc_ax.set_ylabel('accuracy')\n",
    "\n",
    "acc_ax.legend(loc='lower left')\n",
    "\n",
    "plt.show()"
   ]
  },
  {
   "cell_type": "code",
   "execution_count": 79,
   "metadata": {
    "collapsed": false,
    "jupyter": {
     "outputs_hidden": false
    },
    "pycharm": {
     "name": "#%%\n"
    }
   },
   "outputs": [],
   "source": [
    "# 동시에 plot\n",
    "# fig, loss_ax = plt.subplots()\n",
    "# acc_ax = loss_ax.twinx()\n",
    "\n",
    "# loss_ax.plot(history.history['loss'], 'y', label='train loss')\n",
    "# loss_ax.plot(history.history['val_loss'], 'r', label='val loss')\n",
    "\n",
    "# acc_ax.plot(history.history['accuracy'], 'b', label='train acc')\n",
    "# acc_ax.plot(history.history['val_accuracy'], 'g', label='val acc')\n",
    "\n",
    "# loss_ax.set_xlabel('epoch')\n",
    "# loss_ax.set_ylabel('loss')\n",
    "# acc_ax.set_ylabel('accuracy')\n",
    "\n",
    "# loss_ax.legend(loc='upper left')\n",
    "# acc_ax.legend(loc='lower left')\n",
    "\n",
    "# plt.show()"
   ]
  },
  {
   "cell_type": "markdown",
   "metadata": {
    "pycharm": {
     "name": "#%% md\n"
    }
   },
   "source": [
    "\n",
    "### Confusion matrix"
   ]
  },
  {
   "cell_type": "code",
   "execution_count": 80,
   "metadata": {
    "collapsed": false,
    "jupyter": {
     "outputs_hidden": false
    },
    "pycharm": {
     "name": "#%%\n"
    }
   },
   "outputs": [
    {
     "name": "stdout",
     "output_type": "stream",
     "text": [
      "313/313 [==============================] - 0s 843us/step\n",
      "[7 2 1 ... 4 8 6]\n"
     ]
    }
   ],
   "source": [
    "y_pred = loaded_model.predict(X_test)\n",
    "y_pred = y_pred.argmax(axis=-1)\n",
    "print(y_pred)"
   ]
  },
  {
   "cell_type": "code",
   "execution_count": 81,
   "metadata": {
    "collapsed": false,
    "jupyter": {
     "outputs_hidden": false
    },
    "pycharm": {
     "name": "#%%\n"
    }
   },
   "outputs": [
    {
     "name": "stdout",
     "output_type": "stream",
     "text": [
      "[[ 956    0    4    3    1    5    6    1    4    0]\n",
      " [   0 1099    2    5    1    2    4    1   21    0]\n",
      " [  13    5  886   15   16    5   21   22   38   11]\n",
      " [   4    0   22  892    1   36    5   19   21   10]\n",
      " [   1    6    6    0  898    1   14    1    9   46]\n",
      " [  17    5    7   44   22  720   22   11   37    7]\n",
      " [  19    3    5    1   12   19  892    1    6    0]\n",
      " [   4   23   29    2   14    0    0  917    4   35]\n",
      " [  10    8   10   27   14   22   18   11  837   17]\n",
      " [  13    8    7    8   48   16    1   19    7  882]]\n"
     ]
    },
    {
     "data": {
      "image/png": "[encoded data removed]",
      "text/plain": [
       "<Figure size 864x720 with 2 Axes>"
      ]
     },
     "metadata": {
      "needs_background": "light"
     },
     "output_type": "display_data"
    }
   ],
   "source": [
    "# constant for classes\n",
    "classes = ('0', '1', '2', '3', '4', '5', '6', '7', '8', '9')\n",
    "\n",
    "# Build confusion matrix\n",
    "cf_matrix = confusion_matrix(y_test, y_pred)\n",
    "print(cf_matrix)\n",
    "df_cm = pd.DataFrame(cf_matrix/cf_matrix.sum(axis=1).reshape(10, 1), index = [i for i in classes],\n",
    "                     columns = [i for i in classes])\n",
    "plt.figure(figsize = (12,10))\n",
    "sn.heatmap(df_cm, annot=True, cmap='Blues')\n",
    "plt.savefig(SAVE_DIR + 'output.png')"
   ]
  },
  {
   "cell_type": "markdown",
   "metadata": {
    "pycharm": {
     "name": "#%% md\n"
    }
   },
   "source": [
    "### precision, recall, f1 score"
   ]
  },
  {
   "cell_type": "code",
   "execution_count": 82,
   "metadata": {
    "collapsed": false,
    "jupyter": {
     "outputs_hidden": false
    },
    "pycharm": {
     "name": "#%%\n"
    }
   },
   "outputs": [
    {
     "name": "stdout",
     "output_type": "stream",
     "text": [
      "accuracy_score:  0.8979\n",
      "precision_score:  0.8965730308501663\n",
      "recall_score:  0.8963728302735072\n",
      "f1_score:  0.8961209766524117\n"
     ]
    }
   ],
   "source": [
    "acc_score = accuracy_score(y_test, y_pred)\n",
    "prec_score = precision_score(y_test, y_pred, average='macro')\n",
    "re_score = recall_score(y_test, y_pred, average='macro')\n",
    "f1_score_s = f1_score(y_test, y_pred, average='macro')\n",
    "print(\"accuracy_score: \", acc_score)\n",
    "print(\"precision_score: \", prec_score)\n",
    "print(\"recall_score: \", re_score)\n",
    "print(\"f1_score: \", f1_score_s)"
   ]
  },
  {
   "cell_type": "markdown",
   "metadata": {
    "pycharm": {
     "name": "#%% md\n"
    }
   },
   "source": [
    "## Load Model"
   ]
  },
  {
   "cell_type": "code",
   "execution_count": 83,
   "metadata": {
    "collapsed": false,
    "jupyter": {
     "outputs_hidden": false
    },
    "pycharm": {
     "name": "#%%\n"
    }
   },
   "outputs": [],
   "source": [
    "model_name='trained-model.h5'\n",
    "model_path=os.path.join(LOAD_DIR, model_name)\n",
    "model=load_model(model_path)"
   ]
  },
  {
   "cell_type": "markdown",
   "metadata": {
    "pycharm": {
     "name": "#%% md\n"
    }
   },
   "source": [
    "## Predict"
   ]
  },
  {
   "cell_type": "code",
   "execution_count": 84,
   "metadata": {
    "collapsed": false,
    "jupyter": {
     "outputs_hidden": false
    },
    "pycharm": {
     "name": "#%%\n"
    }
   },
   "outputs": [
    {
     "name": "stdout",
     "output_type": "stream",
     "text": [
      "(60000, 28, 28)\n",
      "(28, 28)\n"
     ]
    }
   ],
   "source": [
    "print(X_train.shape, X_train[0].shape, sep='\\n')"
   ]
  },
  {
   "cell_type": "code",
   "execution_count": 85,
   "metadata": {
    "collapsed": false,
    "jupyter": {
     "outputs_hidden": false
    },
    "pycharm": {
     "name": "#%%\n"
    }
   },
   "outputs": [],
   "source": [
    "def predict_mnist(tensor, model):\n",
    "    sample=tf.reshape(tensor, [-1, 28, 28])\n",
    "    result_prob=model.predict(sample, verbose=0)\n",
    "    result=np.argmax(result_prob)\n",
    "    print(result)"
   ]
  },
  {
   "cell_type": "markdown",
   "metadata": {
    "pycharm": {
     "name": "#%% md\n"
    }
   },
   "source": [
    "5 클래스에 대한 예측"
   ]
  },
  {
   "cell_type": "code",
   "execution_count": 86,
   "metadata": {
    "collapsed": false,
    "jupyter": {
     "outputs_hidden": false
    },
    "pycharm": {
     "name": "#%%\n"
    }
   },
   "outputs": [
    {
     "data": {
      "image/png": "[encoded data removed]",
      "text/plain": [
       "<Figure size 432x288 with 1 Axes>"
      ]
     },
     "metadata": {
      "needs_background": "light"
     },
     "output_type": "display_data"
    }
   ],
   "source": [
    "plt.imshow(X_train[0], cmap='gray_r', interpolation='nearest')\n",
    "plt.show()"
   ]
  },
  {
   "cell_type": "code",
   "execution_count": 87,
   "metadata": {
    "collapsed": false,
    "jupyter": {
     "outputs_hidden": false
    },
    "pycharm": {
     "name": "#%%\n"
    }
   },
   "outputs": [
    {
     "name": "stdout",
     "output_type": "stream",
     "text": [
      "5\n"
     ]
    }
   ],
   "source": [
    "predict_mnist(X_train[0], model)"
   ]
  },
  {
   "cell_type": "markdown",
   "metadata": {
    "pycharm": {
     "name": "#%% md\n"
    }
   },
   "source": [
    " 0 클래스에 대한 예측"
   ]
  },
  {
   "cell_type": "code",
   "execution_count": 88,
   "metadata": {
    "collapsed": false,
    "jupyter": {
     "outputs_hidden": false
    },
    "pycharm": {
     "name": "#%%\n"
    }
   },
   "outputs": [
    {
     "data": {
      "image/png": "[encoded data removed]",
      "text/plain": [
       "<Figure size 432x288 with 1 Axes>"
      ]
     },
     "metadata": {
      "needs_background": "light"
     },
     "output_type": "display_data"
    }
   ],
   "source": [
    "plt.imshow(X_train[1], cmap='gray_r', interpolation='nearest')\n",
    "plt.show()"
   ]
  },
  {
   "cell_type": "code",
   "execution_count": 47,
   "metadata": {
    "collapsed": false,
    "jupyter": {
     "outputs_hidden": false
    },
    "pycharm": {
     "name": "#%%\n"
    }
   },
   "outputs": [
    {
     "name": "stdout",
     "output_type": "stream",
     "text": [
      "0\n"
     ]
    }
   ],
   "source": [
    "predict_mnist(X_train[1], model)"
   ]
  }
 ],
 "metadata": {
  "kernelspec": {
   "display_name": "Python 3 (ipykernel)",
   "language": "python",
   "name": "python3"
  },
  "language_info": {
   "codemirror_mode": {
    "name": "ipython",
    "version": 3
   },
   "file_extension": ".py",
   "mimetype": "text/x-python",
   "name": "python",
   "nbconvert_exporter": "python",
   "pygments_lexer": "ipython3",
   "version": "3.9.12"
  }
 },
 "nbformat": 4,
 "nbformat_minor": 4
}
