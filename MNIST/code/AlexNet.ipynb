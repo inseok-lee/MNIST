{
 "cells": [
  {
   "cell_type": "markdown",
   "metadata": {
    "pycharm": {
     "name": "#%% md\n"
    },
    "tags": []
   },
   "source": [
    "# AlexNet"
   ]
  },
  {
   "cell_type": "markdown",
   "metadata": {},
   "source": [
    "* 2012년 ILSVRC 우승 모델 / error_rate:17%\n",
    "* 5 Convolution_Layey + 3 Fully_Connected_Layer\n",
    "* Local Response Normalization (Batch Normalization와 유사)\n",
    "* Overlapping Pooling(X)\n",
    "* Dropout(0.5)\n",
    "* Data Augmentation(x)  \n",
    "* activation_function = ReLU\n",
    "* loss_function = Cross_Entropy\n",
    "* optimizer = Adam\n",
    "\n",
    "* 약 390만개의 parameter"
   ]
  },
  {
   "cell_type": "markdown",
   "metadata": {
    "pycharm": {
     "name": "#%% md\n"
    },
    "tags": []
   },
   "source": [
    "## Mount Google Drive"
   ]
  },
  {
   "cell_type": "code",
   "execution_count": 1,
   "metadata": {
    "pycharm": {
     "name": "#%%\n"
    },
    "tags": []
   },
   "outputs": [],
   "source": [
    "# Colab 사용시\n",
    "# from google.colab import drive\n",
    "# drive.mount('/content/drive')"
   ]
  },
  {
   "cell_type": "markdown",
   "metadata": {
    "pycharm": {
     "name": "#%% md\n"
    }
   },
   "source": [
    "## Import Library"
   ]
  },
  {
   "cell_type": "code",
   "execution_count": 2,
   "metadata": {
    "collapsed": false,
    "jupyter": {
     "outputs_hidden": false
    },
    "pycharm": {
     "name": "#%%\n"
    }
   },
   "outputs": [],
   "source": [
    "# Data\n",
    "import numpy as np\n",
    "import pandas as pd\n",
    "\n",
    "# Preprcessing\n",
    "\n",
    "# Model\n",
    "import tensorflow as tf\n",
    "from tensorflow.keras import Sequential, activations\n",
    "from tensorflow.keras.layers import Conv2D, MaxPooling2D, Dense\n",
    "from tensorflow.keras.models import load_model\n",
    "from tensorflow.keras.callbacks import EarlyStopping, ModelCheckpoint\n",
    "\n",
    "# Evaluation\n",
    "from sklearn.metrics import confusion_matrix, accuracy_score, precision_score, recall_score, f1_score\n",
    "\n",
    "# Visualizatoin\n",
    "from PIL import Image\n",
    "import seaborn as sn\n",
    "import matplotlib.pyplot as plt\n",
    "%matplotlib inline\n",
    "\n",
    "# Env\n",
    "import os"
   ]
  },
  {
   "cell_type": "markdown",
   "metadata": {
    "pycharm": {
     "name": "#%% md\n"
    }
   },
   "source": [
    "## GPU Setting"
   ]
  },
  {
   "cell_type": "code",
   "execution_count": 3,
   "metadata": {
    "collapsed": false,
    "jupyter": {
     "outputs_hidden": false
    },
    "pycharm": {
     "name": "#%%\n"
    }
   },
   "outputs": [
    {
     "name": "stdout",
     "output_type": "stream",
     "text": [
      "GPU found\n"
     ]
    }
   ],
   "source": [
    "if tf.test.gpu_device_name():\n",
    "    print('GPU found')\n",
    "else:\n",
    "    print(\"No GPU found\")"
   ]
  },
  {
   "cell_type": "markdown",
   "metadata": {
    "pycharm": {
     "name": "#%% md\n"
    }
   },
   "source": [
    "## Hyper parameters"
   ]
  },
  {
   "cell_type": "code",
   "execution_count": 4,
   "metadata": {
    "collapsed": false,
    "jupyter": {
     "outputs_hidden": false
    },
    "pycharm": {
     "name": "#%%\n"
    }
   },
   "outputs": [],
   "source": [
    "#Colab\n",
    "\n",
    "#Server\n",
    "DATA_DIR='../data/'\n",
    "SAVE_DIR='../model/AlexNet/'\n",
    "LOAD_DIR='../model/AlexNet/'\n",
    "\n",
    "#Local\n",
    "# DATA_DIR='C:/Users/is910/Desktop/MNIST/data/'\n",
    "# SAVE_DIR='C:/Users/is910/Desktop/MNIST/model/AlexNet/'\n",
    "# LOAD_DIR='C:/Users/is910/Desktop/MNIST/model/AlexNet/'\n",
    "\n",
    "#Hyper parameter\n",
    "BATCH_SIZE=64\n",
    "SHUFFLE_BUFFER_SIZE=100\n",
    "VERBOSE=1\n",
    "PATIENCE=5\n",
    "VALIDATION_SPLIT=0.2\n",
    "EPOCHS=20"
   ]
  },
  {
   "cell_type": "markdown",
   "metadata": {
    "pycharm": {
     "name": "#%% md\n"
    }
   },
   "source": [
    "## Load data"
   ]
  },
  {
   "cell_type": "code",
   "execution_count": 5,
   "metadata": {
    "collapsed": false,
    "jupyter": {
     "outputs_hidden": false
    },
    "pycharm": {
     "name": "#%%\n"
    }
   },
   "outputs": [],
   "source": [
    "raw_mnist = tf.keras.datasets.mnist"
   ]
  },
  {
   "cell_type": "code",
   "execution_count": 6,
   "metadata": {
    "collapsed": false,
    "jupyter": {
     "outputs_hidden": false
    },
    "pycharm": {
     "name": "#%%\n"
    }
   },
   "outputs": [],
   "source": [
    "(X_train_raw, y_train), (X_test_raw, y_test) = raw_mnist.load_data()"
   ]
  },
  {
   "cell_type": "code",
   "execution_count": 7,
   "metadata": {},
   "outputs": [
    {
     "name": "stdout",
     "output_type": "stream",
     "text": [
      "class:  ndarray\n",
      "shape:  (60000, 28, 28)\n",
      "strides:  (784, 28, 1)\n",
      "itemsize:  1\n",
      "aligned:  True\n",
      "contiguous:  True\n",
      "fortran:  False\n",
      "data pointer: 0x23700003040\n",
      "byteorder:  little\n",
      "byteswap:  False\n",
      "type: uint8\n"
     ]
    }
   ],
   "source": [
    "np.info(X_train_raw)"
   ]
  },
  {
   "cell_type": "markdown",
   "metadata": {
    "pycharm": {
     "name": "#%% md\n"
    }
   },
   "source": [
    "train 개수"
   ]
  },
  {
   "cell_type": "code",
   "execution_count": 8,
   "metadata": {
    "collapsed": false,
    "jupyter": {
     "outputs_hidden": false
    },
    "pycharm": {
     "name": "#%%\n"
    }
   },
   "outputs": [
    {
     "name": "stdout",
     "output_type": "stream",
     "text": [
      "(60000, 28, 28)\n"
     ]
    }
   ],
   "source": [
    "print(X_train_raw.shape)"
   ]
  },
  {
   "cell_type": "markdown",
   "metadata": {
    "pycharm": {
     "name": "#%% md\n"
    }
   },
   "source": [
    "test 개수"
   ]
  },
  {
   "cell_type": "code",
   "execution_count": 9,
   "metadata": {
    "collapsed": false,
    "jupyter": {
     "outputs_hidden": false
    },
    "pycharm": {
     "name": "#%%\n"
    }
   },
   "outputs": [
    {
     "name": "stdout",
     "output_type": "stream",
     "text": [
      "(10000, 28, 28)\n"
     ]
    }
   ],
   "source": [
    "print(X_test_raw.shape)"
   ]
  },
  {
   "cell_type": "code",
   "execution_count": 10,
   "metadata": {},
   "outputs": [
    {
     "name": "stdout",
     "output_type": "stream",
     "text": [
      "(60000,)\n"
     ]
    }
   ],
   "source": [
    "print(y_train.shape)"
   ]
  },
  {
   "cell_type": "markdown",
   "metadata": {
    "pycharm": {
     "name": "#%% md\n"
    }
   },
   "source": [
    "### Matplotlib Image"
   ]
  },
  {
   "cell_type": "code",
   "execution_count": 11,
   "metadata": {
    "collapsed": false,
    "jupyter": {
     "outputs_hidden": false
    },
    "pycharm": {
     "name": "#%%\n"
    }
   },
   "outputs": [
    {
     "data": {
      "image/png": "[encoded data removed]",
      "text/plain": [
       "<Figure size 432x288 with 1 Axes>"
      ]
     },
     "metadata": {
      "needs_background": "light"
     },
     "output_type": "display_data"
    }
   ],
   "source": [
    "plt.imshow(X_train_raw[0], cmap='gray_r', interpolation='nearest')\n",
    "plt.show()"
   ]
  },
  {
   "cell_type": "markdown",
   "metadata": {
    "pycharm": {
     "name": "#%% md\n"
    }
   },
   "source": [
    "### PIL Image"
   ]
  },
  {
   "cell_type": "code",
   "execution_count": 12,
   "metadata": {
    "collapsed": false,
    "jupyter": {
     "outputs_hidden": false
    },
    "pycharm": {
     "name": "#%%\n"
    }
   },
   "outputs": [],
   "source": [
    "# pil_image = Image.fromarray(X_train_raw[0])\n",
    "# pil_image.show()"
   ]
  },
  {
   "cell_type": "markdown",
   "metadata": {
    "pycharm": {
     "name": "#%% md\n"
    }
   },
   "source": [
    "## Preprocessing"
   ]
  },
  {
   "cell_type": "markdown",
   "metadata": {},
   "source": [
    "### Numpy to Tensor"
   ]
  },
  {
   "cell_type": "code",
   "execution_count": 13,
   "metadata": {},
   "outputs": [],
   "source": [
    "X_train_tensor = tf.convert_to_tensor(X_train_raw)\n",
    "X_test_tensor = tf.convert_to_tensor(X_test_raw)"
   ]
  },
  {
   "cell_type": "code",
   "execution_count": 14,
   "metadata": {},
   "outputs": [
    {
     "data": {
      "text/plain": [
       "TensorShape([60000, 28, 28])"
      ]
     },
     "execution_count": 14,
     "metadata": {},
     "output_type": "execute_result"
    }
   ],
   "source": [
    "X_train_tensor.shape"
   ]
  },
  {
   "cell_type": "markdown",
   "metadata": {},
   "source": [
    "### Reshape Tensor"
   ]
  },
  {
   "cell_type": "code",
   "execution_count": 15,
   "metadata": {
    "collapsed": false,
    "jupyter": {
     "outputs_hidden": false
    },
    "pycharm": {
     "name": "#%%\n"
    }
   },
   "outputs": [],
   "source": [
    "X_train_reshape_tensor=tf.reshape(X_train_tensor, [60000, 28, 28, -1])\n",
    "X_test_reshape_tensor=tf.reshape(X_test_tensor, [10000, 28, 28, -1])\n",
    "#X_train=X_train_reshape_tensor.reshape((60000, 28, 28, -1))"
   ]
  },
  {
   "cell_type": "code",
   "execution_count": 16,
   "metadata": {},
   "outputs": [
    {
     "data": {
      "text/plain": [
       "TensorShape([60000, 28, 28, 1])"
      ]
     },
     "execution_count": 16,
     "metadata": {},
     "output_type": "execute_result"
    }
   ],
   "source": [
    "X_train_reshape_tensor.shape"
   ]
  },
  {
   "cell_type": "markdown",
   "metadata": {
    "pycharm": {
     "name": "#%% md\n"
    }
   },
   "source": [
    "### Min-Max Scaling"
   ]
  },
  {
   "cell_type": "code",
   "execution_count": 17,
   "metadata": {
    "collapsed": false,
    "jupyter": {
     "outputs_hidden": false
    },
    "pycharm": {
     "name": "#%%\n"
    }
   },
   "outputs": [],
   "source": [
    "X_train_scaled, X_test_scaled = X_train_reshape_tensor/255, X_test_reshape_tensor/255"
   ]
  },
  {
   "cell_type": "code",
   "execution_count": 18,
   "metadata": {
    "collapsed": false,
    "jupyter": {
     "outputs_hidden": false
    },
    "pycharm": {
     "name": "#%%\n"
    }
   },
   "outputs": [
    {
     "data": {
      "text/plain": [
       "TensorShape([60000, 28, 28, 1])"
      ]
     },
     "execution_count": 18,
     "metadata": {},
     "output_type": "execute_result"
    }
   ],
   "source": [
    "X_train_scaled.shape"
   ]
  },
  {
   "cell_type": "code",
   "execution_count": 20,
   "metadata": {},
   "outputs": [],
   "source": [
    "X_train, X_test = X_train_scaled, X_test_scaled"
   ]
  },
  {
   "cell_type": "code",
   "execution_count": 21,
   "metadata": {},
   "outputs": [
    {
     "data": {
      "text/plain": [
       "TensorShape([60000, 28, 28, 1])"
      ]
     },
     "execution_count": 21,
     "metadata": {},
     "output_type": "execute_result"
    }
   ],
   "source": [
    "X_train.shape"
   ]
  },
  {
   "cell_type": "code",
   "execution_count": 22,
   "metadata": {},
   "outputs": [
    {
     "data": {
      "text/plain": [
       "TensorShape([28, 28, 1])"
      ]
     },
     "execution_count": 22,
     "metadata": {},
     "output_type": "execute_result"
    }
   ],
   "source": [
    "X_train[0].shape"
   ]
  },
  {
   "cell_type": "markdown",
   "metadata": {
    "tags": []
   },
   "source": [
    "MNIST 데이터를 AlexNet에 사용하기 위해 Image Resizing을 해주려고 했으나 gpu메모리 부족 이슈가 발생하여 MNIST 데이터의 28x28 이미지를 그대로 인풋으로 사용하기로 했다. 따라서 이미지 크기에 맞게 기존의 AlexNet 모델의 구조에 약간 변형을 가해주었다."
   ]
  },
  {
   "cell_type": "code",
   "execution_count": 46,
   "metadata": {},
   "outputs": [],
   "source": [
    "# X_train_resize = tf.image.resize(X_train_scaled, [227, 227], antialias=True)\n",
    "# X_test_resize = tf.image.resize(X_test_scaled, [227, 227], antialias=True)\n",
    "# X_train_resize[0].shape"
   ]
  },
  {
   "cell_type": "markdown",
   "metadata": {
    "pycharm": {
     "name": "#%% md\n"
    }
   },
   "source": [
    "## Model definition\n",
    "### AlexNet"
   ]
  },
  {
   "cell_type": "markdown",
   "metadata": {},
   "source": [
    "Functional API"
   ]
  },
  {
   "cell_type": "code",
   "execution_count": 23,
   "metadata": {},
   "outputs": [],
   "source": [
    "def AlexNet():\n",
    "    # inputs = tf.keras.Input(X_train[0].shape)\n",
    "    inputs = tf.keras.Input(shape=(28, 28, 1))\n",
    "    \n",
    "    # first convolution layer\n",
    "    conv_1 = tf.keras.layers.Conv2D(filters=96, kernel_size=11, strides=1, padding='valid', activation=activations.relu)(inputs)\n",
    "    pool_1 = tf.keras.layers.MaxPooling2D(pool_size=(2, 2), strides=2)(conv_1)\n",
    "    norm_1 = tf.nn.local_response_normalization(pool_1, depth_radius=5, bias=1, alpha=1, beta=0.5)\n",
    "\n",
    "    # second convolution layer\n",
    "    conv_2 = tf.keras.layers.Conv2D(filters=256, kernel_size=3, strides=1, padding='same', activation=activations.relu)(norm_1)\n",
    "    pool_2 = tf.keras.layers.MaxPooling2D(pool_size=(2, 2), strides=2)(conv_2)\n",
    "    norm_2 = tf.nn.local_response_normalization(pool_2, depth_radius=5, bias=1, alpha=1, beta=0.5)\n",
    "\n",
    "    # third convolution layer\n",
    "    conv_3 = tf.keras.layers.Conv2D(filters=384, kernel_size=3, strides=1, padding='same', activation=activations.relu)(norm_2)\n",
    "\n",
    "    # fourth convolution layer\n",
    "    conv_4 = tf.keras.layers.Conv2D(filters=384, kernel_size=3, strides=1, padding='same', activation=activations.relu)(conv_3)\n",
    "\n",
    "    # fifth convolution layer\n",
    "    conv_5 = tf.keras.layers.Conv2D(filters=256, kernel_size=3, strides=1, padding='same', activation=activations.relu)(conv_4)\n",
    "    pool_5 = tf.keras.layers.MaxPooling2D(pool_size=(2, 2), strides=2)(conv_5)\n",
    "    norm_5 = tf.nn.local_response_normalization(pool_5, depth_radius=5, bias=1, alpha=1, beta=0.5)\n",
    "\n",
    "    # fully connected layer\n",
    "    flatten = tf.keras.layers.Flatten()(norm_5) # 2304\n",
    "    dense_1 = tf.keras.layers.Dense(units=512, activation=activations.relu)(flatten)\n",
    "    dropout_1 = tf.keras.layers.Dropout(rate=0.5)(dense_1)\n",
    "    dense_2 = tf.keras.layers.Dense(units=128, activation=activations.relu)(dropout_1)\n",
    "    dropout_2 = tf.keras.layers.Dropout(rate=0.5)(dense_2)\n",
    "    outputs = tf.keras.layers.Dense(units=10, activation=activations.softmax)(dropout_2)\n",
    "    \n",
    "    return tf.keras.Model(inputs=inputs, outputs=outputs)"
   ]
  },
  {
   "cell_type": "markdown",
   "metadata": {
    "tags": []
   },
   "source": [
    "### Model Summary"
   ]
  },
  {
   "cell_type": "code",
   "execution_count": 24,
   "metadata": {},
   "outputs": [
    {
     "name": "stdout",
     "output_type": "stream",
     "text": [
      "Model: \"model\"\n",
      "_________________________________________________________________\n",
      " Layer (type)                Output Shape              Param #   \n",
      "=================================================================\n",
      " input_1 (InputLayer)        [(None, 28, 28, 1)]       0         \n",
      "                                                                 \n",
      " conv2d (Conv2D)             (None, 18, 18, 96)        11712     \n",
      "                                                                 \n",
      " max_pooling2d (MaxPooling2D  (None, 9, 9, 96)         0         \n",
      " )                                                               \n",
      "                                                                 \n",
      " tf.nn.local_response_normal  (None, 9, 9, 96)         0         \n",
      " ization (TFOpLambda)                                            \n",
      "                                                                 \n",
      " conv2d_1 (Conv2D)           (None, 9, 9, 256)         221440    \n",
      "                                                                 \n",
      " max_pooling2d_1 (MaxPooling  (None, 4, 4, 256)        0         \n",
      " 2D)                                                             \n",
      "                                                                 \n",
      " tf.nn.local_response_normal  (None, 4, 4, 256)        0         \n",
      " ization_1 (TFOpLambda)                                          \n",
      "                                                                 \n",
      " conv2d_2 (Conv2D)           (None, 4, 4, 384)         885120    \n",
      "                                                                 \n",
      " conv2d_3 (Conv2D)           (None, 4, 4, 384)         1327488   \n",
      "                                                                 \n",
      " conv2d_4 (Conv2D)           (None, 4, 4, 256)         884992    \n",
      "                                                                 \n",
      " max_pooling2d_2 (MaxPooling  (None, 2, 2, 256)        0         \n",
      " 2D)                                                             \n",
      "                                                                 \n",
      " tf.nn.local_response_normal  (None, 2, 2, 256)        0         \n",
      " ization_2 (TFOpLambda)                                          \n",
      "                                                                 \n",
      " flatten (Flatten)           (None, 1024)              0         \n",
      "                                                                 \n",
      " dense (Dense)               (None, 512)               524800    \n",
      "                                                                 \n",
      " dropout (Dropout)           (None, 512)               0         \n",
      "                                                                 \n",
      " dense_1 (Dense)             (None, 128)               65664     \n",
      "                                                                 \n",
      " dropout_1 (Dropout)         (None, 128)               0         \n",
      "                                                                 \n",
      " dense_2 (Dense)             (None, 10)                1290      \n",
      "                                                                 \n",
      "=================================================================\n",
      "Total params: 3,922,506\n",
      "Trainable params: 3,922,506\n",
      "Non-trainable params: 0\n",
      "_________________________________________________________________\n"
     ]
    }
   ],
   "source": [
    "model = AlexNet()\n",
    "model.summary()"
   ]
  },
  {
   "cell_type": "code",
   "execution_count": 25,
   "metadata": {},
   "outputs": [],
   "source": [
    "# Subclassing 실패?\n",
    "# Functional API로 구현된 모델을 subclassing으로 구현하는 방법은?\n",
    "\n",
    "\n",
    "# inputs = X_train[0].shape\n",
    "\n",
    "# class AlexNet(tf.keras.layers.Layer):\n",
    "#     def __init__(self):\n",
    "#         super(AlexNet, self).__init__()\n",
    "\n",
    "#         # Initialize first convolution layer\n",
    "#         self.conv_1 = tf.keras.layers.Conv2D(filters=96, kernel_size=11, strides=1, padding='valid', activation=activations.relu)\n",
    "#         self.pool_1 = tf.keras.layers.MaxPooling2D(pool_size=(2, 2), strides=2)\n",
    "#         self.norm_1 = tf.nn.local_response_normalization(self.pool_1, depth_radius=5, bias=1, alpha=1, beta=0.5)\n",
    "\n",
    "#         # Initialize second convolution layer\n",
    "#         self.conv_2 = tf.keras.layers.Conv2D(filters=256, kernel_size=3, strides=1, padding='same', activation=activations.relu)\n",
    "#         self.pool_2 = tf.keras.layers.MaxPooling2D(pool_size=(2, 2), strides=2)\n",
    "#         self.norm_2 = tf.nn.local_response_normalization(self.pool_2, depth_radius=5, bias=1, alpha=1, beta=0.5)\n",
    "\n",
    "#         # Initialize third convolution layer\n",
    "#         self.conv_3 = tf.keras.layers.Conv2D(filters=384, kernel_size=3, strides=1, padding='same', activation=activations.relu)\n",
    "\n",
    "#         # Initialize fourth convolution layer\n",
    "#         self.conv_4 = tf.keras.layers.Conv2D(filters=384, kernel_size=3, strides=1, padding='same', activation=activations.relu)\n",
    "        \n",
    "#         # Initialize fifth convolution layer\n",
    "#         self.conv_5 = tf.keras.layers.Conv2D(filters=256, kernel_size=3, strides=1, padding='same', activation=activations.relu)\n",
    "#         self.pool_5 = tf.keras.layers.MaxPooling2D(pool_size=(2, 2), strides=2)\n",
    "#         self.norm_5 = tf.nn.local_response_normalization(self.pool_5, depth_radius=5, bias=1, alpha=1, beta=0.5)\n",
    "        \n",
    "#         # Initialize fully connected layer\n",
    "#         self.flatten = tf.keras.layers.Flatten() # 2304\n",
    "#         self.dense_1 = tf.keras.layers.Dense(units=512, activation=activations.relu)\n",
    "#         self.dropout_1 = tf.keras.layers.Dropout(rate=0.5)\n",
    "#         self.dense_2 = tf.keras.layers.Dense(units=128, activation=activations.relu)\n",
    "#         self.dropout_2 = tf.keras.layers.Dropout(rate=0.5)\n",
    "#         self.dense_3 = tf.keras.layers.Dense(units=10, activation=activations.softmax)\n",
    "        \n",
    "#     def call(self, x):\n",
    "#         x = self.conv_1(x)\n",
    "#         x = self.pool_1(x)\n",
    "#         x = self.norm_1(x)\n",
    "\n",
    "#         x = self.conv_2(x)\n",
    "#         x = self.pool_2(x)\n",
    "#         x = self.norm_2(x)\n",
    "\n",
    "#         x = self.conv_3(x)\n",
    "\n",
    "#         x = self.conv_4(x)\n",
    "\n",
    "#         x = self.conv_5(x)\n",
    "#         x = self.pool_5(x)\n",
    "#         x = self.norm_5(x)\n",
    "\n",
    "#         x = self.flatten(x)\n",
    "#         x = self.dense_1(x)\n",
    "#         x = self.dropout_1(x)\n",
    "#         x = self.dense_2(x)\n",
    "#         x = self.dropout_2(x)\n",
    "#         x = self.dense_3(x)\n",
    "\n",
    "#         return x"
   ]
  },
  {
   "cell_type": "code",
   "execution_count": 26,
   "metadata": {
    "collapsed": false,
    "jupyter": {
     "outputs_hidden": false
    },
    "pycharm": {
     "name": "#%%\n"
    }
   },
   "outputs": [],
   "source": [
    "# Sequentail API 불가능\n",
    "\n",
    "# input shape\n",
    "# INPUT_SHAPE=X_train[0].shape\n",
    "\n",
    "# model=tf.keras.Sequential([\n",
    "#     # 28*28*1\n",
    "#     # first convolution layer\n",
    "#     tf.keras.layers.Conv2D(\n",
    "#         filters=96, kernel_size=11, strides=1, padding='valid', activation=activations.relu, input_shape=INPUT_SHAPE\n",
    "#     ), # 18*18*96\n",
    "#     tf.keras.layers.MaxPooling2D(pool_size=(2, 2), strides=2), # 9*9*96\n",
    "    \n",
    "#     # second convolution layer\n",
    "#     tf.keras.layers.Conv2D(\n",
    "#         filters=256, kernel_size=3, strides=1, padding='same', activation=activations.relu\n",
    "#     ), # 9*9*256\n",
    "#     tf.keras.layers.MaxPooling2D(pool_size=(2, 2), strides=2, padding='same'), # 5*5*256\n",
    "    \n",
    "#     # third convolution layer\n",
    "#     tf.keras.layers.Conv2D(\n",
    "#         filters=384, kernel_size=3, strides=1, padding='same', activation=activations.relu\n",
    "#     ), # 5*5*384\n",
    "    \n",
    "#     # fourth convolution layer\n",
    "#     tf.keras.layers.Conv2D(\n",
    "#         filters=384, kernel_size=3, strides=1, padding='same', activation=activations.relu\n",
    "#     ), # 5*5*384\n",
    "    \n",
    "#     # fifth convolution layer\n",
    "#     tf.keras.layers.Conv2D(\n",
    "#         filters=256, kernel_size=3, strides=1, padding='same', activation=activations.relu\n",
    "#     ), # 5*5*256\n",
    "#     tf.keras.layers.MaxPooling2D(pool_size=(2, 2), strides=2, padding='same'), # 3*3*256\n",
    "\n",
    "#     # fully connected layer\n",
    "#     tf.keras.layers.Flatten(), # 2304\n",
    "#     tf.keras.layers.Dense(units=512, activation=activations.relu),\n",
    "#     tf.keras.layers.Dropout(rate=0.5),\n",
    "#     tf.keras.layers.Dense(units=128, activation=activations.relu),\n",
    "#     tf.keras.layers.Dropout(rate=0.5),\n",
    "#     tf.keras.layers.Dense(units=10, activation='softmax')\n",
    "# ])"
   ]
  },
  {
   "cell_type": "markdown",
   "metadata": {
    "pycharm": {
     "name": "#%% md\n"
    }
   },
   "source": [
    "## Model Compile"
   ]
  },
  {
   "cell_type": "code",
   "execution_count": 27,
   "metadata": {
    "collapsed": false,
    "jupyter": {
     "outputs_hidden": false
    },
    "pycharm": {
     "name": "#%%\n"
    }
   },
   "outputs": [],
   "source": [
    "#early stopping\n",
    "es = EarlyStopping(monitor='val_loss', mode='min', verbose=VERBOSE, patience=PATIENCE, restore_best_weights=True)\n",
    "mcp = ModelCheckpoint(SAVE_DIR+'best-model.h5', monitor='val_accuracy', mode='max', verbose=VERBOSE, save_best_only=True)\n",
    "\n",
    "#compile\n",
    "model.compile(loss='sparse_categorical_crossentropy', optimizer='adam', metrics=['accuracy'])"
   ]
  },
  {
   "cell_type": "code",
   "execution_count": 34,
   "metadata": {},
   "outputs": [
    {
     "name": "stdout",
     "output_type": "stream",
     "text": [
      "Model: \"sequential_4\"\n",
      "_________________________________________________________________\n",
      " Layer (type)                Output Shape              Param #   \n",
      "=================================================================\n",
      " conv2d_20 (Conv2D)          (None, 18, 18, 96)        11712     \n",
      "                                                                 \n",
      " max_pooling2d_12 (MaxPoolin  (None, 9, 9, 96)         0         \n",
      " g2D)                                                            \n",
      "                                                                 \n",
      " conv2d_21 (Conv2D)          (None, 9, 9, 256)         221440    \n",
      "                                                                 \n",
      " max_pooling2d_13 (MaxPoolin  (None, 5, 5, 256)        0         \n",
      " g2D)                                                            \n",
      "                                                                 \n",
      " conv2d_22 (Conv2D)          (None, 5, 5, 384)         885120    \n",
      "                                                                 \n",
      " conv2d_23 (Conv2D)          (None, 5, 5, 384)         1327488   \n",
      "                                                                 \n",
      " conv2d_24 (Conv2D)          (None, 5, 5, 256)         884992    \n",
      "                                                                 \n",
      " max_pooling2d_14 (MaxPoolin  (None, 3, 3, 256)        0         \n",
      " g2D)                                                            \n",
      "                                                                 \n",
      " flatten_4 (Flatten)         (None, 2304)              0         \n",
      "                                                                 \n",
      " dense_12 (Dense)            (None, 4096)              9441280   \n",
      "                                                                 \n",
      " dense_13 (Dense)            (None, 4096)              16781312  \n",
      "                                                                 \n",
      " dense_14 (Dense)            (None, 10)                40970     \n",
      "                                                                 \n",
      "=================================================================\n",
      "Total params: 29,594,314\n",
      "Trainable params: 29,594,314\n",
      "Non-trainable params: 0\n",
      "_________________________________________________________________\n"
     ]
    }
   ],
   "source": [
    "model.summary()"
   ]
  },
  {
   "cell_type": "code",
   "execution_count": 28,
   "metadata": {},
   "outputs": [],
   "source": [
    "#early stopping\n",
    "es = EarlyStopping(monitor='val_loss', mode='min', verbose=VERBOSE, patience=PATIENCE, restore_best_weights=True)\n",
    "mcp = ModelCheckpoint(SAVE_DIR+'best-model.h5', monitor='val_accuracy', mode='max', verbose=VERBOSE, save_best_only=True)\n",
    "\n",
    "#compile\n",
    "model.compile(loss='sparse_categorical_crossentropy', optimizer='adam', metrics=['accuracy'])"
   ]
  },
  {
   "cell_type": "markdown",
   "metadata": {
    "pycharm": {
     "name": "#%% md\n"
    }
   },
   "source": [
    "## Train Model"
   ]
  },
  {
   "cell_type": "code",
   "execution_count": 29,
   "metadata": {
    "collapsed": false,
    "jupyter": {
     "outputs_hidden": false
    },
    "pycharm": {
     "name": "#%%\n"
    }
   },
   "outputs": [
    {
     "name": "stdout",
     "output_type": "stream",
     "text": [
      "Epoch 1/20\n",
      "749/750 [============================>.] - ETA: 0s - loss: 0.3692 - accuracy: 0.8817\n",
      "Epoch 1: val_accuracy improved from -inf to 0.97683, saving model to ../model/AlexNet\\best-model.h5\n",
      "750/750 [==============================] - 19s 18ms/step - loss: 0.3688 - accuracy: 0.8818 - val_loss: 0.0826 - val_accuracy: 0.9768\n",
      "Epoch 2/20\n",
      "749/750 [============================>.] - ETA: 0s - loss: 0.0888 - accuracy: 0.9791\n",
      "Epoch 2: val_accuracy improved from 0.97683 to 0.98625, saving model to ../model/AlexNet\\best-model.h5\n",
      "750/750 [==============================] - 13s 18ms/step - loss: 0.0888 - accuracy: 0.9790 - val_loss: 0.0558 - val_accuracy: 0.9862\n",
      "Epoch 3/20\n",
      "749/750 [============================>.] - ETA: 0s - loss: 0.0688 - accuracy: 0.9840\n",
      "Epoch 3: val_accuracy improved from 0.98625 to 0.98733, saving model to ../model/AlexNet\\best-model.h5\n",
      "750/750 [==============================] - 13s 18ms/step - loss: 0.0688 - accuracy: 0.9840 - val_loss: 0.0481 - val_accuracy: 0.9873\n",
      "Epoch 4/20\n",
      "749/750 [============================>.] - ETA: 0s - loss: 0.0527 - accuracy: 0.9874\n",
      "Epoch 4: val_accuracy did not improve from 0.98733\n",
      "750/750 [==============================] - 13s 17ms/step - loss: 0.0527 - accuracy: 0.9874 - val_loss: 0.0686 - val_accuracy: 0.9829\n",
      "Epoch 5/20\n",
      "749/750 [============================>.] - ETA: 0s - loss: 0.0465 - accuracy: 0.9886\n",
      "Epoch 5: val_accuracy improved from 0.98733 to 0.98758, saving model to ../model/AlexNet\\best-model.h5\n",
      "750/750 [==============================] - 13s 17ms/step - loss: 0.0467 - accuracy: 0.9885 - val_loss: 0.0573 - val_accuracy: 0.9876\n",
      "Epoch 6/20\n",
      "749/750 [============================>.] - ETA: 0s - loss: 0.0362 - accuracy: 0.9911\n",
      "Epoch 6: val_accuracy improved from 0.98758 to 0.98892, saving model to ../model/AlexNet\\best-model.h5\n",
      "750/750 [==============================] - 13s 17ms/step - loss: 0.0362 - accuracy: 0.9910 - val_loss: 0.0510 - val_accuracy: 0.9889\n",
      "Epoch 7/20\n",
      "748/750 [============================>.] - ETA: 0s - loss: 0.0365 - accuracy: 0.9913\n",
      "Epoch 7: val_accuracy improved from 0.98892 to 0.98925, saving model to ../model/AlexNet\\best-model.h5\n",
      "750/750 [==============================] - 13s 17ms/step - loss: 0.0365 - accuracy: 0.9913 - val_loss: 0.0512 - val_accuracy: 0.9893\n",
      "Epoch 8/20\n",
      "749/750 [============================>.] - ETA: 0s - loss: 0.0352 - accuracy: 0.9913Restoring model weights from the end of the best epoch: 3.\n",
      "\n",
      "Epoch 8: val_accuracy did not improve from 0.98925\n",
      "750/750 [==============================] - 13s 17ms/step - loss: 0.0352 - accuracy: 0.9913 - val_loss: 0.0525 - val_accuracy: 0.9892\n",
      "Epoch 8: early stopping\n"
     ]
    }
   ],
   "source": [
    "history = model.fit(X_train, y_train, epochs=EPOCHS, callbacks=[es, mcp], batch_size=BATCH_SIZE, validation_split=VALIDATION_SPLIT)"
   ]
  },
  {
   "cell_type": "markdown",
   "metadata": {
    "pycharm": {
     "name": "#%% md\n"
    }
   },
   "source": [
    "## Test Model"
   ]
  },
  {
   "cell_type": "code",
   "execution_count": 30,
   "metadata": {
    "collapsed": false,
    "jupyter": {
     "outputs_hidden": false
    },
    "pycharm": {
     "name": "#%%\n"
    }
   },
   "outputs": [
    {
     "name": "stdout",
     "output_type": "stream",
     "text": [
      "313/313 [==============================] - 2s 5ms/step - loss: 0.0451 - accuracy: 0.9914\n",
      "Test loss: 0.045096591114997864\n",
      "Test accuracy: 0.9914000034332275\n"
     ]
    }
   ],
   "source": [
    "loaded_model = load_model(SAVE_DIR+'best-model.h5')\n",
    "loss, acc = loaded_model.evaluate(X_test, y_test)\n",
    "\n",
    "print('Test loss:', loss)\n",
    "print('Test accuracy:', acc)"
   ]
  },
  {
   "cell_type": "markdown",
   "metadata": {
    "pycharm": {
     "name": "#%% md\n"
    }
   },
   "source": [
    "## Save Model"
   ]
  },
  {
   "cell_type": "code",
   "execution_count": 31,
   "metadata": {
    "collapsed": false,
    "jupyter": {
     "outputs_hidden": false
    },
    "pycharm": {
     "name": "#%%\n"
    }
   },
   "outputs": [
    {
     "name": "stdout",
     "output_type": "stream",
     "text": [
      "Saved trained model at ../model/AlexNet/trained-model.h5 \n"
     ]
    }
   ],
   "source": [
    "model_name = 'trained-model.h5'\n",
    "\n",
    "# Save model and weights\n",
    "model_path = os.path.join(SAVE_DIR, model_name)\n",
    "model.save(model_path)\n",
    "print('Saved trained model at %s ' % model_path)"
   ]
  },
  {
   "cell_type": "markdown",
   "metadata": {
    "pycharm": {
     "name": "#%% md\n"
    }
   },
   "source": [
    "## Evaluation"
   ]
  },
  {
   "cell_type": "markdown",
   "metadata": {
    "pycharm": {
     "name": "#%% md\n"
    }
   },
   "source": [
    "### Loss / Accuracy"
   ]
  },
  {
   "cell_type": "code",
   "execution_count": 32,
   "metadata": {},
   "outputs": [
    {
     "data": {
      "image/png": "[encoded data removed]",
      "text/plain": [
       "<Figure size 432x288 with 1 Axes>"
      ]
     },
     "metadata": {
      "needs_background": "light"
     },
     "output_type": "display_data"
    }
   ],
   "source": [
    "fig, loss_ax = plt.subplots()\n",
    "\n",
    "loss_ax.plot(history.history['loss'], 'y', label='train loss')\n",
    "loss_ax.plot(history.history['val_loss'], 'r', label='val loss')\n",
    "\n",
    "loss_ax.set_xlabel('epoch')\n",
    "loss_ax.set_ylabel('loss')\n",
    "\n",
    "loss_ax.legend(loc='upper left')\n",
    "plt.show()"
   ]
  },
  {
   "cell_type": "code",
   "execution_count": 33,
   "metadata": {},
   "outputs": [
    {
     "data": {
      "image/png": "[encoded data removed]",
      "text/plain": [
       "<Figure size 432x288 with 1 Axes>"
      ]
     },
     "metadata": {
      "needs_background": "light"
     },
     "output_type": "display_data"
    }
   ],
   "source": [
    "fig, acc_ax = plt.subplots()\n",
    "\n",
    "acc_ax.plot(history.history['accuracy'], 'b', label='train acc')\n",
    "acc_ax.plot(history.history['val_accuracy'], 'g', label='val acc')\n",
    "\n",
    "acc_ax.set_xlabel('epoch')\n",
    "acc_ax.set_ylabel('accuracy')\n",
    "\n",
    "acc_ax.legend(loc='lower left')\n",
    "\n",
    "plt.show()"
   ]
  },
  {
   "cell_type": "code",
   "execution_count": 34,
   "metadata": {
    "collapsed": false,
    "jupyter": {
     "outputs_hidden": false
    },
    "pycharm": {
     "name": "#%%\n"
    }
   },
   "outputs": [],
   "source": [
    "# fig, loss_ax = plt.subplots()\n",
    "# acc_ax = loss_ax.twinx()\n",
    "\n",
    "# loss_ax.plot(history.history['loss'], 'y', label='train loss')\n",
    "# loss_ax.plot(history.history['val_loss'], 'r', label='val loss')\n",
    "\n",
    "# acc_ax.plot(history.history['accuracy'], 'b', label='train acc')\n",
    "# acc_ax.plot(history.history['val_accuracy'], 'g', label='val acc')\n",
    "\n",
    "# loss_ax.set_xlabel('epoch')\n",
    "# loss_ax.set_ylabel('loss')\n",
    "# acc_ax.set_ylabel('accuracy')\n",
    "\n",
    "# loss_ax.legend(loc='upper left')\n",
    "# acc_ax.legend(loc='lower left')\n",
    "\n",
    "# plt.show()"
   ]
  },
  {
   "cell_type": "markdown",
   "metadata": {
    "pycharm": {
     "name": "#%% md\n"
    }
   },
   "source": [
    "\n",
    "### Confusion matrix"
   ]
  },
  {
   "cell_type": "code",
   "execution_count": 35,
   "metadata": {
    "collapsed": false,
    "jupyter": {
     "outputs_hidden": false
    },
    "pycharm": {
     "name": "#%%\n"
    }
   },
   "outputs": [
    {
     "name": "stdout",
     "output_type": "stream",
     "text": [
      "313/313 [==============================] - 1s 4ms/step\n",
      "[7 2 1 ... 4 5 6]\n"
     ]
    }
   ],
   "source": [
    "y_pred = loaded_model.predict(X_test)\n",
    "y_pred = y_pred.argmax(axis=-1)\n",
    "print(y_pred)"
   ]
  },
  {
   "cell_type": "code",
   "execution_count": 36,
   "metadata": {
    "collapsed": false,
    "jupyter": {
     "outputs_hidden": false
    },
    "pycharm": {
     "name": "#%%\n"
    }
   },
   "outputs": [
    {
     "name": "stdout",
     "output_type": "stream",
     "text": [
      "[[ 975    0    0    0    0    2    1    2    0    0]\n",
      " [   3 1127    0    2    1    0    0    2    0    0]\n",
      " [   1    2 1023    1    0    0    0    4    1    0]\n",
      " [   0    0    0 1001    0    7    0    1    1    0]\n",
      " [   0    0    0    0  978    0    0    0    0    4]\n",
      " [   0    0    0    2    0  888    1    1    0    0]\n",
      " [   2    3    0    0    3    2  948    0    0    0]\n",
      " [   0    3    1    0    0    0    0 1022    0    2]\n",
      " [   3    0    2    2    0    7    0    2  956    2]\n",
      " [   0    0    0    0    5    2    0    5    1  996]]\n"
     ]
    },
    {
     "data": {
      "image/png": "[encoded data removed]",
      "text/plain": [
       "<Figure size 864x720 with 2 Axes>"
      ]
     },
     "metadata": {
      "needs_background": "light"
     },
     "output_type": "display_data"
    }
   ],
   "source": [
    "# constant for classes\n",
    "classes = ('0', '1', '2', '3', '4', '5', '6', '7', '8', '9')\n",
    "\n",
    "# Build confusion matrix\n",
    "cf_matrix = confusion_matrix(y_test, y_pred)\n",
    "print(cf_matrix)\n",
    "df_cm = pd.DataFrame(cf_matrix/cf_matrix.sum(axis=1).reshape(10, 1), index = [i for i in classes],\n",
    "                     columns = [i for i in classes])\n",
    "plt.figure(figsize = (12,10))\n",
    "sn.heatmap(df_cm, annot=True, cmap='Blues')\n",
    "plt.savefig(SAVE_DIR + 'output.png')"
   ]
  },
  {
   "cell_type": "markdown",
   "metadata": {
    "pycharm": {
     "name": "#%% md\n"
    }
   },
   "source": [
    "### precision, recall, f1 score"
   ]
  },
  {
   "cell_type": "code",
   "execution_count": 37,
   "metadata": {
    "collapsed": false,
    "jupyter": {
     "outputs_hidden": false
    },
    "pycharm": {
     "name": "#%%\n"
    }
   },
   "outputs": [
    {
     "name": "stdout",
     "output_type": "stream",
     "text": [
      "accuracy_score:  0.9914\n",
      "precision_score:  0.9913228270902772\n",
      "recall_score:  0.9914020529366562\n",
      "f1_score:  0.9913415338185736\n"
     ]
    }
   ],
   "source": [
    "acc_score = accuracy_score(y_test, y_pred)\n",
    "prec_score = precision_score(y_test, y_pred, average='macro')\n",
    "re_score = recall_score(y_test, y_pred, average='macro')\n",
    "f1_score_s = f1_score(y_test, y_pred, average='macro')\n",
    "print(\"accuracy_score: \", acc_score)\n",
    "print(\"precision_score: \", prec_score)\n",
    "print(\"recall_score: \", re_score)\n",
    "print(\"f1_score: \", f1_score_s)"
   ]
  },
  {
   "cell_type": "markdown",
   "metadata": {
    "pycharm": {
     "name": "#%% md\n"
    }
   },
   "source": [
    "## Load Model"
   ]
  },
  {
   "cell_type": "code",
   "execution_count": 38,
   "metadata": {
    "collapsed": false,
    "jupyter": {
     "outputs_hidden": false
    },
    "pycharm": {
     "name": "#%%\n"
    }
   },
   "outputs": [],
   "source": [
    "model_name='trained-model.h5'\n",
    "model_path=os.path.join(LOAD_DIR, model_name)\n",
    "model=load_model(model_path)"
   ]
  },
  {
   "cell_type": "markdown",
   "metadata": {
    "pycharm": {
     "name": "#%% md\n"
    }
   },
   "source": [
    "## Predict"
   ]
  },
  {
   "cell_type": "code",
   "execution_count": 39,
   "metadata": {
    "collapsed": false,
    "jupyter": {
     "outputs_hidden": false
    },
    "pycharm": {
     "name": "#%%\n"
    }
   },
   "outputs": [
    {
     "name": "stdout",
     "output_type": "stream",
     "text": [
      "(60000, 28, 28, 1)\n",
      "(28, 28, 1)\n"
     ]
    }
   ],
   "source": [
    "print(X_train.shape, X_train[0].shape, sep='\\n')"
   ]
  },
  {
   "cell_type": "code",
   "execution_count": 40,
   "metadata": {
    "collapsed": false,
    "jupyter": {
     "outputs_hidden": false
    },
    "pycharm": {
     "name": "#%%\n"
    }
   },
   "outputs": [],
   "source": [
    "def predict_mnist(tensor, model):\n",
    "    sample=tf.reshape(tensor, [-1, 28, 28])\n",
    "    result_prob=model.predict(sample, verbose=0)\n",
    "    result=np.argmax(result_prob)\n",
    "    print(result)"
   ]
  },
  {
   "cell_type": "markdown",
   "metadata": {
    "pycharm": {
     "name": "#%% md\n"
    }
   },
   "source": [
    "5 클래스에 대한 예측"
   ]
  },
  {
   "cell_type": "code",
   "execution_count": 41,
   "metadata": {
    "collapsed": false,
    "jupyter": {
     "outputs_hidden": false
    },
    "pycharm": {
     "name": "#%%\n"
    }
   },
   "outputs": [
    {
     "data": {
      "image/png": "[encoded data removed]",
      "text/plain": [
       "<Figure size 432x288 with 1 Axes>"
      ]
     },
     "metadata": {
      "needs_background": "light"
     },
     "output_type": "display_data"
    }
   ],
   "source": [
    "plt.imshow(X_train[0], cmap='gray_r', interpolation='nearest')\n",
    "plt.show()"
   ]
  },
  {
   "cell_type": "code",
   "execution_count": 42,
   "metadata": {
    "collapsed": false,
    "jupyter": {
     "outputs_hidden": false
    },
    "pycharm": {
     "name": "#%%\n"
    }
   },
   "outputs": [
    {
     "name": "stdout",
     "output_type": "stream",
     "text": [
      "5\n"
     ]
    }
   ],
   "source": [
    "predict_mnist(X_train[0], model)"
   ]
  },
  {
   "cell_type": "markdown",
   "metadata": {
    "pycharm": {
     "name": "#%% md\n"
    }
   },
   "source": [
    " 0 클래스에 대한 예측"
   ]
  },
  {
   "cell_type": "code",
   "execution_count": 43,
   "metadata": {
    "collapsed": false,
    "jupyter": {
     "outputs_hidden": false
    },
    "pycharm": {
     "name": "#%%\n"
    }
   },
   "outputs": [
    {
     "data": {
      "image/png": "[encoded data removed]",
      "text/plain": [
       "<Figure size 432x288 with 1 Axes>"
      ]
     },
     "metadata": {
      "needs_background": "light"
     },
     "output_type": "display_data"
    }
   ],
   "source": [
    "plt.imshow(X_train[1], cmap='gray_r', interpolation='nearest')\n",
    "plt.show()"
   ]
  },
  {
   "cell_type": "code",
   "execution_count": 44,
   "metadata": {
    "collapsed": false,
    "jupyter": {
     "outputs_hidden": false
    },
    "pycharm": {
     "name": "#%%\n"
    }
   },
   "outputs": [
    {
     "name": "stdout",
     "output_type": "stream",
     "text": [
      "0\n"
     ]
    }
   ],
   "source": [
    "predict_mnist(X_train[1], model)"
   ]
  },
  {
   "cell_type": "code",
   "execution_count": null,
   "metadata": {},
   "outputs": [],
   "source": []
  }
 ],
 "metadata": {
  "kernelspec": {
   "display_name": "Python 3 (ipykernel)",
   "language": "python",
   "name": "python3"
  },
  "language_info": {
   "codemirror_mode": {
    "name": "ipython",
    "version": 3
   },
   "file_extension": ".py",
   "mimetype": "text/x-python",
   "name": "python",
   "nbconvert_exporter": "python",
   "pygments_lexer": "ipython3",
   "version": "3.9.12"
  }
 },
 "nbformat": 4,
 "nbformat_minor": 4
}
